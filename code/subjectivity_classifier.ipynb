{
 "cells": [
  {
   "cell_type": "code",
   "execution_count": 1,
   "metadata": {},
   "outputs": [],
   "source": [
    "import subprocess"
   ]
  },
  {
   "cell_type": "code",
   "execution_count": 14,
   "metadata": {},
   "outputs": [],
   "source": [
    "classifier_path = '/home/jwhan/subjectivity_classifier'\n",
    "data_path = '/home/jwhan/subjectivity_classifier/data/'\n",
    "command = 'cd '+ classifier_path + ';python3 -m subjectivity.classify_count < ' + data_path + '/random_text.txt'"
   ]
  },
  {
   "cell_type": "code",
   "execution_count": 15,
   "metadata": {},
   "outputs": [],
   "source": [
    "#classifier_path = '/home/jwhan/project/stanford_NER_subjectivity_classifier/subjectivity_classifier'\n",
    "#data_path = '/home/jwhan/project/stanford_NER_subjectivity_classifier/subjectivity_classifier/data/'\n",
    "#command = 'cd '+ classifier_path + ';python3 -m subjectivity.classify_count < ' + data_path + 'random_text.txt'"
   ]
  },
  {
   "cell_type": "code",
   "execution_count": 16,
   "metadata": {},
   "outputs": [],
   "source": [
    "output = subprocess.check_output([command], shell=True, encoding='utf-8')"
   ]
  },
  {
   "cell_type": "code",
   "execution_count": 17,
   "metadata": {},
   "outputs": [
    {
     "data": {
      "text/plain": [
       "'{\"objective_count\" :  9 ,\"subjective_count\" : 5 }\\n'"
      ]
     },
     "execution_count": 17,
     "metadata": {},
     "output_type": "execute_result"
    }
   ],
   "source": [
    "output"
   ]
  },
  {
   "cell_type": "code",
   "execution_count": 18,
   "metadata": {},
   "outputs": [],
   "source": [
    "from ast import literal_eval"
   ]
  },
  {
   "cell_type": "code",
   "execution_count": 19,
   "metadata": {},
   "outputs": [
    {
     "data": {
      "text/plain": [
       "{'objective_count': 9, 'subjective_count': 5}"
      ]
     },
     "execution_count": 19,
     "metadata": {},
     "output_type": "execute_result"
    }
   ],
   "source": [
    "subjectivity_count_dict = literal_eval(output)\n",
    "\n",
    "subjectivity_count_dict"
   ]
  },
  {
   "cell_type": "code",
   "execution_count": 20,
   "metadata": {},
   "outputs": [
    {
     "data": {
      "text/plain": [
       "dict"
      ]
     },
     "execution_count": 20,
     "metadata": {},
     "output_type": "execute_result"
    }
   ],
   "source": [
    "type(subjectivity_count_dict)"
   ]
  },
  {
   "cell_type": "code",
   "execution_count": null,
   "metadata": {},
   "outputs": [],
   "source": [
    "### 끝 ###"
   ]
  },
  {
   "cell_type": "code",
   "execution_count": 22,
   "metadata": {},
   "outputs": [
    {
     "data": {
      "text/plain": [
       "'{\"objective_count\" :  2 ,\"subjective_count\" : 2 }\\n'"
      ]
     },
     "execution_count": 22,
     "metadata": {},
     "output_type": "execute_result"
    }
   ],
   "source": [
    "text = \"Hello. My name is Jongwoo. Nice to meet you. I love you.\"\n",
    "classifier_path = '/home/jwhan/subjectivity_classifier'\n",
    "data_path = '/home/jwhan/subjectivity_classifier/data/'\n",
    "command = 'cd '+ classifier_path + ';python3 -m subjectivity.classify_count ' + text\n",
    "\n",
    "output = subprocess.check_output([command], shell=True, encoding='utf-8')\n",
    "\n",
    "output"
   ]
  },
  {
   "cell_type": "code",
   "execution_count": null,
   "metadata": {},
   "outputs": [],
   "source": [
    "##########"
   ]
  },
  {
   "cell_type": "code",
   "execution_count": 19,
   "metadata": {},
   "outputs": [],
   "source": [
    "output_list = output.split('\\n')"
   ]
  },
  {
   "cell_type": "code",
   "execution_count": 20,
   "metadata": {},
   "outputs": [
    {
     "data": {
      "text/plain": [
       "['{\\'subjective\\': [\\'[Unattributed editorial: \"The Hidden Message in the Chavez Downfall\"] .\\', \\'The price of crude had taken a dramatic upsurge in the aftermath of the ever-deteriorating Middle East crisis, the unilateral cut off of Iraqi oil by Saddam Hussein and similar threats by several other oil producing countries.\\', \\'Venezuela is an important oil producing nation since its oil directly impacts crude prices in international markets.\\', \\'In any event, it is more than apparent that the United States intends to play a conspicuous role and exert increasing pressure as far as the oil issue is concerned.\\', \\'It seems that by wielding its authority and exercising dictatorial powers as the world\\\\\\'s only superpower, the United States is determined to play a front and centre role in the intricate international game of oil prices and the free flow of this all-important strategic product otherwise known as the \"Black Gold\".\\'], \\'objective\\': [\"Oil prices took a sharp downward trend after the quiet semi-coup d\\'etat by the American affiliated Venezuelan army generals who deposed the popularly elected president of Venezuela Hugo Chavez on Friday.\", \\'The dethroning of Chavez by the Americans is a message that disobeying Uncle Sam would have cataclysmic consequences.\\', \\'The US had repeatedly asked Chavez and the Venezuelan government to increase the level of their oil output as well as exports.\\', \\'However, Chavez who is known for his ala Fidel Castro left-leaning anti-American philosophy had on a number of occasions rebuffed US requests for more oil exports.\\', \\'In direct response, the Americans, who preach democracy to the entire planet, recognizing that they could no longer tolerate someone like Chavez reverted to their old bullying and dictatorial tactics and arranged for an army coup by several avowed pro-American generals, who managed to remove Chavez from power in a few short hours.\\', \\'Venezuela is the third largest exporter of oil within OPEC and the fourth as far as worldwide production is concerned.\\', \\'There is very little doubt that Chavez did not voluntarily resign his office and was in fact removed from power by the army.\\', \"Evidently, during a phone conversation on Friday Chavez told his daughter that he was forced to resign and accept the army\\'s non-negotiable conditions.\", \\'The fall of Hugo Chavez in Caracas is a crystal-clear message and warning by the US to anyone in the world who is contemplating to use oil as a political tool in the future.\\']}',\n",
       " '']"
      ]
     },
     "execution_count": 20,
     "metadata": {},
     "output_type": "execute_result"
    }
   ],
   "source": [
    "output_list"
   ]
  },
  {
   "cell_type": "code",
   "execution_count": 15,
   "metadata": {},
   "outputs": [
    {
     "name": "stdout",
     "output_type": "stream",
     "text": [
      "1 OBJECTIVE SENTENCES:\n",
      "2 Oil prices took a sharp downward trend after the quiet semi-coup d'etat by the American affiliated Venezuelan army generals who deposed the popularly elected president of Venezuela Hugo Chavez on Friday.\n",
      "3 The dethroning of Chavez by the Americans is a message that disobeying Uncle Sam would have cataclysmic consequences.\n",
      "4 The US had repeatedly asked Chavez and the Venezuelan government to increase the level of their oil output as well as exports.\n",
      "5 However, Chavez who is known for his ala Fidel Castro left-leaning anti-American philosophy had on a number of occasions rebuffed US requests for more oil exports.\n",
      "6 In direct response, the Americans, who preach democracy to the entire planet, recognizing that they could no longer tolerate someone like Chavez reverted to their old bullying and dictatorial tactics and arranged for an army coup by several avowed pro-American generals, who managed to remove Chavez from power in a few short hours.\n",
      "7 Venezuela is the third largest exporter of oil within OPEC and the fourth as far as worldwide production is concerned.\n",
      "8 There is very little doubt that Chavez did not voluntarily resign his office and was in fact removed from power by the army.\n",
      "9 Evidently, during a phone conversation on Friday Chavez told his daughter that he was forced to resign and accept the army's non-negotiable conditions.\n",
      "10 The fall of Hugo Chavez in Caracas is a crystal-clear message and warning by the US to anyone in the world who is contemplating to use oil as a political tool in the future.\n",
      "12 SUBJECTIVE SENTENCES:\n",
      "13 [Unattributed editorial: \"The Hidden Message in the Chavez Downfall\"] .\n",
      "14 The price of crude had taken a dramatic upsurge in the aftermath of the ever-deteriorating Middle East crisis, the unilateral cut off of Iraqi oil by Saddam Hussein and similar threats by several other oil producing countries.\n",
      "15 Venezuela is an important oil producing nation since its oil directly impacts crude prices in international markets.\n",
      "16 In any event, it is more than apparent that the United States intends to play a conspicuous role and exert increasing pressure as far as the oil issue is concerned.\n",
      "17 It seems that by wielding its authority and exercising dictatorial powers as the world's only superpower, the United States is determined to play a front and centre role in the intricate international game of oil prices and the free flow of this all-important strategic product otherwise known as the \"Black Gold\".\n"
     ]
    }
   ],
   "source": [
    "objective_count = 0\n",
    "subjective_count = 0\n",
    "\n",
    "for idx, sentence in enumerate(output_list):\n",
    "    if len(sentence) == 0:\n",
    "        continue\n",
    "    \n",
    "    print(idx,sentence)"
   ]
  },
  {
   "cell_type": "code",
   "execution_count": null,
   "metadata": {},
   "outputs": [],
   "source": []
  }
 ],
 "metadata": {
  "kernelspec": {
   "display_name": "Python 3",
   "language": "python",
   "name": "python3"
  },
  "language_info": {
   "codemirror_mode": {
    "name": "ipython",
    "version": 3
   },
   "file_extension": ".py",
   "mimetype": "text/x-python",
   "name": "python",
   "nbconvert_exporter": "python",
   "pygments_lexer": "ipython3",
   "version": "3.6.9"
  }
 },
 "nbformat": 4,
 "nbformat_minor": 2
}
