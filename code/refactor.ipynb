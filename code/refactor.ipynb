{
 "cells": [
  {
   "cell_type": "code",
   "execution_count": 11,
   "metadata": {},
   "outputs": [
    {
     "name": "stderr",
     "output_type": "stream",
     "text": [
      "  0%|          | 0/2692 [00:20<?, ?it/s]\n"
     ]
    },
    {
     "ename": "TypeError",
     "evalue": "'str' object does not support item assignment",
     "output_type": "error",
     "traceback": [
      "\u001b[0;31m---------------------------------------------------------------------------\u001b[0m",
      "\u001b[0;31mTypeError\u001b[0m                                 Traceback (most recent call last)",
      "\u001b[0;32m<ipython-input-11-331d1696fe95>\u001b[0m in \u001b[0;36m<module>\u001b[0;34m\u001b[0m\n\u001b[1;32m     43\u001b[0m     \u001b[0moutput\u001b[0m \u001b[0;34m=\u001b[0m \u001b[0msubprocess\u001b[0m\u001b[0;34m.\u001b[0m\u001b[0mcheck_output\u001b[0m\u001b[0;34m(\u001b[0m\u001b[0;34m[\u001b[0m\u001b[0mcommand\u001b[0m\u001b[0;34m]\u001b[0m\u001b[0;34m,\u001b[0m \u001b[0mshell\u001b[0m\u001b[0;34m=\u001b[0m\u001b[0;32mTrue\u001b[0m\u001b[0;34m,\u001b[0m \u001b[0mencoding\u001b[0m\u001b[0;34m=\u001b[0m\u001b[0;34m'utf-8'\u001b[0m\u001b[0;34m)\u001b[0m\u001b[0;34m\u001b[0m\u001b[0;34m\u001b[0m\u001b[0m\n\u001b[1;32m     44\u001b[0m     \u001b[0msubjectivity_count_dict\u001b[0m \u001b[0;34m=\u001b[0m \u001b[0mliteral_eval\u001b[0m\u001b[0;34m(\u001b[0m\u001b[0moutput\u001b[0m\u001b[0;34m)\u001b[0m\u001b[0;34m\u001b[0m\u001b[0;34m\u001b[0m\u001b[0m\n\u001b[0;32m---> 45\u001b[0;31m     \u001b[0moutput\u001b[0m\u001b[0;34m[\u001b[0m\u001b[0;34m'ID'\u001b[0m\u001b[0;34m]\u001b[0m \u001b[0;34m=\u001b[0m \u001b[0mindex_id\u001b[0m\u001b[0;34m\u001b[0m\u001b[0;34m\u001b[0m\u001b[0m\n\u001b[0m\u001b[1;32m     46\u001b[0m \u001b[0;34m\u001b[0m\u001b[0m\n\u001b[1;32m     47\u001b[0m     \u001b[0;31m# Make dictionary to dataframe\u001b[0m\u001b[0;34m\u001b[0m\u001b[0;34m\u001b[0m\u001b[0;34m\u001b[0m\u001b[0m\n",
      "\u001b[0;31mTypeError\u001b[0m: 'str' object does not support item assignment"
     ]
    }
   ],
   "source": [
    "from nltk.tag import StanfordNERTagger\n",
    "import pandas as pd\n",
    "from tqdm import tqdm\n",
    "\n",
    "import subprocess\n",
    "from ast import literal_eval\n",
    "\n",
    "# Set path\n",
    "classifier_path = '/home/jwhan/subjectivity_classifier'\n",
    "data_path = '/home/jwhan/subjectivity_classifier/data/'\n",
    "\n",
    "# Load dataset\n",
    "df = pd.read_csv('./Random_Art_story_0.tsv', sep='\\t')\n",
    "\n",
    "# Make new dataframe to save the NER counts\n",
    "df_ner_count = pd.DataFrame(columns={'ID', 'LOCATION', 'PERSON', 'ORGANIZATION', \n",
    "                               'MONEY', 'PERCENT', 'DATE', 'TIME', \n",
    "                                'SUBJECTIVITY_COUNT', 'OBJECTIVITY_COUNT'})\n",
    "\n",
    "# Set stanford Name Entitiy Tagger\n",
    "st = StanfordNERTagger('/home/jwhan/project/stanford_NER_subjectivity_classifier/stanford-ner-2020-11-17/classifiers/english.muc.7class.distsim.crf.ser.gz')\n",
    "\n",
    "for idx, text in enumerate(tqdm(df['review'])):\n",
    "    # Stanford Named Entity Recognization\n",
    "    ner_tag_list = st.tag(text.split())\n",
    "    \n",
    "    index_id = df['ID'][idx]\n",
    "    tag_count_dict = {'ID':index_id, 'LOCATION':0, 'PERSON':0, 'ORGANIZATION':0, 'MONEY':0, \n",
    "                  'PERCENT':0, 'DATE':0, 'TIME':0, 'SUBJECTIVITY_COUNT' : 0, 'OBJECTIVITY_COUNT' : 0}\n",
    "     \n",
    "    \n",
    "    for word, tag in ner_tag_list:\n",
    "        if tag in tag_count_dict.keys():\n",
    "            tag_count_dict[tag] += 1\n",
    "    #text = text.replace(\"'\", \"\\'\")\n",
    "    #text = text.replace('\"', '\\\"')\n",
    "    \n",
    "    test = 'hi. My name is Jongwoo Mice to meet you.'\n",
    "    \n",
    "    # Subjectivity & Objectivity count\n",
    "    command = 'cd '+ classifier_path + ';python3 -m subjectivity.classify_count ' + test\n",
    "    \n",
    "    output = subprocess.check_output([command], shell=True, encoding='utf-8')\n",
    "    subjectivity_count_dict = literal_eval(output)\n",
    "    \n",
    "    #output['ID'] = index_id\n",
    "    \n",
    "    # Make dictionary to dataframe\n",
    "    df_ner_count = df_ner_count.append(tag_count_dict, ignore_index=True)\n",
    "    df_ner_count = df_ner_count.append(subjectivity_count_dict, ignore_index=True)\n",
    "    \n",
    "    if idx == 2:\n",
    "        break\n",
    "        \n",
    "df_ner_count"
   ]
  },
  {
   "cell_type": "code",
   "execution_count": 6,
   "metadata": {},
   "outputs": [
    {
     "name": "stdout",
     "output_type": "stream",
     "text": [
      "As an Artist, I work with mixed materials to produce three-dimensional artworks that are striking and distinctive in style. Borrowing elements from dance, fashion and world cultures my hand-drawn figures are decorated with textiles and recycled materials that have been manipulated by hand. To develop my work I am creating an exciting project that will include 8 large-scale pieces to exhibit in 2018. I have confirmed exhibitions in Central London at The Koppel Project and Circus in June; and I am currently researching 2 more venues. I explore dance in relation to textiles; how human beings occupy space while in motion and the shapes they create. I’ve looked into the relationship between costume and dance – in particular the movement of fabric whilst in motion and how costume influences the dancer’s routine. The inspiration behind this series will be contemporary circus and performance art. I will combine contrasting colours and patterns to create bold imagery. Project development During the exhibitions I am going to host artists’ talks and textile workshops that explore the versatility of collage to tell stories and communicate ideas. I have successfully put this into practise in an Arts Programme in Ghana. \\We all really loved the imagery from the workshop\\\" - British Council Ghana I am really passionate about my handcrafted artworks but recognise that I need help with production to take this new body of work to the next stage in its development. Your contribution will go towards:Materials: £1,000 (Fabric + Canvas + Stretchers + Adhesive)Production: £1,280 (Framing £800 + Scanning £480) Transport for artwork: £664 (incl Packaging £464)Workshop/Artist Talk: £280 (Chairs + Tables + Venue)Studio Rent: £450 (£90/month over course of events) Total = £3,674Amount requested = £2,000---**FEATURED REWARDS**Postcard (PLEDGE £10 OR MORE) Receive one of these postcards | selection made at random Art Cards (PLEDGE £25 OR MORE) Set of 3 | 5\\\"x7\\\" | Digitally printed artwork on textured paper with brown craft envelope Signed 5\\\"x7\\\" Daydreamer Print (PLEDGE £50 OR MORE) Signed 5\\\"x7\\\" Daydreamer Print | Digitally printed on textured paper (carbon captured paper in support of The Woodland Trust Project) Inspired by world cultures, this collage examines how African costume is adopted and adapted by the Diaspora. The use of the wax print fabric pays homage to the artist's Nigerian ancestry and design inspired by the traditional East African textiles she has encountered. The calming poise of Daydreamer emulates the East African woman, styled in a blue floor length Kitenge. Signed A4 Raffia Print (PLEDGE £85/£120 OR MORE) 21 x 29.7cm (A4) | Signed limited edition of 50 | Digitally printed 'Giclée' on Hahnemüle Photo Rag paper This collage examines how African costume is adopted and adapted by the Diaspora. The use of the wax print fabric pays homage to the artist's Nigerian ancestry and design inspired by the traditional West African textiles she has encountered. The jaunty stance of Raffia, styled in a vibrant orange boubou and matching head-dress, is an interpretation of Onome’s observations at social functions.\"\n"
     ]
    }
   ],
   "source": [
    "print(text)"
   ]
  },
  {
   "cell_type": "code",
   "execution_count": null,
   "metadata": {},
   "outputs": [],
   "source": []
  }
 ],
 "metadata": {
  "kernelspec": {
   "display_name": "Python 3",
   "language": "python",
   "name": "python3"
  },
  "language_info": {
   "codemirror_mode": {
    "name": "ipython",
    "version": 3
   },
   "file_extension": ".py",
   "mimetype": "text/x-python",
   "name": "python",
   "nbconvert_exporter": "python",
   "pygments_lexer": "ipython3",
   "version": "3.6.9"
  }
 },
 "nbformat": 4,
 "nbformat_minor": 2
}
