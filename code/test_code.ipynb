{
 "cells": [
  {
   "cell_type": "code",
   "execution_count": 7,
   "id": "2691ceb6",
   "metadata": {},
   "outputs": [],
   "source": [
    "import pandas as pd\n",
    "from nltk.tag import StanfordNERTagger\n",
    "import os\n",
    "from tqdm import tqdm"
   ]
  },
  {
   "cell_type": "code",
   "execution_count": 2,
   "id": "5a4f19b7",
   "metadata": {},
   "outputs": [],
   "source": [
    "# Alternatively to setting the CLASSPATH add the jar via their path:\n",
    "os.environ[\"CLASSPATH\"] = \"/Users/jongwoo/Desktop/Project/stanford_ner/stanford-ner.jar\""
   ]
  },
  {
   "cell_type": "code",
   "execution_count": 20,
   "id": "4a33f3ca",
   "metadata": {},
   "outputs": [],
   "source": [
    "# Load dataset\n",
    "path = '/Users/jongwoo/Desktop/Project/stanford_ner/'\n",
    "output_path = '/Users/jongwoo/Desktop/Project/stanford_ner/output_files/'\n",
    "\n",
    "df = pd.read_csv(path + 'data/story_full.tsv', sep='\\t')"
   ]
  },
  {
   "cell_type": "code",
   "execution_count": 5,
   "id": "b8877044",
   "metadata": {},
   "outputs": [],
   "source": [
    "# Set StanfordNERTagger\n",
    "st = StanfordNERTagger(path + 'classifiers/english.muc.7class.distsim.crf.ser.gz')"
   ]
  },
  {
   "cell_type": "code",
   "execution_count": 21,
   "id": "c097132c",
   "metadata": {},
   "outputs": [
    {
     "name": "stderr",
     "output_type": "stream",
     "text": [
      "  1%|          | 2/208 [00:05<08:48,  2.57s/it]\n"
     ]
    }
   ],
   "source": [
    "# Make dataframe to save the NER counts\n",
    "df_ner_count = pd.DataFrame(columns={'ID','LOCATION', 'PERSON', 'ORGANIZATION', \n",
    "                               'MONEY', 'PERCENT', 'DATE', 'TIME'})\n",
    "\n",
    "\n",
    "for idx, text in enumerate(tqdm(df['content'])):\n",
    "    ner_tag_list = st.tag(text.split())\n",
    "    \n",
    "    index_id = df['ID'][idx]\n",
    "    \n",
    "    tag_count_dict = {'ID':index_id, 'LOCATION':0, 'PERSON':0, 'ORGANIZATION':0, 'MONEY':0, \n",
    "                  'PERCENT':0, 'DATE':0, 'TIME':0}\n",
    "     \n",
    "    \n",
    "    for word, tag in ner_tag_list:\n",
    "        if tag in tag_count_dict.keys():\n",
    "            tag_count_dict[tag] += 1\n",
    "    \n",
    "    df_ner_count = df_ner_count.append(tag_count_dict, ignore_index=True)\n",
    "\n",
    "    if idx == 2:\n",
    "        break\n",
    "    \n",
    "#df_ner_count\n",
    "\n",
    "df_new = pd.merge(df, df_ner_count)\n",
    "\n",
    "df_new.to_csv(output_path + 'story_full_ner.tsv', sep='\\t')"
   ]
  },
  {
   "cell_type": "code",
   "execution_count": null,
   "id": "edc053ab",
   "metadata": {},
   "outputs": [],
   "source": []
  }
 ],
 "metadata": {
  "kernelspec": {
   "display_name": "Python 3",
   "language": "python",
   "name": "python3"
  },
  "language_info": {
   "codemirror_mode": {
    "name": "ipython",
    "version": 3
   },
   "file_extension": ".py",
   "mimetype": "text/x-python",
   "name": "python",
   "nbconvert_exporter": "python",
   "pygments_lexer": "ipython3",
   "version": "3.9.5"
  }
 },
 "nbformat": 4,
 "nbformat_minor": 5
}
