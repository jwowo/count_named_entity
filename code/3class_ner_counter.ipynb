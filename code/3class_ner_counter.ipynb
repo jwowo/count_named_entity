{
 "cells": [
  {
   "cell_type": "code",
   "execution_count": 1,
   "id": "4d5479a4",
   "metadata": {},
   "outputs": [],
   "source": [
    "import pandas as pd\n",
    "from nltk.tag import StanfordNERTagger\n",
    "import os\n",
    "from tqdm import tqdm\n",
    "\n",
    "# Alternatively to setting the CLASSPATH add the jar via their path:\n",
    "os.environ[\"CLASSPATH\"] = \"../stanford-ner.jar\"\n",
    "\n",
    "# Set Path\n",
    "#path = '/Users/Jongwoo/Desktop/NER_subjectivity'\n",
    "path = '../'\n",
    "data_path = '/Users/Jongwoo/Desktop/NER_subjectivity/'\n",
    "output_path = '../output_files/'\n",
    "\n",
    "# Set StanfordNERTagger\n",
    "st = StanfordNERTagger(path + 'classifiers/english.muc.7class.distsim.crf.ser.gz')\n",
    "\n",
    "# Set data name list\n",
    "data_list = ['b_comment_full', 'c_comment_full', 'full_comment_full', 'full_text_full', 'story_full', 'update_full']\n",
    "#data_list = ['c_comment_full', 'update_full', 'story_full']"
   ]
  },
  {
   "cell_type": "code",
   "execution_count": null,
   "id": "6fed86b8",
   "metadata": {},
   "outputs": [
    {
     "name": "stderr",
     "output_type": "stream",
     "text": [
      "\r",
      "  0%|          | 0/208 [00:00<?, ?it/s]"
     ]
    },
    {
     "name": "stdout",
     "output_type": "stream",
     "text": [
      "(208, 5)\n",
      "Start counting... b_comment_full\n"
     ]
    }
   ],
   "source": [
    "for data in data_list:\n",
    "    df = pd.read_csv(data_path + data + '_ner_subjectivity_count.tsv',\n",
    "                     sep='\\t', usecols=['ID', 'success_or_fail', 'content', 'objective_count', 'subjective_count'])\n",
    "\n",
    "    print(df.shape)\n",
    "\n",
    "    print('Start counting...', data)\n",
    "\n",
    "    # Make dataframe to save the NER counts\n",
    "    df_ner_count = pd.DataFrame(columns={'ID','LOCATION', 'PERSON', 'ORGANIZATION', \n",
    "                                             'MONEY', 'PERCENT', 'DATE', 'TIME'})\n",
    "\n",
    "\n",
    "    df_ner_count = pd.DataFrame()\n",
    "\n",
    "    for idx, text in enumerate(tqdm(df['content'])):\n",
    "        ner_tag_list = st.tag(text.split())\n",
    "\n",
    "        index_id = df['ID'][idx]\n",
    "        #print(index_id)\n",
    "\n",
    "        tag_count_dict = {'ID':index_id, 'LOCATION':0, 'PERSON':0, 'ORGANIZATION':0, 'MONEY':0, \n",
    "                              'PERCENT':0, 'DATE':0, 'TIME':0}\n",
    "\n",
    "        for word, tag in ner_tag_list:\n",
    "            if tag in tag_count_dict.keys():\n",
    "                tag_count_dict[tag] += 1\n",
    "\n",
    "        df_ner_count = df_ner_count.append(tag_count_dict, ignore_index=True)\n",
    "\n",
    "    df_new = pd.merge(df, df_ner_count)\n",
    "\n",
    "    df_new.to_csv(data_path + data + '_3class_ner_subjectivity_count.tsv', sep='\\t', index=False)\n"
   ]
  },
  {
   "cell_type": "code",
   "execution_count": null,
   "id": "a1410f1d",
   "metadata": {},
   "outputs": [],
   "source": []
  }
 ],
 "metadata": {
  "kernelspec": {
   "display_name": "Python 3",
   "language": "python",
   "name": "python3"
  },
  "language_info": {
   "codemirror_mode": {
    "name": "ipython",
    "version": 3
   },
   "file_extension": ".py",
   "mimetype": "text/x-python",
   "name": "python",
   "nbconvert_exporter": "python",
   "pygments_lexer": "ipython3",
   "version": "3.6.1"
  }
 },
 "nbformat": 4,
 "nbformat_minor": 5
}
