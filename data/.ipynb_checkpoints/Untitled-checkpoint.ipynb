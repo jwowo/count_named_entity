{
 "cells": [
  {
   "cell_type": "code",
   "execution_count": 1,
   "id": "510d7b98",
   "metadata": {},
   "outputs": [],
   "source": [
    "import pandas as pd"
   ]
  },
  {
   "cell_type": "code",
   "execution_count": 2,
   "id": "62125795",
   "metadata": {},
   "outputs": [
    {
     "data": {
      "text/html": [
       "<div>\n",
       "<style scoped>\n",
       "    .dataframe tbody tr th:only-of-type {\n",
       "        vertical-align: middle;\n",
       "    }\n",
       "\n",
       "    .dataframe tbody tr th {\n",
       "        vertical-align: top;\n",
       "    }\n",
       "\n",
       "    .dataframe thead th {\n",
       "        text-align: right;\n",
       "    }\n",
       "</style>\n",
       "<table border=\"1\" class=\"dataframe\">\n",
       "  <thead>\n",
       "    <tr style=\"text-align: right;\">\n",
       "      <th></th>\n",
       "      <th>ID</th>\n",
       "      <th>success_or_fail</th>\n",
       "      <th>content</th>\n",
       "    </tr>\n",
       "  </thead>\n",
       "  <tbody>\n",
       "    <tr>\n",
       "      <th>0</th>\n",
       "      <td>ambiolight-a-one-touch-room-makeover</td>\n",
       "      <td>0</td>\n",
       "      <td></td>\n",
       "    </tr>\n",
       "    <tr>\n",
       "      <th>1</th>\n",
       "      <td>arc-island-a-brave-new-civilization</td>\n",
       "      <td>0</td>\n",
       "      <td></td>\n",
       "    </tr>\n",
       "    <tr>\n",
       "      <th>2</th>\n",
       "      <td>asylum-playing-cards</td>\n",
       "      <td>1</td>\n",
       "      <td>Only 25 Hours left to GO until production begi...</td>\n",
       "    </tr>\n",
       "    <tr>\n",
       "      <th>3</th>\n",
       "      <td>code-hero-a-game-that-teaches-you-to-make-game...</td>\n",
       "      <td>1</td>\n",
       "      <td>From the project coordinator: GOODBYES Hi ever...</td>\n",
       "    </tr>\n",
       "    <tr>\n",
       "      <th>4</th>\n",
       "      <td>dark-skyes-an-epic-brony-dating-sim</td>\n",
       "      <td>0</td>\n",
       "      <td>We've gotten a lot of messages from people ask...</td>\n",
       "    </tr>\n",
       "    <tr>\n",
       "      <th>...</th>\n",
       "      <td>...</td>\n",
       "      <td>...</td>\n",
       "      <td>...</td>\n",
       "    </tr>\n",
       "    <tr>\n",
       "      <th>203</th>\n",
       "      <td>junkyard-glass</td>\n",
       "      <td>1</td>\n",
       "      <td>JUNKYARD GLASS AKA RECUPERO IS NOW FEATURED IN...</td>\n",
       "    </tr>\n",
       "    <tr>\n",
       "      <th>204</th>\n",
       "      <td>handspun-single-sheep-breed-yarns</td>\n",
       "      <td>1</td>\n",
       "      <td>Ok so where are we with shipping? As of today ...</td>\n",
       "    </tr>\n",
       "    <tr>\n",
       "      <th>205</th>\n",
       "      <td>tgt-tight-a-new-kind-of-wallet</td>\n",
       "      <td>1</td>\n",
       "      <td>I hope everyone is having a great holiday seas...</td>\n",
       "    </tr>\n",
       "    <tr>\n",
       "      <th>206</th>\n",
       "      <td>picobrew-zymatic-the-automatic-beer-brewing-ap...</td>\n",
       "      <td>1</td>\n",
       "      <td>Hi Zymatic Backers! We know it’s been a while ...</td>\n",
       "    </tr>\n",
       "    <tr>\n",
       "      <th>207</th>\n",
       "      <td>the-espro-press</td>\n",
       "      <td>1</td>\n",
       "      <td>Hello to all our previous backers and widespre...</td>\n",
       "    </tr>\n",
       "  </tbody>\n",
       "</table>\n",
       "<p>208 rows × 3 columns</p>\n",
       "</div>"
      ],
      "text/plain": [
       "                                                    ID  success_or_fail  \\\n",
       "0                 ambiolight-a-one-touch-room-makeover                0   \n",
       "1                  arc-island-a-brave-new-civilization                0   \n",
       "2                                 asylum-playing-cards                1   \n",
       "3    code-hero-a-game-that-teaches-you-to-make-game...                1   \n",
       "4                  dark-skyes-an-epic-brony-dating-sim                0   \n",
       "..                                                 ...              ...   \n",
       "203                                     junkyard-glass                1   \n",
       "204                  handspun-single-sheep-breed-yarns                1   \n",
       "205                     tgt-tight-a-new-kind-of-wallet                1   \n",
       "206  picobrew-zymatic-the-automatic-beer-brewing-ap...                1   \n",
       "207                                    the-espro-press                1   \n",
       "\n",
       "                                               content  \n",
       "0                                                       \n",
       "1                                                       \n",
       "2    Only 25 Hours left to GO until production begi...  \n",
       "3    From the project coordinator: GOODBYES Hi ever...  \n",
       "4    We've gotten a lot of messages from people ask...  \n",
       "..                                                 ...  \n",
       "203  JUNKYARD GLASS AKA RECUPERO IS NOW FEATURED IN...  \n",
       "204  Ok so where are we with shipping? As of today ...  \n",
       "205  I hope everyone is having a great holiday seas...  \n",
       "206  Hi Zymatic Backers! We know it’s been a while ...  \n",
       "207  Hello to all our previous backers and widespre...  \n",
       "\n",
       "[208 rows x 3 columns]"
      ]
     },
     "execution_count": 2,
     "metadata": {},
     "output_type": "execute_result"
    }
   ],
   "source": [
    "df_u = pd.read_csv('./update_full.tsv', sep='\\t')\n",
    "\n",
    "df_u"
   ]
  },
  {
   "cell_type": "code",
   "execution_count": 3,
   "id": "6942e4bf",
   "metadata": {},
   "outputs": [
    {
     "ename": "SyntaxError",
     "evalue": "invalid syntax (<ipython-input-3-844a3ea99f38>, line 3)",
     "output_type": "error",
     "traceback": [
      "\u001b[0;36m  File \u001b[0;32m\"<ipython-input-3-844a3ea99f38>\"\u001b[0;36m, line \u001b[0;32m3\u001b[0m\n\u001b[0;31m    for idx, text enumerate(tqdm(df['contenet'])):\u001b[0m\n\u001b[0m                          ^\u001b[0m\n\u001b[0;31mSyntaxError\u001b[0m\u001b[0;31m:\u001b[0m invalid syntax\n"
     ]
    }
   ],
   "source": [
    "import tqdm\n",
    "\n",
    "for idx, text in enumerate(tqdm(df['contenet'])):\n",
    "    print(text)"
   ]
  },
  {
   "cell_type": "code",
   "execution_count": null,
   "id": "ac9c48a7",
   "metadata": {},
   "outputs": [],
   "source": []
  }
 ],
 "metadata": {
  "kernelspec": {
   "display_name": "Python 3",
   "language": "python",
   "name": "python3"
  },
  "language_info": {
   "codemirror_mode": {
    "name": "ipython",
    "version": 3
   },
   "file_extension": ".py",
   "mimetype": "text/x-python",
   "name": "python",
   "nbconvert_exporter": "python",
   "pygments_lexer": "ipython3",
   "version": "3.6.1"
  }
 },
 "nbformat": 4,
 "nbformat_minor": 5
}
