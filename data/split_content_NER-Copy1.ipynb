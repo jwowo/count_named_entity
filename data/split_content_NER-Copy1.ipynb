{
 "cells": [
  {
   "cell_type": "code",
   "execution_count": 1,
   "id": "3ca71b20",
   "metadata": {},
   "outputs": [],
   "source": [
    "import pandas as pd"
   ]
  },
  {
   "cell_type": "code",
   "execution_count": 2,
   "id": "3f0f71cb",
   "metadata": {},
   "outputs": [
    {
     "data": {
      "text/html": [
       "<div>\n",
       "<style scoped>\n",
       "    .dataframe tbody tr th:only-of-type {\n",
       "        vertical-align: middle;\n",
       "    }\n",
       "\n",
       "    .dataframe tbody tr th {\n",
       "        vertical-align: top;\n",
       "    }\n",
       "\n",
       "    .dataframe thead th {\n",
       "        text-align: right;\n",
       "    }\n",
       "</style>\n",
       "<table border=\"1\" class=\"dataframe\">\n",
       "  <thead>\n",
       "    <tr style=\"text-align: right;\">\n",
       "      <th></th>\n",
       "      <th>ID</th>\n",
       "      <th>success_or_fail</th>\n",
       "      <th>content</th>\n",
       "    </tr>\n",
       "  </thead>\n",
       "  <tbody>\n",
       "    <tr>\n",
       "      <th>0</th>\n",
       "      <td>ambiolight-a-one-touch-room-makeover</td>\n",
       "      <td>0</td>\n",
       "      <td>It would seem that no matter what we tell you,...</td>\n",
       "    </tr>\n",
       "    <tr>\n",
       "      <th>1</th>\n",
       "      <td>arc-island-a-brave-new-civilization</td>\n",
       "      <td>0</td>\n",
       "      <td>A lot of people have been asking me why? Why w...</td>\n",
       "    </tr>\n",
       "    <tr>\n",
       "      <th>2</th>\n",
       "      <td>asylum-playing-cards</td>\n",
       "      <td>1</td>\n",
       "      <td>Hi guys! Surveys were sent only for the reward...</td>\n",
       "    </tr>\n",
       "    <tr>\n",
       "      <th>3</th>\n",
       "      <td>code-hero-a-game-that-teaches-you-to-make-game...</td>\n",
       "      <td>1</td>\n",
       "      <td>From the project coordinator: I'm deeply sorry...</td>\n",
       "    </tr>\n",
       "    <tr>\n",
       "      <th>4</th>\n",
       "      <td>dark-skyes-an-epic-brony-dating-sim</td>\n",
       "      <td>0</td>\n",
       "      <td>Hey backers and potential backers--don't let R...</td>\n",
       "    </tr>\n",
       "    <tr>\n",
       "      <th>...</th>\n",
       "      <td>...</td>\n",
       "      <td>...</td>\n",
       "      <td>...</td>\n",
       "    </tr>\n",
       "    <tr>\n",
       "      <th>203</th>\n",
       "      <td>junkyard-glass</td>\n",
       "      <td>1</td>\n",
       "      <td>You may use it for any food product. The glass...</td>\n",
       "    </tr>\n",
       "    <tr>\n",
       "      <th>204</th>\n",
       "      <td>handspun-single-sheep-breed-yarns</td>\n",
       "      <td>1</td>\n",
       "      <td>thank you so much!! im glad you liked it!! yes...</td>\n",
       "    </tr>\n",
       "    <tr>\n",
       "      <th>205</th>\n",
       "      <td>tgt-tight-a-new-kind-of-wallet</td>\n",
       "      <td>1</td>\n",
       "      <td>@Sammi! Thank you man! Great day to hear that ...</td>\n",
       "    </tr>\n",
       "    <tr>\n",
       "      <th>206</th>\n",
       "      <td>picobrew-zymatic-the-automatic-beer-brewing-ap...</td>\n",
       "      <td>1</td>\n",
       "      <td>Actually, we have to stick to plan and go in t...</td>\n",
       "    </tr>\n",
       "    <tr>\n",
       "      <th>207</th>\n",
       "      <td>the-espro-press</td>\n",
       "      <td>1</td>\n",
       "      <td>Thanks Stuart - we really appreciate the feedb...</td>\n",
       "    </tr>\n",
       "  </tbody>\n",
       "</table>\n",
       "<p>208 rows × 3 columns</p>\n",
       "</div>"
      ],
      "text/plain": [
       "                                                    ID  success_or_fail  \\\n",
       "0                 ambiolight-a-one-touch-room-makeover                0   \n",
       "1                  arc-island-a-brave-new-civilization                0   \n",
       "2                                 asylum-playing-cards                1   \n",
       "3    code-hero-a-game-that-teaches-you-to-make-game...                1   \n",
       "4                  dark-skyes-an-epic-brony-dating-sim                0   \n",
       "..                                                 ...              ...   \n",
       "203                                     junkyard-glass                1   \n",
       "204                  handspun-single-sheep-breed-yarns                1   \n",
       "205                     tgt-tight-a-new-kind-of-wallet                1   \n",
       "206  picobrew-zymatic-the-automatic-beer-brewing-ap...                1   \n",
       "207                                    the-espro-press                1   \n",
       "\n",
       "                                               content  \n",
       "0    It would seem that no matter what we tell you,...  \n",
       "1    A lot of people have been asking me why? Why w...  \n",
       "2    Hi guys! Surveys were sent only for the reward...  \n",
       "3    From the project coordinator: I'm deeply sorry...  \n",
       "4    Hey backers and potential backers--don't let R...  \n",
       "..                                                 ...  \n",
       "203  You may use it for any food product. The glass...  \n",
       "204  thank you so much!! im glad you liked it!! yes...  \n",
       "205  @Sammi! Thank you man! Great day to hear that ...  \n",
       "206  Actually, we have to stick to plan and go in t...  \n",
       "207  Thanks Stuart - we really appreciate the feedb...  \n",
       "\n",
       "[208 rows x 3 columns]"
      ]
     },
     "execution_count": 2,
     "metadata": {},
     "output_type": "execute_result"
    }
   ],
   "source": [
    "df_u = pd.read_csv('./full_comment_full.tsv', sep='\\t')\n",
    "\n",
    "df_u"
   ]
  },
  {
   "cell_type": "code",
   "execution_count": 14,
   "id": "20203fde",
   "metadata": {},
   "outputs": [
    {
     "name": "stderr",
     "output_type": "stream",
     "text": [
      " 35%|███▌      | 73/208 [00:00<00:00, 723.49it/s]"
     ]
    },
    {
     "name": "stdout",
     "output_type": "stream",
     "text": [
      "ambiolight-a-one-touch-room-makeover\n",
      "arc-island-a-brave-new-civilization\n",
      "asylum-playing-cards\n",
      "code-hero-a-game-that-teaches-you-to-make-games-he\n",
      "dark-skyes-an-epic-brony-dating-sim\n",
      "elementary-my-dear-holmes\n",
      "eye3\n",
      "eyeztm-by-zioneyez-hd-video-recording-glasses-for\n",
      "founders-playing-cards\n",
      "free-roll-machined-gamers-dice\n",
      "ifind-the-worlds-first-battery-free-item-locating\n",
      "kobe-red-100-japanese-beer-fed-kobe-beef-jerky\n",
      "last-year-5-vs-1-multiplayer-survival-horror\n",
      "learn-iphone-app-development\n",
      "mythic-the-story-of-gods-and-men\n",
      "ping-wallet-the-worlds-thinnest-smartest-wallet\n",
      "powerful-charger-multiple-devices-multiple-times-o\n",
      "scribble-a-revolutionary-pen-that-draws-in-any-col\n",
      "agent-the-worlds-smartest-watch\n",
      "cst-01-the-worlds-thinnest-watch\n",
      "the-official-otakon-super-beat-em-up-video-game\n",
      "haunts-the-manse-macabre\n",
      "lucitm-advanced-lucid-dream-inducer\n",
      "zano-autonomous-intelligent-swarming-nano-drone\n",
      "katalyka\n",
      "yufu-the-stylus-perfected-pressure-sensitive-fine\n",
      "iplifier-for-iphone-5\n",
      "icontrolpad-2-the-open-source-controller\n",
      "come-with-me-and-dance-in-the-fire\n",
      "ilumi-bottle-the-new-way-to-keep-hydrated\n",
      "spike-makes-the-iphone-as-easy-to-type-on-as-it-is\n",
      "keyonpod-the-most-beautiful-key-management-system\n",
      "crypteks-usbtm-encrypted-and-lockable-usb-solution\n",
      "spixi-a-better-way-to-charge-and-sync-your-iphone\n",
      "up-front-the-card-game\n",
      "hydra-dice-necron\n",
      "myidkey-passwords-at-the-tip-of-your-finger\n",
      "grapple-knight\n",
      "quantum-roleplaying-game-an-all-new-science-fantas\n",
      "chase-mason-affordable-designer-dress-shoes\n",
      "precision-machined-role-playing-dice-hyper-precisi\n",
      "the-elements-playing-cards\n",
      "super-arcade-project-2014\n",
      "control-vr-motion-capture-for-vr-animation-and-mor\n",
      "commuting-is-a-breeze-with-boolze\n",
      "dot-worlds-smallest-bluetooth-headset\n",
      "woodie-leather-and-wood-reversible-usb-charging-ca-0\n",
      "twins-edition-refined-bicycle-playing-cards-by-usp\n",
      "cable-keeper\n",
      "kolstom-classic-carbon-fiber-sunglasses\n",
      "stormtag-a-bluetooth-weather-station-on-your-keyri\n",
      "apollo-ap-1-tactical-flashlight\n",
      "sever-the-anti-villain-box\n",
      "commbadge-star-trek-inspired-wearable-communicator\n",
      "10-for-two-seedling-kits-as-holiday-gifts-early-bi\n",
      "mutator-mute-your-iphonewith-a-twist\n",
      "vachen-smartwatch\n",
      "miniature-ice-age-mammal-adventure-set\n",
      "28mm-miniature-sea-monsters-dungeon-terrain-and-bi\n",
      "mansion-lord-a-murder-mystery-rpg-business-sim\n",
      "soap-first-smart-router-w-touch-display-powered-by\n",
      "kickstart-blaque-sun\n",
      "dysis\n",
      "rain-0\n",
      "baboomi-a-customizable-and-comfortable-alarm\n",
      "the-carbone-a-100-carbon-fiber-wallet\n",
      "celtic-knot-ceilteach-revised\n",
      "the-sons-of-starcraft\n",
      "adcontrol-for-adfree-internet\n",
      "harvestgeek-brains-for-your-garden\n",
      "the-ayahuasca-project-the-jungle-prescription\n",
      "in-defense-of-fat-the-documentary\n",
      "zombie-stomp-the-game-by-team-frog-studios\n",
      "diabolic-fightin-words\n",
      "joey-360-4k-seamless-video-capture-broadcast-confe\n",
      "limited-edition-translation-of-osamu-tezukas-the-c\n",
      "matchstick-the-streaming-stick-built-on-firefox-os\n",
      "fibrofibers-expansion-more-nightfall-for-everyone\n",
      "a-victorian-adventure-custom-playing-cards-uspcc\n",
      "ringbow-next-generation-gaming-accessory\n",
      "moon-rift\n",
      "turbocharge-your-wireless-router-with-an-androidtm\n",
      "dash-the-smart-phone-car-stereo\n",
      "red-2\n",
      "vrase-the-smartphone-virtual-reality-case\n",
      "key-stak-the-only-key-organizer-with-a-built-in-fl\n",
      "waldok-wall-plug-in-speaker-charger-for-the-ipod-n\n",
      "foundation-dock-the-new-home-for-your-iphone\n",
      "zopro-incredibly-thin-case-integrated-charging-iph\n",
      "the-infection-simulation\n",
      "nuia-eyecharm-kinect-to-eye-tracking\n",
      "vertus-same-bluetooth-audio-on-two-different-speak\n",
      "meet-syre-the-worlds-first-bluetooth-ipod-nano-wat\n",
      "hp-lovecrafts-wonderland\n",
      "ncaa-football-game-for-xbox-360-and-playstation-3\n",
      "bluetooth-earbuds-w-magnetic-docking-made-in-usa\n",
      "mprinter-an-analog-printer-for-a-digital-world\n",
      "eye-take-your-phone-to-the-next-level\n",
      "ca7ch-lightbox\n",
      "dashbot-a-49-robot-for-your-dashboard\n",
      "half-life-3\n",
      "aura-tactics\n",
      "shining-empire\n",
      "unwritten-that-which-happened\n",
      "airdog-worlds-first-auto-follow-action-sports-dron\n",
      "moff-a-wearable-smart-toy-changes-everything-into\n",
      "camera-lucida-reinvented-the-new-old-masters-drawi\n",
      "ir-blue-thermal-imaging-smartphone-accessory\n",
      "archt-one-revolutionary-wireless-audio-system-for\n",
      "a-mobile-personal-theater-with-built-in-premium-au\n",
      "beam-the-smart-projector-that-fits-in-any-light-so\n",
      "remee-the-rem-enhancing-lucid-dreaming-mask\n",
      "sammy-screamer-motion-alarm\n",
      "the-hydration-shirt\n",
      "bolt-portable-usb-battery-backup-with-built-in-wal\n",
      "knut-stay-connected\n",
      "thermodo-the-tiny-thermometer-for-mobile-devices\n",
      "flex-versatility-kit-for-ipad-2\n",
      "space-monkey-taking-the-cloud-out-of-the-datacente\n",
      "plug-the-brain-of-your-devices\n",
      "12-in-1-connect-charlie-safely-charges-all-your-de\n",
      "buko-3d-printer-raising-the-bar-of-open-source-3d\n",
      "digispark-the-tiny-arduino-enabled-usb-dev-board\n",
      "waterstrider-perfect-footage-confident-landings-an\n",
      "electric-objects-a-computer-made-for-art\n",
      "timelapse-powerful-features-brilliant-timelapse\n",
      "candle-charger-emergency-power-generator-for-smart\n",
      "wigwag-scan-it-control-it-rule-it-share-it\n",
      "twine-listen-to-your-world-talk-to-the-internet\n",
      "jamstik-the-smartguitar\n",
      "bolt2-worlds-smallest-24a-battery-backup-wall-char\n",
      "hydra-a-triple-output-power-supply-for-electronics\n",
      "god-hates-charades-this-game-makes-your-friends-fu\n",
      "brew-bracket-a-beer-tasting-tournament-kit\n",
      "glory-to-rome-black-box-edition-rome-demands-beaut\n",
      "the-dead-linger\n",
      "blood-rage\n",
      "poor-choices-the-game\n",
      "forsaken-fortress\n",
      "serpents-tongue-a-new-magick-experience\n",
      "the-builders-of-blankenburg\n",
      "the-crystal-catacombs\n",
      "joking-hazard\n",
      "whispering-willows-horror-puzzle-game-for-ouya-and\n",
      "vivajava-the-coffee-game\n",
      "salem-a-strategic-card-game-of-deception-for-4-12\n",
      "bears-vs-babies-a-card-game\n",
      "full-bore-an-underground-puzzle-adventure\n",
      "spine\n",
      "secrets-of-the-lost-tomb\n",
      "meepillows-an-assortment-of-colorful-large-plush-m\n",
      "race-the-sun-endless-racer-with-mod-tools-and-mult\n",
      "wasteland-2\n"
     ]
    },
    {
     "name": "stderr",
     "output_type": "stream",
     "text": [
      "100%|██████████| 208/208 [00:00<00:00, 810.89it/s]"
     ]
    },
    {
     "name": "stdout",
     "output_type": "stream",
     "text": [
      "battle-worlds-kronos-turn-based-strategy-revisited\n",
      "smart-money-maker-a-collaborative-card-game\n",
      "make-leisure-suit-larry-come-again\n",
      "darkrock-ventures-asteroid-mining-in-deep-space-bo\n",
      "cards-against-humanity\n",
      "meriwether-an-american-epic\n",
      "guns-of-icarus-online\n",
      "card-caddy-double-decker\n",
      "the-next-big-thing-1-board-game-for-entrepreneursh\n",
      "mobscenity-the-totally-up-party-game\n",
      "delvers-drop\n",
      "lightseekers\n",
      "project-giana\n",
      "shotbox-20-the-pop-up-photo-light-studio-upgraded\n",
      "collar-perfect-let-us-iron-out-the-wrinkles-in-you\n",
      "c-dock\n",
      "whiskey-rox-beverage-chilling-stones\n",
      "touchfire-the-screen-top-keyboard-for-ipad\n",
      "blink-steady-the-bike-light-youve-been-waiting-for\n",
      "the-fred-water-flask-more-water-less-sugar\n",
      "diy-full-color-hologram-kit-from-litiholo\n",
      "sushiquik-making-sushi-has-never-been-this-easy\n",
      "bike-rack-storage-solution-for-your-home-by-trophy\n",
      "litographs-entire-books-on-posters-and-t-shirts\n",
      "halfbike\n",
      "introducing-kapotas-the-ultimate-minimalist-wallet\n",
      "bloom-blanket\n",
      "sensu-brush-a-true-painting-experience-on-your-ipa\n",
      "izen-bamboo-keyboard\n",
      "melon-a-headband-and-mobile-app-to-measure-your-fo\n",
      "morning-head-be-ready-in-5-seconds\n",
      "corter-leather-bottle-hook\n",
      "a-leash-that-doesnt-feel-like-a-leash\n",
      "arqball-spin-3d-for-everyone\n",
      "the-picosteady-video-camera-stabilizer\n",
      "go-comb-fit-for-your-wallet\n",
      "noclean-aquariumstm-self-cleaning-aquarium-for-bet\n",
      "mynt-nimble-remote-for-smart-devices\n",
      "poppy-turn-your-iphone-into-a-3d-camera-0\n",
      "the-x-pen-a-carbon-fiber-writing-tool\n",
      "bia-the-first-gps-sports-watch-for-womenby-women\n",
      "the-doubleclicks-new-album-president-snakes\n",
      "the-drummers-of-twisted-gypsy-our-first-album\n",
      "finding-vivian-maier-a-feature-length-documentary\n",
      "welcome-to-leith-feature-documentary\n",
      "blue-ruin\n",
      "canary-in-a-coal-mine\n",
      "poorcraft-wish-you-were-here\n",
      "the-black-well-a-new-graphic-novel-by-jamie-tanner\n",
      "basewood\n",
      "junkyard-glass\n",
      "handspun-single-sheep-breed-yarns\n",
      "tgt-tight-a-new-kind-of-wallet\n",
      "picobrew-zymatic-the-automatic-beer-brewing-applia\n",
      "the-espro-press\n"
     ]
    },
    {
     "name": "stderr",
     "output_type": "stream",
     "text": [
      "\n"
     ]
    }
   ],
   "source": [
    "from tqdm import tqdm\n",
    "\n",
    "for idx, text in enumerate(tqdm(df_u['content'])):\n",
    "    print(df_u['ID'][idx])\n",
    "    \n",
    "    idx_id = df_u['ID'][idx]\n",
    "    \n",
    "    \n",
    "    f = open('./full_text_full/' + idx_id +'.txt', 'w', encoding='utf-8')\n",
    "    f.write(text)\n",
    "    f.close()"
   ]
  },
  {
   "cell_type": "code",
   "execution_count": null,
   "id": "e8172ca4",
   "metadata": {},
   "outputs": [
    {
     "name": "stderr",
     "output_type": "stream",
     "text": [
      "\r",
      "  0%|          | 0/208 [00:00<?, ?it/s]"
     ]
    },
    {
     "name": "stdout",
     "output_type": "stream",
     "text": [
      "ambiolight-a-one-touch-room-makeover\n"
     ]
    },
    {
     "name": "stderr",
     "output_type": "stream",
     "text": [
      "\r",
      "  0%|          | 1/208 [00:02<09:46,  2.83s/it]"
     ]
    },
    {
     "name": "stdout",
     "output_type": "stream",
     "text": [
      "arc-island-a-brave-new-civilization\n"
     ]
    },
    {
     "name": "stderr",
     "output_type": "stream",
     "text": [
      "\r",
      "  1%|          | 2/208 [00:05<09:44,  2.84s/it]"
     ]
    },
    {
     "name": "stdout",
     "output_type": "stream",
     "text": [
      "asylum-playing-cards\n"
     ]
    },
    {
     "name": "stderr",
     "output_type": "stream",
     "text": [
      "\r",
      "  1%|▏         | 3/208 [00:09<10:49,  3.17s/it]"
     ]
    },
    {
     "name": "stdout",
     "output_type": "stream",
     "text": [
      "code-hero-a-game-that-teaches-you-to-make-games-he\n"
     ]
    },
    {
     "name": "stderr",
     "output_type": "stream",
     "text": [
      "\r",
      "  2%|▏         | 4/208 [00:15<14:42,  4.32s/it]"
     ]
    },
    {
     "name": "stdout",
     "output_type": "stream",
     "text": [
      "dark-skyes-an-epic-brony-dating-sim\n"
     ]
    },
    {
     "name": "stderr",
     "output_type": "stream",
     "text": [
      "\r",
      "  2%|▏         | 5/208 [00:18<13:28,  3.98s/it]"
     ]
    },
    {
     "name": "stdout",
     "output_type": "stream",
     "text": [
      "elementary-my-dear-holmes\n"
     ]
    },
    {
     "name": "stderr",
     "output_type": "stream",
     "text": [
      "\r",
      "  3%|▎         | 6/208 [00:23<14:39,  4.35s/it]"
     ]
    },
    {
     "name": "stdout",
     "output_type": "stream",
     "text": [
      "eye3\n"
     ]
    },
    {
     "name": "stderr",
     "output_type": "stream",
     "text": [
      "\r",
      "  3%|▎         | 7/208 [00:26<13:00,  3.89s/it]"
     ]
    },
    {
     "name": "stdout",
     "output_type": "stream",
     "text": [
      "eyeztm-by-zioneyez-hd-video-recording-glasses-for\n"
     ]
    },
    {
     "name": "stderr",
     "output_type": "stream",
     "text": [
      "\r",
      "  4%|▍         | 8/208 [00:34<17:19,  5.20s/it]"
     ]
    },
    {
     "name": "stdout",
     "output_type": "stream",
     "text": [
      "founders-playing-cards\n"
     ]
    },
    {
     "name": "stderr",
     "output_type": "stream",
     "text": [
      "\r",
      "  4%|▍         | 9/208 [00:39<17:07,  5.16s/it]"
     ]
    },
    {
     "name": "stdout",
     "output_type": "stream",
     "text": [
      "free-roll-machined-gamers-dice\n"
     ]
    },
    {
     "name": "stderr",
     "output_type": "stream",
     "text": [
      "\r",
      "  5%|▍         | 10/208 [00:42<14:54,  4.52s/it]"
     ]
    },
    {
     "name": "stdout",
     "output_type": "stream",
     "text": [
      "ifind-the-worlds-first-battery-free-item-locating\n"
     ]
    },
    {
     "name": "stderr",
     "output_type": "stream",
     "text": [
      "\r",
      "  5%|▌         | 11/208 [00:52<19:44,  6.01s/it]"
     ]
    },
    {
     "name": "stdout",
     "output_type": "stream",
     "text": [
      "kobe-red-100-japanese-beer-fed-kobe-beef-jerky\n"
     ]
    },
    {
     "name": "stderr",
     "output_type": "stream",
     "text": [
      "\r",
      "  6%|▌         | 12/208 [00:56<18:08,  5.55s/it]"
     ]
    },
    {
     "name": "stdout",
     "output_type": "stream",
     "text": [
      "last-year-5-vs-1-multiplayer-survival-horror\n"
     ]
    },
    {
     "name": "stderr",
     "output_type": "stream",
     "text": [
      "\r",
      "  6%|▋         | 13/208 [01:02<17:58,  5.53s/it]"
     ]
    },
    {
     "name": "stdout",
     "output_type": "stream",
     "text": [
      "learn-iphone-app-development\n"
     ]
    },
    {
     "name": "stderr",
     "output_type": "stream",
     "text": [
      "\r",
      "  7%|▋         | 14/208 [01:07<17:23,  5.38s/it]"
     ]
    },
    {
     "name": "stdout",
     "output_type": "stream",
     "text": [
      "mythic-the-story-of-gods-and-men\n"
     ]
    },
    {
     "name": "stderr",
     "output_type": "stream",
     "text": [
      "\r",
      "  7%|▋         | 15/208 [01:09<14:41,  4.57s/it]"
     ]
    },
    {
     "name": "stdout",
     "output_type": "stream",
     "text": [
      "ping-wallet-the-worlds-thinnest-smartest-wallet\n"
     ]
    },
    {
     "name": "stderr",
     "output_type": "stream",
     "text": [
      "\r",
      "  8%|▊         | 16/208 [01:14<14:37,  4.57s/it]"
     ]
    },
    {
     "name": "stdout",
     "output_type": "stream",
     "text": [
      "powerful-charger-multiple-devices-multiple-times-o\n"
     ]
    },
    {
     "name": "stderr",
     "output_type": "stream",
     "text": [
      "\r",
      "  8%|▊         | 17/208 [01:17<13:11,  4.14s/it]"
     ]
    },
    {
     "name": "stdout",
     "output_type": "stream",
     "text": [
      "scribble-a-revolutionary-pen-that-draws-in-any-col\n"
     ]
    },
    {
     "name": "stderr",
     "output_type": "stream",
     "text": [
      "\r",
      "  9%|▊         | 18/208 [01:22<13:18,  4.20s/it]"
     ]
    },
    {
     "name": "stdout",
     "output_type": "stream",
     "text": [
      "agent-the-worlds-smartest-watch\n"
     ]
    },
    {
     "name": "stderr",
     "output_type": "stream",
     "text": [
      "\r",
      "  9%|▉         | 19/208 [03:28<2:08:57, 40.94s/it]"
     ]
    },
    {
     "name": "stdout",
     "output_type": "stream",
     "text": [
      "cst-01-the-worlds-thinnest-watch\n"
     ]
    },
    {
     "name": "stderr",
     "output_type": "stream",
     "text": [
      "\r",
      " 10%|▉         | 20/208 [03:42<1:42:29, 32.71s/it]"
     ]
    },
    {
     "name": "stdout",
     "output_type": "stream",
     "text": [
      "the-official-otakon-super-beat-em-up-video-game\n"
     ]
    },
    {
     "name": "stderr",
     "output_type": "stream",
     "text": [
      "\r",
      " 10%|█         | 21/208 [03:45<1:14:23, 23.87s/it]"
     ]
    },
    {
     "name": "stdout",
     "output_type": "stream",
     "text": [
      "haunts-the-manse-macabre\n"
     ]
    },
    {
     "name": "stderr",
     "output_type": "stream",
     "text": [
      "\r",
      " 11%|█         | 22/208 [03:48<55:02, 17.75s/it]  "
     ]
    },
    {
     "name": "stdout",
     "output_type": "stream",
     "text": [
      "lucitm-advanced-lucid-dream-inducer\n"
     ]
    },
    {
     "name": "stderr",
     "output_type": "stream",
     "text": [
      "\r",
      " 11%|█         | 23/208 [03:56<45:12, 14.66s/it]"
     ]
    },
    {
     "name": "stdout",
     "output_type": "stream",
     "text": [
      "zano-autonomous-intelligent-swarming-nano-drone\n"
     ]
    },
    {
     "name": "stderr",
     "output_type": "stream",
     "text": [
      "\r",
      " 12%|█▏        | 24/208 [04:28<1:01:34, 20.08s/it]"
     ]
    },
    {
     "name": "stdout",
     "output_type": "stream",
     "text": [
      "katalyka\n"
     ]
    },
    {
     "name": "stderr",
     "output_type": "stream",
     "text": [
      "\r",
      " 12%|█▏        | 25/208 [04:32<45:58, 15.07s/it]  "
     ]
    },
    {
     "name": "stdout",
     "output_type": "stream",
     "text": [
      "yufu-the-stylus-perfected-pressure-sensitive-fine\n"
     ]
    },
    {
     "name": "stderr",
     "output_type": "stream",
     "text": [
      "\r",
      " 12%|█▎        | 26/208 [04:40<39:35, 13.05s/it]"
     ]
    },
    {
     "name": "stdout",
     "output_type": "stream",
     "text": [
      "iplifier-for-iphone-5\n"
     ]
    },
    {
     "name": "stderr",
     "output_type": "stream",
     "text": [
      "\r",
      " 13%|█▎        | 27/208 [04:43<30:22, 10.07s/it]"
     ]
    },
    {
     "name": "stdout",
     "output_type": "stream",
     "text": [
      "icontrolpad-2-the-open-source-controller\n"
     ]
    },
    {
     "name": "stderr",
     "output_type": "stream",
     "text": [
      "\r",
      " 13%|█▎        | 28/208 [04:50<27:17,  9.10s/it]"
     ]
    },
    {
     "name": "stdout",
     "output_type": "stream",
     "text": [
      "come-with-me-and-dance-in-the-fire\n"
     ]
    },
    {
     "name": "stderr",
     "output_type": "stream",
     "text": [
      "\r",
      " 14%|█▍        | 29/208 [04:53<21:27,  7.20s/it]"
     ]
    },
    {
     "name": "stdout",
     "output_type": "stream",
     "text": [
      "ilumi-bottle-the-new-way-to-keep-hydrated\n"
     ]
    },
    {
     "name": "stderr",
     "output_type": "stream",
     "text": [
      "\r",
      " 14%|█▍        | 30/208 [04:57<18:22,  6.19s/it]"
     ]
    },
    {
     "name": "stdout",
     "output_type": "stream",
     "text": [
      "spike-makes-the-iphone-as-easy-to-type-on-as-it-is\n"
     ]
    },
    {
     "name": "stderr",
     "output_type": "stream",
     "text": [
      "\r",
      " 15%|█▍        | 31/208 [05:02<17:07,  5.81s/it]"
     ]
    },
    {
     "name": "stdout",
     "output_type": "stream",
     "text": [
      "keyonpod-the-most-beautiful-key-management-system\n"
     ]
    },
    {
     "name": "stderr",
     "output_type": "stream",
     "text": [
      "\r",
      " 15%|█▌        | 32/208 [05:06<15:35,  5.31s/it]"
     ]
    },
    {
     "name": "stdout",
     "output_type": "stream",
     "text": [
      "crypteks-usbtm-encrypted-and-lockable-usb-solution\n"
     ]
    },
    {
     "name": "stderr",
     "output_type": "stream",
     "text": [
      "\r",
      " 16%|█▌        | 33/208 [05:16<20:00,  6.86s/it]"
     ]
    },
    {
     "name": "stdout",
     "output_type": "stream",
     "text": [
      "spixi-a-better-way-to-charge-and-sync-your-iphone\n"
     ]
    },
    {
     "name": "stderr",
     "output_type": "stream",
     "text": [
      "\r",
      " 16%|█▋        | 34/208 [05:20<17:14,  5.95s/it]"
     ]
    },
    {
     "name": "stdout",
     "output_type": "stream",
     "text": [
      "up-front-the-card-game\n"
     ]
    },
    {
     "name": "stderr",
     "output_type": "stream",
     "text": [
      "\r",
      " 17%|█▋        | 35/208 [05:32<22:10,  7.69s/it]"
     ]
    },
    {
     "name": "stdout",
     "output_type": "stream",
     "text": [
      "hydra-dice-necron\n"
     ]
    },
    {
     "name": "stderr",
     "output_type": "stream",
     "text": [
      "\r",
      " 17%|█▋        | 36/208 [05:36<18:53,  6.59s/it]"
     ]
    },
    {
     "name": "stdout",
     "output_type": "stream",
     "text": [
      "myidkey-passwords-at-the-tip-of-your-finger\n"
     ]
    },
    {
     "name": "stderr",
     "output_type": "stream",
     "text": [
      "\r",
      " 18%|█▊        | 37/208 [05:43<19:32,  6.86s/it]"
     ]
    },
    {
     "name": "stdout",
     "output_type": "stream",
     "text": [
      "grapple-knight\n"
     ]
    },
    {
     "name": "stderr",
     "output_type": "stream",
     "text": [
      "\r",
      " 18%|█▊        | 38/208 [05:47<16:33,  5.85s/it]"
     ]
    },
    {
     "name": "stdout",
     "output_type": "stream",
     "text": [
      "quantum-roleplaying-game-an-all-new-science-fantas\n"
     ]
    },
    {
     "name": "stderr",
     "output_type": "stream",
     "text": [
      "\r",
      " 19%|█▉        | 39/208 [05:53<16:27,  5.84s/it]"
     ]
    },
    {
     "name": "stdout",
     "output_type": "stream",
     "text": [
      "chase-mason-affordable-designer-dress-shoes\n"
     ]
    },
    {
     "name": "stderr",
     "output_type": "stream",
     "text": [
      "\r",
      " 19%|█▉        | 40/208 [05:56<14:08,  5.05s/it]"
     ]
    },
    {
     "name": "stdout",
     "output_type": "stream",
     "text": [
      "precision-machined-role-playing-dice-hyper-precisi\n"
     ]
    },
    {
     "name": "stderr",
     "output_type": "stream",
     "text": [
      "\r",
      " 20%|█▉        | 41/208 [06:00<13:05,  4.70s/it]"
     ]
    },
    {
     "name": "stdout",
     "output_type": "stream",
     "text": [
      "the-elements-playing-cards\n"
     ]
    },
    {
     "name": "stderr",
     "output_type": "stream",
     "text": [
      "\r",
      " 20%|██        | 42/208 [06:03<11:53,  4.30s/it]"
     ]
    },
    {
     "name": "stdout",
     "output_type": "stream",
     "text": [
      "super-arcade-project-2014\n"
     ]
    },
    {
     "name": "stderr",
     "output_type": "stream",
     "text": [
      "\r",
      " 21%|██        | 43/208 [06:06<10:45,  3.91s/it]"
     ]
    },
    {
     "name": "stdout",
     "output_type": "stream",
     "text": [
      "control-vr-motion-capture-for-vr-animation-and-mor\n"
     ]
    },
    {
     "name": "stderr",
     "output_type": "stream",
     "text": [
      "\r",
      " 21%|██        | 44/208 [06:10<10:55,  4.00s/it]"
     ]
    },
    {
     "name": "stdout",
     "output_type": "stream",
     "text": [
      "commuting-is-a-breeze-with-boolze\n"
     ]
    },
    {
     "name": "stderr",
     "output_type": "stream",
     "text": [
      "\r",
      " 22%|██▏       | 45/208 [06:14<10:10,  3.75s/it]"
     ]
    },
    {
     "name": "stdout",
     "output_type": "stream",
     "text": [
      "dot-worlds-smallest-bluetooth-headset\n"
     ]
    },
    {
     "name": "stderr",
     "output_type": "stream",
     "text": [
      "\r",
      " 22%|██▏       | 46/208 [06:17<09:48,  3.63s/it]"
     ]
    },
    {
     "name": "stdout",
     "output_type": "stream",
     "text": [
      "woodie-leather-and-wood-reversible-usb-charging-ca-0\n"
     ]
    },
    {
     "name": "stderr",
     "output_type": "stream",
     "text": [
      "\r",
      " 23%|██▎       | 47/208 [06:20<09:01,  3.37s/it]"
     ]
    },
    {
     "name": "stdout",
     "output_type": "stream",
     "text": [
      "twins-edition-refined-bicycle-playing-cards-by-usp\n"
     ]
    },
    {
     "name": "stderr",
     "output_type": "stream",
     "text": [
      "\r",
      " 23%|██▎       | 48/208 [06:23<08:54,  3.34s/it]"
     ]
    },
    {
     "name": "stdout",
     "output_type": "stream",
     "text": [
      "cable-keeper\n"
     ]
    },
    {
     "name": "stderr",
     "output_type": "stream",
     "text": [
      "\r",
      " 24%|██▎       | 49/208 [06:26<08:52,  3.35s/it]"
     ]
    },
    {
     "name": "stdout",
     "output_type": "stream",
     "text": [
      "kolstom-classic-carbon-fiber-sunglasses\n"
     ]
    },
    {
     "name": "stderr",
     "output_type": "stream",
     "text": [
      "\r",
      " 24%|██▍       | 50/208 [06:30<09:01,  3.43s/it]"
     ]
    },
    {
     "name": "stdout",
     "output_type": "stream",
     "text": [
      "stormtag-a-bluetooth-weather-station-on-your-keyri\n"
     ]
    },
    {
     "name": "stderr",
     "output_type": "stream",
     "text": [
      "\r",
      " 25%|██▍       | 51/208 [06:34<09:51,  3.76s/it]"
     ]
    },
    {
     "name": "stdout",
     "output_type": "stream",
     "text": [
      "apollo-ap-1-tactical-flashlight\n"
     ]
    },
    {
     "name": "stderr",
     "output_type": "stream",
     "text": [
      "\r",
      " 25%|██▌       | 52/208 [06:40<10:54,  4.20s/it]"
     ]
    },
    {
     "name": "stdout",
     "output_type": "stream",
     "text": [
      "sever-the-anti-villain-box\n"
     ]
    },
    {
     "name": "stderr",
     "output_type": "stream",
     "text": [
      "\r",
      " 25%|██▌       | 53/208 [06:42<09:40,  3.75s/it]"
     ]
    },
    {
     "name": "stdout",
     "output_type": "stream",
     "text": [
      "commbadge-star-trek-inspired-wearable-communicator\n"
     ]
    },
    {
     "name": "stderr",
     "output_type": "stream",
     "text": [
      "\r",
      " 26%|██▌       | 54/208 [06:46<09:24,  3.66s/it]"
     ]
    },
    {
     "name": "stdout",
     "output_type": "stream",
     "text": [
      "10-for-two-seedling-kits-as-holiday-gifts-early-bi\n"
     ]
    },
    {
     "name": "stderr",
     "output_type": "stream",
     "text": [
      "\r",
      " 26%|██▋       | 55/208 [06:49<08:59,  3.53s/it]"
     ]
    },
    {
     "name": "stdout",
     "output_type": "stream",
     "text": [
      "mutator-mute-your-iphonewith-a-twist\n"
     ]
    },
    {
     "name": "stderr",
     "output_type": "stream",
     "text": [
      "\r",
      " 27%|██▋       | 56/208 [06:53<09:33,  3.78s/it]"
     ]
    },
    {
     "name": "stdout",
     "output_type": "stream",
     "text": [
      "vachen-smartwatch\n"
     ]
    },
    {
     "name": "stderr",
     "output_type": "stream",
     "text": [
      "\r",
      " 27%|██▋       | 57/208 [07:00<11:53,  4.72s/it]"
     ]
    },
    {
     "name": "stdout",
     "output_type": "stream",
     "text": [
      "miniature-ice-age-mammal-adventure-set\n"
     ]
    },
    {
     "name": "stderr",
     "output_type": "stream",
     "text": [
      "\r",
      " 28%|██▊       | 58/208 [07:08<14:19,  5.73s/it]"
     ]
    },
    {
     "name": "stdout",
     "output_type": "stream",
     "text": [
      "28mm-miniature-sea-monsters-dungeon-terrain-and-bi\n"
     ]
    },
    {
     "name": "stderr",
     "output_type": "stream",
     "text": [
      "\r",
      " 28%|██▊       | 59/208 [07:13<13:23,  5.39s/it]"
     ]
    },
    {
     "name": "stdout",
     "output_type": "stream",
     "text": [
      "mansion-lord-a-murder-mystery-rpg-business-sim\n"
     ]
    },
    {
     "name": "stderr",
     "output_type": "stream",
     "text": [
      "\r",
      " 29%|██▉       | 60/208 [07:17<12:03,  4.89s/it]"
     ]
    },
    {
     "name": "stdout",
     "output_type": "stream",
     "text": [
      "soap-first-smart-router-w-touch-display-powered-by\n"
     ]
    },
    {
     "name": "stderr",
     "output_type": "stream",
     "text": [
      "\r",
      " 29%|██▉       | 61/208 [07:25<14:07,  5.77s/it]"
     ]
    },
    {
     "name": "stdout",
     "output_type": "stream",
     "text": [
      "kickstart-blaque-sun\n"
     ]
    },
    {
     "name": "stderr",
     "output_type": "stream",
     "text": [
      "\r",
      " 30%|██▉       | 62/208 [07:28<12:37,  5.19s/it]"
     ]
    },
    {
     "name": "stdout",
     "output_type": "stream",
     "text": [
      "dysis\n"
     ]
    },
    {
     "name": "stderr",
     "output_type": "stream",
     "text": [
      "\r",
      " 30%|███       | 63/208 [07:32<11:19,  4.69s/it]"
     ]
    },
    {
     "name": "stdout",
     "output_type": "stream",
     "text": [
      "rain-0\n"
     ]
    },
    {
     "name": "stderr",
     "output_type": "stream",
     "text": [
      "\r",
      " 31%|███       | 64/208 [07:36<10:34,  4.41s/it]"
     ]
    },
    {
     "name": "stdout",
     "output_type": "stream",
     "text": [
      "baboomi-a-customizable-and-comfortable-alarm\n"
     ]
    },
    {
     "name": "stderr",
     "output_type": "stream",
     "text": [
      "\r",
      " 31%|███▏      | 65/208 [07:39<09:52,  4.14s/it]"
     ]
    },
    {
     "name": "stdout",
     "output_type": "stream",
     "text": [
      "the-carbone-a-100-carbon-fiber-wallet\n"
     ]
    },
    {
     "name": "stderr",
     "output_type": "stream",
     "text": [
      "\r",
      " 32%|███▏      | 66/208 [07:42<09:07,  3.85s/it]"
     ]
    },
    {
     "name": "stdout",
     "output_type": "stream",
     "text": [
      "celtic-knot-ceilteach-revised\n"
     ]
    },
    {
     "name": "stderr",
     "output_type": "stream",
     "text": [
      "\r",
      " 32%|███▏      | 67/208 [07:45<08:19,  3.54s/it]"
     ]
    },
    {
     "name": "stdout",
     "output_type": "stream",
     "text": [
      "the-sons-of-starcraft\n"
     ]
    },
    {
     "name": "stderr",
     "output_type": "stream",
     "text": [
      "\r",
      " 33%|███▎      | 68/208 [07:48<07:41,  3.30s/it]"
     ]
    },
    {
     "name": "stdout",
     "output_type": "stream",
     "text": [
      "adcontrol-for-adfree-internet\n"
     ]
    },
    {
     "name": "stderr",
     "output_type": "stream",
     "text": [
      "\r",
      " 33%|███▎      | 69/208 [07:51<07:31,  3.25s/it]"
     ]
    },
    {
     "name": "stdout",
     "output_type": "stream",
     "text": [
      "harvestgeek-brains-for-your-garden\n"
     ]
    },
    {
     "name": "stderr",
     "output_type": "stream",
     "text": [
      "\r",
      " 34%|███▎      | 70/208 [07:54<07:31,  3.27s/it]"
     ]
    },
    {
     "name": "stdout",
     "output_type": "stream",
     "text": [
      "the-ayahuasca-project-the-jungle-prescription\n"
     ]
    },
    {
     "name": "stderr",
     "output_type": "stream",
     "text": [
      "\r",
      " 34%|███▍      | 71/208 [07:58<07:31,  3.30s/it]"
     ]
    },
    {
     "name": "stdout",
     "output_type": "stream",
     "text": [
      "in-defense-of-fat-the-documentary\n"
     ]
    },
    {
     "name": "stderr",
     "output_type": "stream",
     "text": [
      "\r",
      " 35%|███▍      | 72/208 [08:01<07:18,  3.23s/it]"
     ]
    },
    {
     "name": "stdout",
     "output_type": "stream",
     "text": [
      "zombie-stomp-the-game-by-team-frog-studios\n"
     ]
    },
    {
     "name": "stderr",
     "output_type": "stream",
     "text": [
      "\r",
      " 35%|███▌      | 73/208 [08:06<08:23,  3.73s/it]"
     ]
    },
    {
     "name": "stdout",
     "output_type": "stream",
     "text": [
      "diabolic-fightin-words\n"
     ]
    },
    {
     "name": "stderr",
     "output_type": "stream",
     "text": [
      "\r",
      " 36%|███▌      | 74/208 [08:09<08:05,  3.62s/it]"
     ]
    },
    {
     "name": "stdout",
     "output_type": "stream",
     "text": [
      "joey-360-4k-seamless-video-capture-broadcast-confe\n"
     ]
    },
    {
     "name": "stderr",
     "output_type": "stream",
     "text": [
      "\r",
      " 36%|███▌      | 75/208 [08:12<07:39,  3.45s/it]"
     ]
    },
    {
     "name": "stdout",
     "output_type": "stream",
     "text": [
      "limited-edition-translation-of-osamu-tezukas-the-c\n"
     ]
    },
    {
     "name": "stderr",
     "output_type": "stream",
     "text": [
      "\r",
      " 37%|███▋      | 76/208 [08:18<08:59,  4.09s/it]"
     ]
    },
    {
     "name": "stdout",
     "output_type": "stream",
     "text": [
      "matchstick-the-streaming-stick-built-on-firefox-os\n"
     ]
    },
    {
     "name": "stderr",
     "output_type": "stream",
     "text": [
      "\r",
      " 37%|███▋      | 77/208 [08:27<12:16,  5.62s/it]"
     ]
    },
    {
     "name": "stdout",
     "output_type": "stream",
     "text": [
      "fibrofibers-expansion-more-nightfall-for-everyone\n"
     ]
    },
    {
     "name": "stderr",
     "output_type": "stream",
     "text": [
      "\r",
      " 38%|███▊      | 78/208 [08:31<11:04,  5.11s/it]"
     ]
    },
    {
     "name": "stdout",
     "output_type": "stream",
     "text": [
      "a-victorian-adventure-custom-playing-cards-uspcc\n"
     ]
    },
    {
     "name": "stderr",
     "output_type": "stream",
     "text": [
      "\r",
      " 38%|███▊      | 79/208 [08:34<09:41,  4.51s/it]"
     ]
    },
    {
     "name": "stdout",
     "output_type": "stream",
     "text": [
      "ringbow-next-generation-gaming-accessory\n"
     ]
    },
    {
     "name": "stderr",
     "output_type": "stream",
     "text": [
      "\r",
      " 38%|███▊      | 80/208 [08:39<10:02,  4.71s/it]"
     ]
    },
    {
     "name": "stdout",
     "output_type": "stream",
     "text": [
      "moon-rift\n"
     ]
    },
    {
     "name": "stderr",
     "output_type": "stream",
     "text": [
      "\r",
      " 39%|███▉      | 81/208 [08:42<09:00,  4.25s/it]"
     ]
    },
    {
     "name": "stdout",
     "output_type": "stream",
     "text": [
      "turbocharge-your-wireless-router-with-an-androidtm\n"
     ]
    },
    {
     "name": "stderr",
     "output_type": "stream",
     "text": [
      "\r",
      " 39%|███▉      | 82/208 [08:45<08:08,  3.88s/it]"
     ]
    },
    {
     "name": "stdout",
     "output_type": "stream",
     "text": [
      "dash-the-smart-phone-car-stereo\n"
     ]
    },
    {
     "name": "stderr",
     "output_type": "stream",
     "text": [
      "\r",
      " 40%|███▉      | 83/208 [08:50<08:20,  4.00s/it]"
     ]
    },
    {
     "name": "stdout",
     "output_type": "stream",
     "text": [
      "red-2\n"
     ]
    },
    {
     "name": "stderr",
     "output_type": "stream",
     "text": [
      "\r",
      " 40%|████      | 84/208 [08:53<07:40,  3.72s/it]"
     ]
    },
    {
     "name": "stdout",
     "output_type": "stream",
     "text": [
      "vrase-the-smartphone-virtual-reality-case\n"
     ]
    },
    {
     "name": "stderr",
     "output_type": "stream",
     "text": [
      "\r",
      " 41%|████      | 85/208 [09:02<11:21,  5.54s/it]"
     ]
    },
    {
     "name": "stdout",
     "output_type": "stream",
     "text": [
      "key-stak-the-only-key-organizer-with-a-built-in-fl\n"
     ]
    },
    {
     "name": "stderr",
     "output_type": "stream",
     "text": [
      "\r",
      " 41%|████▏     | 86/208 [09:06<09:49,  4.83s/it]"
     ]
    },
    {
     "name": "stdout",
     "output_type": "stream",
     "text": [
      "waldok-wall-plug-in-speaker-charger-for-the-ipod-n\n"
     ]
    },
    {
     "name": "stderr",
     "output_type": "stream",
     "text": [
      "\r",
      " 42%|████▏     | 87/208 [09:10<09:28,  4.70s/it]"
     ]
    },
    {
     "name": "stdout",
     "output_type": "stream",
     "text": [
      "foundation-dock-the-new-home-for-your-iphone\n"
     ]
    },
    {
     "name": "stderr",
     "output_type": "stream",
     "text": [
      "\r",
      " 42%|████▏     | 88/208 [09:14<09:07,  4.57s/it]"
     ]
    },
    {
     "name": "stdout",
     "output_type": "stream",
     "text": [
      "zopro-incredibly-thin-case-integrated-charging-iph\n"
     ]
    },
    {
     "name": "stderr",
     "output_type": "stream",
     "text": [
      "\r",
      " 43%|████▎     | 89/208 [09:18<08:31,  4.29s/it]"
     ]
    },
    {
     "name": "stdout",
     "output_type": "stream",
     "text": [
      "the-infection-simulation\n"
     ]
    },
    {
     "name": "stderr",
     "output_type": "stream",
     "text": [
      "\r",
      " 43%|████▎     | 90/208 [09:22<08:13,  4.18s/it]"
     ]
    },
    {
     "name": "stdout",
     "output_type": "stream",
     "text": [
      "nuia-eyecharm-kinect-to-eye-tracking\n"
     ]
    },
    {
     "name": "stderr",
     "output_type": "stream",
     "text": [
      "\r",
      " 44%|████▍     | 91/208 [09:26<08:13,  4.21s/it]"
     ]
    },
    {
     "name": "stdout",
     "output_type": "stream",
     "text": [
      "vertus-same-bluetooth-audio-on-two-different-speak\n"
     ]
    },
    {
     "name": "stderr",
     "output_type": "stream",
     "text": [
      "\r",
      " 44%|████▍     | 92/208 [09:35<11:08,  5.76s/it]"
     ]
    },
    {
     "name": "stdout",
     "output_type": "stream",
     "text": [
      "meet-syre-the-worlds-first-bluetooth-ipod-nano-wat\n"
     ]
    },
    {
     "name": "stderr",
     "output_type": "stream",
     "text": [
      "\r",
      " 45%|████▍     | 93/208 [09:41<11:08,  5.81s/it]"
     ]
    },
    {
     "name": "stdout",
     "output_type": "stream",
     "text": [
      "hp-lovecrafts-wonderland\n"
     ]
    },
    {
     "name": "stderr",
     "output_type": "stream",
     "text": [
      "\r",
      " 45%|████▌     | 94/208 [09:44<09:18,  4.90s/it]"
     ]
    },
    {
     "name": "stdout",
     "output_type": "stream",
     "text": [
      "ncaa-football-game-for-xbox-360-and-playstation-3\n"
     ]
    },
    {
     "name": "stderr",
     "output_type": "stream",
     "text": [
      "\r",
      " 46%|████▌     | 95/208 [09:47<07:58,  4.23s/it]"
     ]
    },
    {
     "name": "stdout",
     "output_type": "stream",
     "text": [
      "bluetooth-earbuds-w-magnetic-docking-made-in-usa\n"
     ]
    },
    {
     "name": "stderr",
     "output_type": "stream",
     "text": [
      "\r",
      " 46%|████▌     | 96/208 [09:52<08:42,  4.66s/it]"
     ]
    },
    {
     "name": "stdout",
     "output_type": "stream",
     "text": [
      "mprinter-an-analog-printer-for-a-digital-world\n"
     ]
    },
    {
     "name": "stderr",
     "output_type": "stream",
     "text": [
      "\r",
      " 47%|████▋     | 97/208 [09:57<08:47,  4.75s/it]"
     ]
    },
    {
     "name": "stdout",
     "output_type": "stream",
     "text": [
      "eye-take-your-phone-to-the-next-level\n"
     ]
    },
    {
     "name": "stderr",
     "output_type": "stream",
     "text": [
      "\r",
      " 47%|████▋     | 98/208 [10:10<12:58,  7.08s/it]"
     ]
    },
    {
     "name": "stdout",
     "output_type": "stream",
     "text": [
      "ca7ch-lightbox\n"
     ]
    },
    {
     "name": "stderr",
     "output_type": "stream",
     "text": [
      "\r",
      " 48%|████▊     | 99/208 [10:17<12:55,  7.11s/it]"
     ]
    },
    {
     "name": "stdout",
     "output_type": "stream",
     "text": [
      "dashbot-a-49-robot-for-your-dashboard\n"
     ]
    },
    {
     "name": "stderr",
     "output_type": "stream",
     "text": [
      "\r",
      " 48%|████▊     | 100/208 [10:23<12:12,  6.78s/it]"
     ]
    },
    {
     "name": "stdout",
     "output_type": "stream",
     "text": [
      "half-life-3\n"
     ]
    },
    {
     "name": "stderr",
     "output_type": "stream",
     "text": [
      "\r",
      " 49%|████▊     | 101/208 [10:26<09:50,  5.52s/it]"
     ]
    },
    {
     "name": "stdout",
     "output_type": "stream",
     "text": [
      "aura-tactics\n"
     ]
    },
    {
     "name": "stderr",
     "output_type": "stream",
     "text": [
      "\r",
      " 49%|████▉     | 102/208 [10:29<08:39,  4.90s/it]"
     ]
    },
    {
     "name": "stdout",
     "output_type": "stream",
     "text": [
      "shining-empire\n"
     ]
    },
    {
     "name": "stderr",
     "output_type": "stream",
     "text": [
      "\r",
      " 50%|████▉     | 103/208 [10:32<07:41,  4.39s/it]"
     ]
    },
    {
     "name": "stdout",
     "output_type": "stream",
     "text": [
      "unwritten-that-which-happened\n"
     ]
    },
    {
     "name": "stderr",
     "output_type": "stream",
     "text": [
      "\r",
      " 50%|█████     | 104/208 [10:37<07:39,  4.42s/it]"
     ]
    },
    {
     "name": "stdout",
     "output_type": "stream",
     "text": [
      "airdog-worlds-first-auto-follow-action-sports-dron\n"
     ]
    },
    {
     "name": "stderr",
     "output_type": "stream",
     "text": [
      "\r",
      " 50%|█████     | 105/208 [10:46<09:51,  5.74s/it]"
     ]
    },
    {
     "name": "stdout",
     "output_type": "stream",
     "text": [
      "moff-a-wearable-smart-toy-changes-everything-into\n"
     ]
    },
    {
     "name": "stderr",
     "output_type": "stream",
     "text": [
      "\r",
      " 51%|█████     | 106/208 [10:49<08:19,  4.89s/it]"
     ]
    },
    {
     "name": "stdout",
     "output_type": "stream",
     "text": [
      "camera-lucida-reinvented-the-new-old-masters-drawi\n"
     ]
    },
    {
     "name": "stderr",
     "output_type": "stream",
     "text": [
      "\r",
      " 51%|█████▏    | 107/208 [10:52<07:19,  4.35s/it]"
     ]
    },
    {
     "name": "stdout",
     "output_type": "stream",
     "text": [
      "ir-blue-thermal-imaging-smartphone-accessory\n"
     ]
    },
    {
     "name": "stderr",
     "output_type": "stream",
     "text": [
      "\r",
      " 52%|█████▏    | 108/208 [10:55<06:54,  4.15s/it]"
     ]
    },
    {
     "name": "stdout",
     "output_type": "stream",
     "text": [
      "archt-one-revolutionary-wireless-audio-system-for\n"
     ]
    },
    {
     "name": "stderr",
     "output_type": "stream",
     "text": [
      "\r",
      " 52%|█████▏    | 109/208 [10:59<06:43,  4.08s/it]"
     ]
    },
    {
     "name": "stdout",
     "output_type": "stream",
     "text": [
      "a-mobile-personal-theater-with-built-in-premium-au\n"
     ]
    },
    {
     "name": "stderr",
     "output_type": "stream",
     "text": [
      "\r",
      " 53%|█████▎    | 110/208 [11:08<09:09,  5.61s/it]"
     ]
    },
    {
     "name": "stdout",
     "output_type": "stream",
     "text": [
      "beam-the-smart-projector-that-fits-in-any-light-so\n"
     ]
    },
    {
     "name": "stderr",
     "output_type": "stream",
     "text": [
      "\r",
      " 53%|█████▎    | 111/208 [11:13<08:21,  5.17s/it]"
     ]
    },
    {
     "name": "stdout",
     "output_type": "stream",
     "text": [
      "remee-the-rem-enhancing-lucid-dreaming-mask\n"
     ]
    },
    {
     "name": "stderr",
     "output_type": "stream",
     "text": [
      "\r",
      " 54%|█████▍    | 112/208 [11:17<08:00,  5.00s/it]"
     ]
    },
    {
     "name": "stdout",
     "output_type": "stream",
     "text": [
      "sammy-screamer-motion-alarm\n"
     ]
    },
    {
     "name": "stderr",
     "output_type": "stream",
     "text": [
      "\r",
      " 54%|█████▍    | 113/208 [11:21<07:11,  4.54s/it]"
     ]
    },
    {
     "name": "stdout",
     "output_type": "stream",
     "text": [
      "the-hydration-shirt\n"
     ]
    },
    {
     "name": "stderr",
     "output_type": "stream",
     "text": [
      "\r",
      " 55%|█████▍    | 114/208 [11:24<06:19,  4.03s/it]"
     ]
    },
    {
     "name": "stdout",
     "output_type": "stream",
     "text": [
      "bolt-portable-usb-battery-backup-with-built-in-wal\n"
     ]
    },
    {
     "name": "stderr",
     "output_type": "stream",
     "text": [
      "\r",
      " 55%|█████▌    | 115/208 [11:27<06:03,  3.91s/it]"
     ]
    },
    {
     "name": "stdout",
     "output_type": "stream",
     "text": [
      "knut-stay-connected\n"
     ]
    }
   ],
   "source": [
    "import subprocess\n",
    "import pandas\n",
    "from tqdm import tqdm\n",
    "\n",
    "for idx, text in enumerate(tqdm(df_u['content'])):\n",
    "    print(df_u['ID'][idx])\n",
    "    \n",
    "    idx_id = df_u['ID'][idx]\n",
    "    \n",
    "    \n",
    "    #f = open('./b_comment_full/' + idx_id +'.txt', 'w', encoding='utf-8')\n",
    "    #f.write(text)\n",
    "    #f.close()\n",
    "\n",
    "    command = 'cd ..;java -mx600m -cp \"*:lib/*\" \\\n",
    "edu.stanford.nlp.ie.crf.CRFClassifier \\\n",
    "-loadClassifier classifiers/english.all.3class.distsim.crf.ser.gz \\\n",
    "-outputFormat tabbedEntities \\\n",
    "-textFile ./data/full_text_full/' + idx_id + '.txt > ./data/full_text_full_3class/' + idx_id + '_ner.tsv'\n",
    "\n",
    "    output = subprocess.check_output([command], shell=True, encoding='utf-8')"
   ]
  },
  {
   "cell_type": "code",
   "execution_count": 4,
   "id": "6761819c",
   "metadata": {},
   "outputs": [
    {
     "name": "stderr",
     "output_type": "stream",
     "text": [
      "  4%|▍         | 8/208 [00:00<00:02, 69.89it/s]"
     ]
    },
    {
     "name": "stdout",
     "output_type": "stream",
     "text": [
      "ambiolight-a-one-touch-room-makeover\n",
      "arc-island-a-brave-new-civilization\n",
      "asylum-playing-cards\n",
      "code-hero-a-game-that-teaches-you-to-make-games-he\n",
      "dark-skyes-an-epic-brony-dating-sim\n",
      "elementary-my-dear-holmes\n",
      "eye3\n",
      "eyeztm-by-zioneyez-hd-video-recording-glasses-for\n",
      "founders-playing-cards\n",
      "free-roll-machined-gamers-dice\n",
      "ifind-the-worlds-first-battery-free-item-locating\n",
      "kobe-red-100-japanese-beer-fed-kobe-beef-jerky\n",
      "last-year-5-vs-1-multiplayer-survival-horror\n",
      "learn-iphone-app-development\n"
     ]
    },
    {
     "name": "stderr",
     "output_type": "stream",
     "text": [
      "\r",
      "  8%|▊         | 16/208 [00:00<00:02, 71.43it/s]"
     ]
    },
    {
     "name": "stdout",
     "output_type": "stream",
     "text": [
      "mythic-the-story-of-gods-and-men\n",
      "ping-wallet-the-worlds-thinnest-smartest-wallet\n",
      "powerful-charger-multiple-devices-multiple-times-o\n",
      "scribble-a-revolutionary-pen-that-draws-in-any-col\n",
      "agent-the-worlds-smartest-watch\n",
      "cst-01-the-worlds-thinnest-watch\n",
      "the-official-otakon-super-beat-em-up-video-game\n",
      "haunts-the-manse-macabre\n",
      "lucitm-advanced-lucid-dream-inducer\n"
     ]
    },
    {
     "name": "stderr",
     "output_type": "stream",
     "text": [
      " 15%|█▌        | 32/208 [00:00<00:03, 54.80it/s]"
     ]
    },
    {
     "name": "stdout",
     "output_type": "stream",
     "text": [
      "zano-autonomous-intelligent-swarming-nano-drone\n",
      "katalyka\n",
      "yufu-the-stylus-perfected-pressure-sensitive-fine\n",
      "iplifier-for-iphone-5\n",
      "icontrolpad-2-the-open-source-controller\n",
      "come-with-me-and-dance-in-the-fire\n",
      "ilumi-bottle-the-new-way-to-keep-hydrated\n",
      "spike-makes-the-iphone-as-easy-to-type-on-as-it-is\n",
      "keyonpod-the-most-beautiful-key-management-system\n",
      "crypteks-usbtm-encrypted-and-lockable-usb-solution\n",
      "spixi-a-better-way-to-charge-and-sync-your-iphone\n",
      "up-front-the-card-game\n"
     ]
    },
    {
     "name": "stderr",
     "output_type": "stream",
     "text": [
      "\r",
      " 19%|█▉        | 39/208 [00:00<00:03, 49.22it/s]"
     ]
    },
    {
     "name": "stdout",
     "output_type": "stream",
     "text": [
      "hydra-dice-necron\n",
      "myidkey-passwords-at-the-tip-of-your-finger\n",
      "grapple-knight\n",
      "quantum-roleplaying-game-an-all-new-science-fantas\n",
      "chase-mason-affordable-designer-dress-shoes\n",
      "precision-machined-role-playing-dice-hyper-precisi\n",
      "the-elements-playing-cards\n",
      "super-arcade-project-2014\n",
      "control-vr-motion-capture-for-vr-animation-and-mor\n",
      "commuting-is-a-breeze-with-boolze\n"
     ]
    },
    {
     "name": "stderr",
     "output_type": "stream",
     "text": [
      " 25%|██▌       | 52/208 [00:00<00:02, 52.59it/s]"
     ]
    },
    {
     "name": "stdout",
     "output_type": "stream",
     "text": [
      "dot-worlds-smallest-bluetooth-headset\n",
      "woodie-leather-and-wood-reversible-usb-charging-ca-0\n",
      "twins-edition-refined-bicycle-playing-cards-by-usp\n",
      "cable-keeper\n",
      "kolstom-classic-carbon-fiber-sunglasses\n",
      "stormtag-a-bluetooth-weather-station-on-your-keyri\n",
      "apollo-ap-1-tactical-flashlight\n",
      "sever-the-anti-villain-box\n",
      "commbadge-star-trek-inspired-wearable-communicator\n",
      "10-for-two-seedling-kits-as-holiday-gifts-early-bi\n",
      "mutator-mute-your-iphonewith-a-twist\n",
      "vachen-smartwatch\n",
      "miniature-ice-age-mammal-adventure-set\n"
     ]
    },
    {
     "name": "stderr",
     "output_type": "stream",
     "text": [
      " 34%|███▍      | 71/208 [00:01<00:01, 72.12it/s]"
     ]
    },
    {
     "name": "stdout",
     "output_type": "stream",
     "text": [
      "28mm-miniature-sea-monsters-dungeon-terrain-and-bi\n",
      "mansion-lord-a-murder-mystery-rpg-business-sim\n",
      "soap-first-smart-router-w-touch-display-powered-by\n",
      "kickstart-blaque-sun\n",
      "dysis\n",
      "rain-0\n",
      "baboomi-a-customizable-and-comfortable-alarm\n",
      "the-carbone-a-100-carbon-fiber-wallet\n",
      "celtic-knot-ceilteach-revised\n",
      "the-sons-of-starcraft\n",
      "adcontrol-for-adfree-internet\n",
      "harvestgeek-brains-for-your-garden\n",
      "the-ayahuasca-project-the-jungle-prescription\n",
      "in-defense-of-fat-the-documentary\n",
      "zombie-stomp-the-game-by-team-frog-studios\n",
      "diabolic-fightin-words\n",
      "joey-360-4k-seamless-video-capture-broadcast-confe\n",
      "limited-edition-translation-of-osamu-tezukas-the-c\n",
      "matchstick-the-streaming-stick-built-on-firefox-os\n"
     ]
    },
    {
     "name": "stderr",
     "output_type": "stream",
     "text": [
      " 42%|████▏     | 88/208 [00:01<00:01, 76.83it/s]"
     ]
    },
    {
     "name": "stdout",
     "output_type": "stream",
     "text": [
      "fibrofibers-expansion-more-nightfall-for-everyone\n",
      "a-victorian-adventure-custom-playing-cards-uspcc\n",
      "ringbow-next-generation-gaming-accessory\n",
      "moon-rift\n",
      "turbocharge-your-wireless-router-with-an-androidtm\n",
      "dash-the-smart-phone-car-stereo\n",
      "red-2\n",
      "vrase-the-smartphone-virtual-reality-case\n",
      "key-stak-the-only-key-organizer-with-a-built-in-fl\n",
      "waldok-wall-plug-in-speaker-charger-for-the-ipod-n\n",
      "foundation-dock-the-new-home-for-your-iphone\n",
      "zopro-incredibly-thin-case-integrated-charging-iph\n",
      "the-infection-simulation\n",
      "nuia-eyecharm-kinect-to-eye-tracking\n",
      "vertus-same-bluetooth-audio-on-two-different-speak\n",
      "meet-syre-the-worlds-first-bluetooth-ipod-nano-wat\n",
      "hp-lovecrafts-wonderland\n",
      "ncaa-football-game-for-xbox-360-and-playstation-3"
     ]
    },
    {
     "name": "stderr",
     "output_type": "stream",
     "text": [
      " 51%|█████     | 106/208 [00:01<00:01, 76.96it/s]"
     ]
    },
    {
     "name": "stdout",
     "output_type": "stream",
     "text": [
      "\n",
      "bluetooth-earbuds-w-magnetic-docking-made-in-usa\n",
      "mprinter-an-analog-printer-for-a-digital-world\n",
      "eye-take-your-phone-to-the-next-level\n",
      "ca7ch-lightbox\n",
      "dashbot-a-49-robot-for-your-dashboard\n",
      "half-life-3\n",
      "aura-tactics\n",
      "shining-empire\n",
      "unwritten-that-which-happened\n",
      "airdog-worlds-first-auto-follow-action-sports-dron\n",
      "moff-a-wearable-smart-toy-changes-everything-into\n",
      "camera-lucida-reinvented-the-new-old-masters-drawi\n",
      "ir-blue-thermal-imaging-smartphone-accessory\n",
      "archt-one-revolutionary-wireless-audio-system-for\n",
      "a-mobile-personal-theater-with-built-in-premium-au\n",
      "beam-the-smart-projector-that-fits-in-any-light-so\n"
     ]
    },
    {
     "name": "stderr",
     "output_type": "stream",
     "text": [
      "\r",
      " 56%|█████▌    | 116/208 [00:01<00:01, 81.80it/s]"
     ]
    },
    {
     "name": "stdout",
     "output_type": "stream",
     "text": [
      "remee-the-rem-enhancing-lucid-dreaming-mask\n",
      "sammy-screamer-motion-alarm\n",
      "the-hydration-shirt\n",
      "bolt-portable-usb-battery-backup-with-built-in-wal\n",
      "knut-stay-connected\n",
      "thermodo-the-tiny-thermometer-for-mobile-devices\n",
      "flex-versatility-kit-for-ipad-2\n",
      "space-monkey-taking-the-cloud-out-of-the-datacente\n",
      "plug-the-brain-of-your-devices\n",
      "12-in-1-connect-charlie-safely-charges-all-your-de\n",
      "buko-3d-printer-raising-the-bar-of-open-source-3d\n",
      "digispark-the-tiny-arduino-enabled-usb-dev-board\n",
      "waterstrider-perfect-footage-confident-landings-an\n",
      "electric-objects-a-computer-made-for-art\n"
     ]
    },
    {
     "name": "stderr",
     "output_type": "stream",
     "text": [
      " 64%|██████▍   | 133/208 [00:01<00:01, 74.13it/s]"
     ]
    },
    {
     "name": "stdout",
     "output_type": "stream",
     "text": [
      "timelapse-powerful-features-brilliant-timelapse\n",
      "candle-charger-emergency-power-generator-for-smart\n",
      "wigwag-scan-it-control-it-rule-it-share-it\n",
      "twine-listen-to-your-world-talk-to-the-internet\n",
      "jamstik-the-smartguitar\n",
      "bolt2-worlds-smallest-24a-battery-backup-wall-char\n",
      "hydra-a-triple-output-power-supply-for-electronics\n",
      "god-hates-charades-this-game-makes-your-friends-fu\n",
      "brew-bracket-a-beer-tasting-tournament-kit\n",
      "glory-to-rome-black-box-edition-rome-demands-beaut\n",
      "the-dead-linger\n",
      "blood-rage\n",
      "poor-choices-the-game\n"
     ]
    },
    {
     "name": "stderr",
     "output_type": "stream",
     "text": [
      " 71%|███████   | 148/208 [00:02<00:00, 61.65it/s]"
     ]
    },
    {
     "name": "stdout",
     "output_type": "stream",
     "text": [
      "forsaken-fortress\n",
      "serpents-tongue-a-new-magick-experience\n",
      "the-builders-of-blankenburg\n",
      "the-crystal-catacombs\n",
      "joking-hazard\n",
      "whispering-willows-horror-puzzle-game-for-ouya-and\n",
      "vivajava-the-coffee-game\n",
      "salem-a-strategic-card-game-of-deception-for-4-12\n",
      "bears-vs-babies-a-card-game\n",
      "full-bore-an-underground-puzzle-adventure\n",
      "spine\n",
      "secrets-of-the-lost-tomb\n"
     ]
    },
    {
     "name": "stderr",
     "output_type": "stream",
     "text": [
      "\r",
      " 75%|███████▍  | 155/208 [00:02<00:01, 50.97it/s]"
     ]
    },
    {
     "name": "stdout",
     "output_type": "stream",
     "text": [
      "meepillows-an-assortment-of-colorful-large-plush-m\n",
      "race-the-sun-endless-racer-with-mod-tools-and-mult\n",
      "wasteland-2\n",
      "battle-worlds-kronos-turn-based-strategy-revisited\n",
      "smart-money-maker-a-collaborative-card-game\n",
      "make-leisure-suit-larry-come-again\n",
      "darkrock-ventures-asteroid-mining-in-deep-space-bo\n",
      "cards-against-humanity\n"
     ]
    },
    {
     "name": "stderr",
     "output_type": "stream",
     "text": [
      " 82%|████████▏ | 170/208 [00:02<00:00, 59.08it/s]"
     ]
    },
    {
     "name": "stdout",
     "output_type": "stream",
     "text": [
      "meriwether-an-american-epic\n",
      "guns-of-icarus-online\n",
      "card-caddy-double-decker\n",
      "the-next-big-thing-1-board-game-for-entrepreneursh\n",
      "mobscenity-the-totally-up-party-game\n",
      "delvers-drop\n",
      "lightseekers\n",
      "project-giana\n",
      "shotbox-20-the-pop-up-photo-light-studio-upgraded\n",
      "collar-perfect-let-us-iron-out-the-wrinkles-in-you\n",
      "c-dock\n",
      "whiskey-rox-beverage-chilling-stones\n",
      "touchfire-the-screen-top-keyboard-for-ipad\n",
      "blink-steady-the-bike-light-youve-been-waiting-for\n",
      "the-fred-water-flask-more-water-less-sugar\n"
     ]
    },
    {
     "name": "stderr",
     "output_type": "stream",
     "text": [
      " 90%|████████▉ | 187/208 [00:02<00:00, 68.62it/s]"
     ]
    },
    {
     "name": "stdout",
     "output_type": "stream",
     "text": [
      "diy-full-color-hologram-kit-from-litiholo\n",
      "sushiquik-making-sushi-has-never-been-this-easy\n",
      "bike-rack-storage-solution-for-your-home-by-trophy\n",
      "litographs-entire-books-on-posters-and-t-shirts\n",
      "halfbike\n",
      "introducing-kapotas-the-ultimate-minimalist-wallet\n",
      "bloom-blanket\n",
      "sensu-brush-a-true-painting-experience-on-your-ipa\n",
      "izen-bamboo-keyboard\n",
      "melon-a-headband-and-mobile-app-to-measure-your-fo\n",
      "morning-head-be-ready-in-5-seconds\n",
      "corter-leather-bottle-hook\n",
      "a-leash-that-doesnt-feel-like-a-leash\n",
      "arqball-spin-3d-for-everyone\n",
      "the-picosteady-video-camera-stabilizer\n",
      "go-comb-fit-for-your-wallet\n",
      "noclean-aquariumstm-self-cleaning-aquarium-for-bet\n",
      "mynt-nimble-remote-for-smart-devices\n",
      "poppy-turn-your-iphone-into-a-3d-camera-0\n"
     ]
    },
    {
     "name": "stderr",
     "output_type": "stream",
     "text": [
      "100%|██████████| 208/208 [00:03<00:00, 66.26it/s]"
     ]
    },
    {
     "name": "stdout",
     "output_type": "stream",
     "text": [
      "the-x-pen-a-carbon-fiber-writing-tool\n",
      "bia-the-first-gps-sports-watch-for-womenby-women\n",
      "the-doubleclicks-new-album-president-snakes\n",
      "the-drummers-of-twisted-gypsy-our-first-album\n",
      "finding-vivian-maier-a-feature-length-documentary\n",
      "welcome-to-leith-feature-documentary\n",
      "blue-ruin\n",
      "canary-in-a-coal-mine\n",
      "poorcraft-wish-you-were-here\n",
      "the-black-well-a-new-graphic-novel-by-jamie-tanner\n",
      "basewood\n",
      "junkyard-glass\n",
      "handspun-single-sheep-breed-yarns\n",
      "tgt-tight-a-new-kind-of-wallet\n",
      "picobrew-zymatic-the-automatic-beer-brewing-applia\n",
      "the-espro-press\n"
     ]
    },
    {
     "name": "stderr",
     "output_type": "stream",
     "text": [
      "\n"
     ]
    }
   ],
   "source": [
    "import subprocess\n",
    "import pandas\n",
    "from tqdm import tqdm\n",
    "\n",
    "df_ner_dict = pd.DataFrame()\n",
    "\n",
    "for idx, text in enumerate(tqdm(df_u['content'])):\n",
    "    print(df_u['ID'][idx])\n",
    "    \n",
    "    idx_id = df_u['ID'][idx]\n",
    "    ner_dict = {'ID':idx_id, 'f_organization':0, 'f_person':0, 'f_location':0}\n",
    "    \n",
    "    try:\n",
    "        df_ner_count = pd.read_csv('./full_comment_full_3class/' + idx_id + '_ner.tsv', sep='\\t')\n",
    "    \n",
    "        organization = len(df_ner_count[df_ner_count['Unnamed: 1'] == 'ORGANIZATION'])\n",
    "        person = len(df_ner_count[df_ner_count['Unnamed: 1'] == 'PERSON'])\n",
    "        location = len(df_ner_count[df_ner_count['Unnamed: 1'] == 'LOCATION'])\n",
    "    \n",
    "        ner_dict['f_organization'] = organization\n",
    "        ner_dict['f_person'] = person\n",
    "        ner_dict['f_location'] = location\n",
    "        \n",
    "    except:\n",
    "        pass\n",
    "\n",
    "    #print(ner_dict)\n",
    "    df_ner_dict = df_ner_dict.append(ner_dict, ignore_index=True)"
   ]
  },
  {
   "cell_type": "code",
   "execution_count": 7,
   "id": "9f4e140c",
   "metadata": {},
   "outputs": [
    {
     "data": {
      "text/html": [
       "<div>\n",
       "<style scoped>\n",
       "    .dataframe tbody tr th:only-of-type {\n",
       "        vertical-align: middle;\n",
       "    }\n",
       "\n",
       "    .dataframe tbody tr th {\n",
       "        vertical-align: top;\n",
       "    }\n",
       "\n",
       "    .dataframe thead th {\n",
       "        text-align: right;\n",
       "    }\n",
       "</style>\n",
       "<table border=\"1\" class=\"dataframe\">\n",
       "  <thead>\n",
       "    <tr style=\"text-align: right;\">\n",
       "      <th></th>\n",
       "      <th>ID</th>\n",
       "      <th>f_location</th>\n",
       "      <th>f_organization</th>\n",
       "      <th>f_person</th>\n",
       "    </tr>\n",
       "  </thead>\n",
       "  <tbody>\n",
       "    <tr>\n",
       "      <th>0</th>\n",
       "      <td>ambiolight-a-one-touch-room-makeover</td>\n",
       "      <td>3.0</td>\n",
       "      <td>5.0</td>\n",
       "      <td>3.0</td>\n",
       "    </tr>\n",
       "    <tr>\n",
       "      <th>1</th>\n",
       "      <td>arc-island-a-brave-new-civilization</td>\n",
       "      <td>2.0</td>\n",
       "      <td>0.0</td>\n",
       "      <td>10.0</td>\n",
       "    </tr>\n",
       "    <tr>\n",
       "      <th>2</th>\n",
       "      <td>asylum-playing-cards</td>\n",
       "      <td>61.0</td>\n",
       "      <td>28.0</td>\n",
       "      <td>90.0</td>\n",
       "    </tr>\n",
       "    <tr>\n",
       "      <th>3</th>\n",
       "      <td>code-hero-a-game-that-teaches-you-to-make-game...</td>\n",
       "      <td>34.0</td>\n",
       "      <td>45.0</td>\n",
       "      <td>340.0</td>\n",
       "    </tr>\n",
       "    <tr>\n",
       "      <th>4</th>\n",
       "      <td>dark-skyes-an-epic-brony-dating-sim</td>\n",
       "      <td>9.0</td>\n",
       "      <td>8.0</td>\n",
       "      <td>44.0</td>\n",
       "    </tr>\n",
       "    <tr>\n",
       "      <th>...</th>\n",
       "      <td>...</td>\n",
       "      <td>...</td>\n",
       "      <td>...</td>\n",
       "      <td>...</td>\n",
       "    </tr>\n",
       "    <tr>\n",
       "      <th>203</th>\n",
       "      <td>junkyard-glass</td>\n",
       "      <td>0.0</td>\n",
       "      <td>0.0</td>\n",
       "      <td>1.0</td>\n",
       "    </tr>\n",
       "    <tr>\n",
       "      <th>204</th>\n",
       "      <td>handspun-single-sheep-breed-yarns</td>\n",
       "      <td>1.0</td>\n",
       "      <td>0.0</td>\n",
       "      <td>0.0</td>\n",
       "    </tr>\n",
       "    <tr>\n",
       "      <th>205</th>\n",
       "      <td>tgt-tight-a-new-kind-of-wallet</td>\n",
       "      <td>104.0</td>\n",
       "      <td>31.0</td>\n",
       "      <td>126.0</td>\n",
       "    </tr>\n",
       "    <tr>\n",
       "      <th>206</th>\n",
       "      <td>picobrew-zymatic-the-automatic-beer-brewing-ap...</td>\n",
       "      <td>21.0</td>\n",
       "      <td>15.0</td>\n",
       "      <td>53.0</td>\n",
       "    </tr>\n",
       "    <tr>\n",
       "      <th>207</th>\n",
       "      <td>the-espro-press</td>\n",
       "      <td>13.0</td>\n",
       "      <td>24.0</td>\n",
       "      <td>39.0</td>\n",
       "    </tr>\n",
       "  </tbody>\n",
       "</table>\n",
       "<p>208 rows × 4 columns</p>\n",
       "</div>"
      ],
      "text/plain": [
       "                                                    ID  f_location  \\\n",
       "0                 ambiolight-a-one-touch-room-makeover         3.0   \n",
       "1                  arc-island-a-brave-new-civilization         2.0   \n",
       "2                                 asylum-playing-cards        61.0   \n",
       "3    code-hero-a-game-that-teaches-you-to-make-game...        34.0   \n",
       "4                  dark-skyes-an-epic-brony-dating-sim         9.0   \n",
       "..                                                 ...         ...   \n",
       "203                                     junkyard-glass         0.0   \n",
       "204                  handspun-single-sheep-breed-yarns         1.0   \n",
       "205                     tgt-tight-a-new-kind-of-wallet       104.0   \n",
       "206  picobrew-zymatic-the-automatic-beer-brewing-ap...        21.0   \n",
       "207                                    the-espro-press        13.0   \n",
       "\n",
       "     f_organization  f_person  \n",
       "0               5.0       3.0  \n",
       "1               0.0      10.0  \n",
       "2              28.0      90.0  \n",
       "3              45.0     340.0  \n",
       "4               8.0      44.0  \n",
       "..              ...       ...  \n",
       "203             0.0       1.0  \n",
       "204             0.0       0.0  \n",
       "205            31.0     126.0  \n",
       "206            15.0      53.0  \n",
       "207            24.0      39.0  \n",
       "\n",
       "[208 rows x 4 columns]"
      ]
     },
     "execution_count": 7,
     "metadata": {},
     "output_type": "execute_result"
    }
   ],
   "source": [
    "df_ner_dict"
   ]
  },
  {
   "cell_type": "code",
   "execution_count": 8,
   "id": "f2fdf902",
   "metadata": {},
   "outputs": [
    {
     "data": {
      "text/html": [
       "<div>\n",
       "<style scoped>\n",
       "    .dataframe tbody tr th:only-of-type {\n",
       "        vertical-align: middle;\n",
       "    }\n",
       "\n",
       "    .dataframe tbody tr th {\n",
       "        vertical-align: top;\n",
       "    }\n",
       "\n",
       "    .dataframe thead th {\n",
       "        text-align: right;\n",
       "    }\n",
       "</style>\n",
       "<table border=\"1\" class=\"dataframe\">\n",
       "  <thead>\n",
       "    <tr style=\"text-align: right;\">\n",
       "      <th></th>\n",
       "      <th>ID</th>\n",
       "      <th>success_or_fail</th>\n",
       "      <th>content</th>\n",
       "    </tr>\n",
       "  </thead>\n",
       "  <tbody>\n",
       "    <tr>\n",
       "      <th>0</th>\n",
       "      <td>ambiolight-a-one-touch-room-makeover</td>\n",
       "      <td>0</td>\n",
       "      <td>It would seem that no matter what we tell you,...</td>\n",
       "    </tr>\n",
       "    <tr>\n",
       "      <th>1</th>\n",
       "      <td>arc-island-a-brave-new-civilization</td>\n",
       "      <td>0</td>\n",
       "      <td>A lot of people have been asking me why? Why w...</td>\n",
       "    </tr>\n",
       "    <tr>\n",
       "      <th>2</th>\n",
       "      <td>asylum-playing-cards</td>\n",
       "      <td>1</td>\n",
       "      <td>Hi guys! Surveys were sent only for the reward...</td>\n",
       "    </tr>\n",
       "    <tr>\n",
       "      <th>3</th>\n",
       "      <td>code-hero-a-game-that-teaches-you-to-make-game...</td>\n",
       "      <td>1</td>\n",
       "      <td>From the project coordinator: I'm deeply sorry...</td>\n",
       "    </tr>\n",
       "    <tr>\n",
       "      <th>4</th>\n",
       "      <td>dark-skyes-an-epic-brony-dating-sim</td>\n",
       "      <td>0</td>\n",
       "      <td>Hey backers and potential backers--don't let R...</td>\n",
       "    </tr>\n",
       "    <tr>\n",
       "      <th>...</th>\n",
       "      <td>...</td>\n",
       "      <td>...</td>\n",
       "      <td>...</td>\n",
       "    </tr>\n",
       "    <tr>\n",
       "      <th>203</th>\n",
       "      <td>junkyard-glass</td>\n",
       "      <td>1</td>\n",
       "      <td>You may use it for any food product. The glass...</td>\n",
       "    </tr>\n",
       "    <tr>\n",
       "      <th>204</th>\n",
       "      <td>handspun-single-sheep-breed-yarns</td>\n",
       "      <td>1</td>\n",
       "      <td>thank you so much!! im glad you liked it!! yes...</td>\n",
       "    </tr>\n",
       "    <tr>\n",
       "      <th>205</th>\n",
       "      <td>tgt-tight-a-new-kind-of-wallet</td>\n",
       "      <td>1</td>\n",
       "      <td>@Sammi! Thank you man! Great day to hear that ...</td>\n",
       "    </tr>\n",
       "    <tr>\n",
       "      <th>206</th>\n",
       "      <td>picobrew-zymatic-the-automatic-beer-brewing-ap...</td>\n",
       "      <td>1</td>\n",
       "      <td>Actually, we have to stick to plan and go in t...</td>\n",
       "    </tr>\n",
       "    <tr>\n",
       "      <th>207</th>\n",
       "      <td>the-espro-press</td>\n",
       "      <td>1</td>\n",
       "      <td>Thanks Stuart - we really appreciate the feedb...</td>\n",
       "    </tr>\n",
       "  </tbody>\n",
       "</table>\n",
       "<p>208 rows × 3 columns</p>\n",
       "</div>"
      ],
      "text/plain": [
       "                                                    ID  success_or_fail  \\\n",
       "0                 ambiolight-a-one-touch-room-makeover                0   \n",
       "1                  arc-island-a-brave-new-civilization                0   \n",
       "2                                 asylum-playing-cards                1   \n",
       "3    code-hero-a-game-that-teaches-you-to-make-game...                1   \n",
       "4                  dark-skyes-an-epic-brony-dating-sim                0   \n",
       "..                                                 ...              ...   \n",
       "203                                     junkyard-glass                1   \n",
       "204                  handspun-single-sheep-breed-yarns                1   \n",
       "205                     tgt-tight-a-new-kind-of-wallet                1   \n",
       "206  picobrew-zymatic-the-automatic-beer-brewing-ap...                1   \n",
       "207                                    the-espro-press                1   \n",
       "\n",
       "                                               content  \n",
       "0    It would seem that no matter what we tell you,...  \n",
       "1    A lot of people have been asking me why? Why w...  \n",
       "2    Hi guys! Surveys were sent only for the reward...  \n",
       "3    From the project coordinator: I'm deeply sorry...  \n",
       "4    Hey backers and potential backers--don't let R...  \n",
       "..                                                 ...  \n",
       "203  You may use it for any food product. The glass...  \n",
       "204  thank you so much!! im glad you liked it!! yes...  \n",
       "205  @Sammi! Thank you man! Great day to hear that ...  \n",
       "206  Actually, we have to stick to plan and go in t...  \n",
       "207  Thanks Stuart - we really appreciate the feedb...  \n",
       "\n",
       "[208 rows x 3 columns]"
      ]
     },
     "execution_count": 8,
     "metadata": {},
     "output_type": "execute_result"
    }
   ],
   "source": [
    "df_u"
   ]
  },
  {
   "cell_type": "code",
   "execution_count": 5,
   "id": "2f30c11f",
   "metadata": {},
   "outputs": [],
   "source": [
    "df_result = pd.merge(df_u, df_ner_dict, how='outer', on='ID')"
   ]
  },
  {
   "cell_type": "code",
   "execution_count": 6,
   "id": "6bf013ef",
   "metadata": {},
   "outputs": [
    {
     "data": {
      "text/html": [
       "<div>\n",
       "<style scoped>\n",
       "    .dataframe tbody tr th:only-of-type {\n",
       "        vertical-align: middle;\n",
       "    }\n",
       "\n",
       "    .dataframe tbody tr th {\n",
       "        vertical-align: top;\n",
       "    }\n",
       "\n",
       "    .dataframe thead th {\n",
       "        text-align: right;\n",
       "    }\n",
       "</style>\n",
       "<table border=\"1\" class=\"dataframe\">\n",
       "  <thead>\n",
       "    <tr style=\"text-align: right;\">\n",
       "      <th></th>\n",
       "      <th>ID</th>\n",
       "      <th>success_or_fail</th>\n",
       "      <th>content</th>\n",
       "      <th>f_location</th>\n",
       "      <th>f_organization</th>\n",
       "      <th>f_person</th>\n",
       "    </tr>\n",
       "  </thead>\n",
       "  <tbody>\n",
       "    <tr>\n",
       "      <th>0</th>\n",
       "      <td>ambiolight-a-one-touch-room-makeover</td>\n",
       "      <td>0</td>\n",
       "      <td>It would seem that no matter what we tell you,...</td>\n",
       "      <td>3.0</td>\n",
       "      <td>5.0</td>\n",
       "      <td>3.0</td>\n",
       "    </tr>\n",
       "    <tr>\n",
       "      <th>1</th>\n",
       "      <td>arc-island-a-brave-new-civilization</td>\n",
       "      <td>0</td>\n",
       "      <td>A lot of people have been asking me why? Why w...</td>\n",
       "      <td>2.0</td>\n",
       "      <td>0.0</td>\n",
       "      <td>10.0</td>\n",
       "    </tr>\n",
       "    <tr>\n",
       "      <th>2</th>\n",
       "      <td>asylum-playing-cards</td>\n",
       "      <td>1</td>\n",
       "      <td>Hi guys! Surveys were sent only for the reward...</td>\n",
       "      <td>61.0</td>\n",
       "      <td>28.0</td>\n",
       "      <td>90.0</td>\n",
       "    </tr>\n",
       "    <tr>\n",
       "      <th>3</th>\n",
       "      <td>code-hero-a-game-that-teaches-you-to-make-game...</td>\n",
       "      <td>1</td>\n",
       "      <td>From the project coordinator: I'm deeply sorry...</td>\n",
       "      <td>34.0</td>\n",
       "      <td>45.0</td>\n",
       "      <td>340.0</td>\n",
       "    </tr>\n",
       "    <tr>\n",
       "      <th>4</th>\n",
       "      <td>dark-skyes-an-epic-brony-dating-sim</td>\n",
       "      <td>0</td>\n",
       "      <td>Hey backers and potential backers--don't let R...</td>\n",
       "      <td>9.0</td>\n",
       "      <td>8.0</td>\n",
       "      <td>44.0</td>\n",
       "    </tr>\n",
       "    <tr>\n",
       "      <th>...</th>\n",
       "      <td>...</td>\n",
       "      <td>...</td>\n",
       "      <td>...</td>\n",
       "      <td>...</td>\n",
       "      <td>...</td>\n",
       "      <td>...</td>\n",
       "    </tr>\n",
       "    <tr>\n",
       "      <th>203</th>\n",
       "      <td>junkyard-glass</td>\n",
       "      <td>1</td>\n",
       "      <td>You may use it for any food product. The glass...</td>\n",
       "      <td>0.0</td>\n",
       "      <td>0.0</td>\n",
       "      <td>1.0</td>\n",
       "    </tr>\n",
       "    <tr>\n",
       "      <th>204</th>\n",
       "      <td>handspun-single-sheep-breed-yarns</td>\n",
       "      <td>1</td>\n",
       "      <td>thank you so much!! im glad you liked it!! yes...</td>\n",
       "      <td>1.0</td>\n",
       "      <td>0.0</td>\n",
       "      <td>0.0</td>\n",
       "    </tr>\n",
       "    <tr>\n",
       "      <th>205</th>\n",
       "      <td>tgt-tight-a-new-kind-of-wallet</td>\n",
       "      <td>1</td>\n",
       "      <td>@Sammi! Thank you man! Great day to hear that ...</td>\n",
       "      <td>104.0</td>\n",
       "      <td>31.0</td>\n",
       "      <td>126.0</td>\n",
       "    </tr>\n",
       "    <tr>\n",
       "      <th>206</th>\n",
       "      <td>picobrew-zymatic-the-automatic-beer-brewing-ap...</td>\n",
       "      <td>1</td>\n",
       "      <td>Actually, we have to stick to plan and go in t...</td>\n",
       "      <td>21.0</td>\n",
       "      <td>15.0</td>\n",
       "      <td>53.0</td>\n",
       "    </tr>\n",
       "    <tr>\n",
       "      <th>207</th>\n",
       "      <td>the-espro-press</td>\n",
       "      <td>1</td>\n",
       "      <td>Thanks Stuart - we really appreciate the feedb...</td>\n",
       "      <td>13.0</td>\n",
       "      <td>24.0</td>\n",
       "      <td>39.0</td>\n",
       "    </tr>\n",
       "  </tbody>\n",
       "</table>\n",
       "<p>208 rows × 6 columns</p>\n",
       "</div>"
      ],
      "text/plain": [
       "                                                    ID  success_or_fail  \\\n",
       "0                 ambiolight-a-one-touch-room-makeover                0   \n",
       "1                  arc-island-a-brave-new-civilization                0   \n",
       "2                                 asylum-playing-cards                1   \n",
       "3    code-hero-a-game-that-teaches-you-to-make-game...                1   \n",
       "4                  dark-skyes-an-epic-brony-dating-sim                0   \n",
       "..                                                 ...              ...   \n",
       "203                                     junkyard-glass                1   \n",
       "204                  handspun-single-sheep-breed-yarns                1   \n",
       "205                     tgt-tight-a-new-kind-of-wallet                1   \n",
       "206  picobrew-zymatic-the-automatic-beer-brewing-ap...                1   \n",
       "207                                    the-espro-press                1   \n",
       "\n",
       "                                               content  f_location  \\\n",
       "0    It would seem that no matter what we tell you,...         3.0   \n",
       "1    A lot of people have been asking me why? Why w...         2.0   \n",
       "2    Hi guys! Surveys were sent only for the reward...        61.0   \n",
       "3    From the project coordinator: I'm deeply sorry...        34.0   \n",
       "4    Hey backers and potential backers--don't let R...         9.0   \n",
       "..                                                 ...         ...   \n",
       "203  You may use it for any food product. The glass...         0.0   \n",
       "204  thank you so much!! im glad you liked it!! yes...         1.0   \n",
       "205  @Sammi! Thank you man! Great day to hear that ...       104.0   \n",
       "206  Actually, we have to stick to plan and go in t...        21.0   \n",
       "207  Thanks Stuart - we really appreciate the feedb...        13.0   \n",
       "\n",
       "     f_organization  f_person  \n",
       "0               5.0       3.0  \n",
       "1               0.0      10.0  \n",
       "2              28.0      90.0  \n",
       "3              45.0     340.0  \n",
       "4               8.0      44.0  \n",
       "..              ...       ...  \n",
       "203             0.0       1.0  \n",
       "204             0.0       0.0  \n",
       "205            31.0     126.0  \n",
       "206            15.0      53.0  \n",
       "207            24.0      39.0  \n",
       "\n",
       "[208 rows x 6 columns]"
      ]
     },
     "execution_count": 6,
     "metadata": {},
     "output_type": "execute_result"
    }
   ],
   "source": [
    "df_result"
   ]
  },
  {
   "cell_type": "code",
   "execution_count": 7,
   "id": "fa840444",
   "metadata": {},
   "outputs": [
    {
     "data": {
      "text/html": [
       "<div>\n",
       "<style scoped>\n",
       "    .dataframe tbody tr th:only-of-type {\n",
       "        vertical-align: middle;\n",
       "    }\n",
       "\n",
       "    .dataframe tbody tr th {\n",
       "        vertical-align: top;\n",
       "    }\n",
       "\n",
       "    .dataframe thead th {\n",
       "        text-align: right;\n",
       "    }\n",
       "</style>\n",
       "<table border=\"1\" class=\"dataframe\">\n",
       "  <thead>\n",
       "    <tr style=\"text-align: right;\">\n",
       "      <th></th>\n",
       "      <th>ID</th>\n",
       "      <th>subjective_count</th>\n",
       "      <th>objective_count</th>\n",
       "    </tr>\n",
       "  </thead>\n",
       "  <tbody>\n",
       "    <tr>\n",
       "      <th>0</th>\n",
       "      <td>ambiolight-a-one-touch-room-makeover</td>\n",
       "      <td>107.0</td>\n",
       "      <td>17.0</td>\n",
       "    </tr>\n",
       "    <tr>\n",
       "      <th>1</th>\n",
       "      <td>arc-island-a-brave-new-civilization</td>\n",
       "      <td>73.0</td>\n",
       "      <td>12.0</td>\n",
       "    </tr>\n",
       "    <tr>\n",
       "      <th>2</th>\n",
       "      <td>asylum-playing-cards</td>\n",
       "      <td>541.0</td>\n",
       "      <td>302.0</td>\n",
       "    </tr>\n",
       "    <tr>\n",
       "      <th>3</th>\n",
       "      <td>code-hero-a-game-that-teaches-you-to-make-game...</td>\n",
       "      <td>1712.0</td>\n",
       "      <td>811.0</td>\n",
       "    </tr>\n",
       "    <tr>\n",
       "      <th>4</th>\n",
       "      <td>dark-skyes-an-epic-brony-dating-sim</td>\n",
       "      <td>243.0</td>\n",
       "      <td>102.0</td>\n",
       "    </tr>\n",
       "    <tr>\n",
       "      <th>...</th>\n",
       "      <td>...</td>\n",
       "      <td>...</td>\n",
       "      <td>...</td>\n",
       "    </tr>\n",
       "    <tr>\n",
       "      <th>203</th>\n",
       "      <td>junkyard-glass</td>\n",
       "      <td>10.0</td>\n",
       "      <td>3.0</td>\n",
       "    </tr>\n",
       "    <tr>\n",
       "      <th>204</th>\n",
       "      <td>handspun-single-sheep-breed-yarns</td>\n",
       "      <td>10.0</td>\n",
       "      <td>1.0</td>\n",
       "    </tr>\n",
       "    <tr>\n",
       "      <th>205</th>\n",
       "      <td>tgt-tight-a-new-kind-of-wallet</td>\n",
       "      <td>983.0</td>\n",
       "      <td>466.0</td>\n",
       "    </tr>\n",
       "    <tr>\n",
       "      <th>206</th>\n",
       "      <td>picobrew-zymatic-the-automatic-beer-brewing-ap...</td>\n",
       "      <td>247.0</td>\n",
       "      <td>111.0</td>\n",
       "    </tr>\n",
       "    <tr>\n",
       "      <th>207</th>\n",
       "      <td>the-espro-press</td>\n",
       "      <td>221.0</td>\n",
       "      <td>80.0</td>\n",
       "    </tr>\n",
       "  </tbody>\n",
       "</table>\n",
       "<p>208 rows × 3 columns</p>\n",
       "</div>"
      ],
      "text/plain": [
       "                                                    ID  subjective_count  \\\n",
       "0                 ambiolight-a-one-touch-room-makeover             107.0   \n",
       "1                  arc-island-a-brave-new-civilization              73.0   \n",
       "2                                 asylum-playing-cards             541.0   \n",
       "3    code-hero-a-game-that-teaches-you-to-make-game...            1712.0   \n",
       "4                  dark-skyes-an-epic-brony-dating-sim             243.0   \n",
       "..                                                 ...               ...   \n",
       "203                                     junkyard-glass              10.0   \n",
       "204                  handspun-single-sheep-breed-yarns              10.0   \n",
       "205                     tgt-tight-a-new-kind-of-wallet             983.0   \n",
       "206  picobrew-zymatic-the-automatic-beer-brewing-ap...             247.0   \n",
       "207                                    the-espro-press             221.0   \n",
       "\n",
       "     objective_count  \n",
       "0               17.0  \n",
       "1               12.0  \n",
       "2              302.0  \n",
       "3              811.0  \n",
       "4              102.0  \n",
       "..               ...  \n",
       "203              3.0  \n",
       "204              1.0  \n",
       "205            466.0  \n",
       "206            111.0  \n",
       "207             80.0  \n",
       "\n",
       "[208 rows x 3 columns]"
      ]
     },
     "execution_count": 7,
     "metadata": {},
     "output_type": "execute_result"
    }
   ],
   "source": [
    "df_subjectivity = pd.read_csv('../../subjectivity_classifier/output_files/full_comment_full_count.tsv', sep='\\t')\n",
    "\n",
    "df_subjectivity"
   ]
  },
  {
   "cell_type": "code",
   "execution_count": 8,
   "id": "84a6e723",
   "metadata": {},
   "outputs": [
    {
     "data": {
      "text/html": [
       "<div>\n",
       "<style scoped>\n",
       "    .dataframe tbody tr th:only-of-type {\n",
       "        vertical-align: middle;\n",
       "    }\n",
       "\n",
       "    .dataframe tbody tr th {\n",
       "        vertical-align: top;\n",
       "    }\n",
       "\n",
       "    .dataframe thead th {\n",
       "        text-align: right;\n",
       "    }\n",
       "</style>\n",
       "<table border=\"1\" class=\"dataframe\">\n",
       "  <thead>\n",
       "    <tr style=\"text-align: right;\">\n",
       "      <th></th>\n",
       "      <th>ID</th>\n",
       "      <th>success_or_fail</th>\n",
       "      <th>content</th>\n",
       "      <th>f_location</th>\n",
       "      <th>f_organization</th>\n",
       "      <th>f_person</th>\n",
       "      <th>subjective_count</th>\n",
       "      <th>objective_count</th>\n",
       "    </tr>\n",
       "  </thead>\n",
       "  <tbody>\n",
       "    <tr>\n",
       "      <th>0</th>\n",
       "      <td>ambiolight-a-one-touch-room-makeover</td>\n",
       "      <td>0</td>\n",
       "      <td>It would seem that no matter what we tell you,...</td>\n",
       "      <td>3.0</td>\n",
       "      <td>5.0</td>\n",
       "      <td>3.0</td>\n",
       "      <td>107.0</td>\n",
       "      <td>17.0</td>\n",
       "    </tr>\n",
       "    <tr>\n",
       "      <th>1</th>\n",
       "      <td>arc-island-a-brave-new-civilization</td>\n",
       "      <td>0</td>\n",
       "      <td>A lot of people have been asking me why? Why w...</td>\n",
       "      <td>2.0</td>\n",
       "      <td>0.0</td>\n",
       "      <td>10.0</td>\n",
       "      <td>73.0</td>\n",
       "      <td>12.0</td>\n",
       "    </tr>\n",
       "    <tr>\n",
       "      <th>2</th>\n",
       "      <td>asylum-playing-cards</td>\n",
       "      <td>1</td>\n",
       "      <td>Hi guys! Surveys were sent only for the reward...</td>\n",
       "      <td>61.0</td>\n",
       "      <td>28.0</td>\n",
       "      <td>90.0</td>\n",
       "      <td>541.0</td>\n",
       "      <td>302.0</td>\n",
       "    </tr>\n",
       "    <tr>\n",
       "      <th>3</th>\n",
       "      <td>code-hero-a-game-that-teaches-you-to-make-game...</td>\n",
       "      <td>1</td>\n",
       "      <td>From the project coordinator: I'm deeply sorry...</td>\n",
       "      <td>34.0</td>\n",
       "      <td>45.0</td>\n",
       "      <td>340.0</td>\n",
       "      <td>1712.0</td>\n",
       "      <td>811.0</td>\n",
       "    </tr>\n",
       "    <tr>\n",
       "      <th>4</th>\n",
       "      <td>dark-skyes-an-epic-brony-dating-sim</td>\n",
       "      <td>0</td>\n",
       "      <td>Hey backers and potential backers--don't let R...</td>\n",
       "      <td>9.0</td>\n",
       "      <td>8.0</td>\n",
       "      <td>44.0</td>\n",
       "      <td>243.0</td>\n",
       "      <td>102.0</td>\n",
       "    </tr>\n",
       "    <tr>\n",
       "      <th>...</th>\n",
       "      <td>...</td>\n",
       "      <td>...</td>\n",
       "      <td>...</td>\n",
       "      <td>...</td>\n",
       "      <td>...</td>\n",
       "      <td>...</td>\n",
       "      <td>...</td>\n",
       "      <td>...</td>\n",
       "    </tr>\n",
       "    <tr>\n",
       "      <th>203</th>\n",
       "      <td>junkyard-glass</td>\n",
       "      <td>1</td>\n",
       "      <td>You may use it for any food product. The glass...</td>\n",
       "      <td>0.0</td>\n",
       "      <td>0.0</td>\n",
       "      <td>1.0</td>\n",
       "      <td>10.0</td>\n",
       "      <td>3.0</td>\n",
       "    </tr>\n",
       "    <tr>\n",
       "      <th>204</th>\n",
       "      <td>handspun-single-sheep-breed-yarns</td>\n",
       "      <td>1</td>\n",
       "      <td>thank you so much!! im glad you liked it!! yes...</td>\n",
       "      <td>1.0</td>\n",
       "      <td>0.0</td>\n",
       "      <td>0.0</td>\n",
       "      <td>10.0</td>\n",
       "      <td>1.0</td>\n",
       "    </tr>\n",
       "    <tr>\n",
       "      <th>205</th>\n",
       "      <td>tgt-tight-a-new-kind-of-wallet</td>\n",
       "      <td>1</td>\n",
       "      <td>@Sammi! Thank you man! Great day to hear that ...</td>\n",
       "      <td>104.0</td>\n",
       "      <td>31.0</td>\n",
       "      <td>126.0</td>\n",
       "      <td>983.0</td>\n",
       "      <td>466.0</td>\n",
       "    </tr>\n",
       "    <tr>\n",
       "      <th>206</th>\n",
       "      <td>picobrew-zymatic-the-automatic-beer-brewing-ap...</td>\n",
       "      <td>1</td>\n",
       "      <td>Actually, we have to stick to plan and go in t...</td>\n",
       "      <td>21.0</td>\n",
       "      <td>15.0</td>\n",
       "      <td>53.0</td>\n",
       "      <td>247.0</td>\n",
       "      <td>111.0</td>\n",
       "    </tr>\n",
       "    <tr>\n",
       "      <th>207</th>\n",
       "      <td>the-espro-press</td>\n",
       "      <td>1</td>\n",
       "      <td>Thanks Stuart - we really appreciate the feedb...</td>\n",
       "      <td>13.0</td>\n",
       "      <td>24.0</td>\n",
       "      <td>39.0</td>\n",
       "      <td>221.0</td>\n",
       "      <td>80.0</td>\n",
       "    </tr>\n",
       "  </tbody>\n",
       "</table>\n",
       "<p>208 rows × 8 columns</p>\n",
       "</div>"
      ],
      "text/plain": [
       "                                                    ID  success_or_fail  \\\n",
       "0                 ambiolight-a-one-touch-room-makeover                0   \n",
       "1                  arc-island-a-brave-new-civilization                0   \n",
       "2                                 asylum-playing-cards                1   \n",
       "3    code-hero-a-game-that-teaches-you-to-make-game...                1   \n",
       "4                  dark-skyes-an-epic-brony-dating-sim                0   \n",
       "..                                                 ...              ...   \n",
       "203                                     junkyard-glass                1   \n",
       "204                  handspun-single-sheep-breed-yarns                1   \n",
       "205                     tgt-tight-a-new-kind-of-wallet                1   \n",
       "206  picobrew-zymatic-the-automatic-beer-brewing-ap...                1   \n",
       "207                                    the-espro-press                1   \n",
       "\n",
       "                                               content  f_location  \\\n",
       "0    It would seem that no matter what we tell you,...         3.0   \n",
       "1    A lot of people have been asking me why? Why w...         2.0   \n",
       "2    Hi guys! Surveys were sent only for the reward...        61.0   \n",
       "3    From the project coordinator: I'm deeply sorry...        34.0   \n",
       "4    Hey backers and potential backers--don't let R...         9.0   \n",
       "..                                                 ...         ...   \n",
       "203  You may use it for any food product. The glass...         0.0   \n",
       "204  thank you so much!! im glad you liked it!! yes...         1.0   \n",
       "205  @Sammi! Thank you man! Great day to hear that ...       104.0   \n",
       "206  Actually, we have to stick to plan and go in t...        21.0   \n",
       "207  Thanks Stuart - we really appreciate the feedb...        13.0   \n",
       "\n",
       "     f_organization  f_person  subjective_count  objective_count  \n",
       "0               5.0       3.0             107.0             17.0  \n",
       "1               0.0      10.0              73.0             12.0  \n",
       "2              28.0      90.0             541.0            302.0  \n",
       "3              45.0     340.0            1712.0            811.0  \n",
       "4               8.0      44.0             243.0            102.0  \n",
       "..              ...       ...               ...              ...  \n",
       "203             0.0       1.0              10.0              3.0  \n",
       "204             0.0       0.0              10.0              1.0  \n",
       "205            31.0     126.0             983.0            466.0  \n",
       "206            15.0      53.0             247.0            111.0  \n",
       "207            24.0      39.0             221.0             80.0  \n",
       "\n",
       "[208 rows x 8 columns]"
      ]
     },
     "execution_count": 8,
     "metadata": {},
     "output_type": "execute_result"
    }
   ],
   "source": [
    "df_result = pd.merge(df_result, df_subjectivity, how='outer', on='ID')\n",
    "\n",
    "df_result"
   ]
  },
  {
   "cell_type": "code",
   "execution_count": 9,
   "id": "f8f94c8c",
   "metadata": {},
   "outputs": [],
   "source": [
    "df_result.to_csv('./NER_subjectivity_result/full_comment_full_ner.tsv', sep='\\t', index=False)"
   ]
  },
  {
   "cell_type": "code",
   "execution_count": null,
   "id": "f1164339",
   "metadata": {},
   "outputs": [],
   "source": []
  },
  {
   "cell_type": "code",
   "execution_count": null,
   "id": "a0de85e1",
   "metadata": {},
   "outputs": [],
   "source": []
  },
  {
   "cell_type": "code",
   "execution_count": null,
   "id": "37c37ace",
   "metadata": {},
   "outputs": [],
   "source": []
  },
  {
   "cell_type": "code",
   "execution_count": null,
   "id": "7959fdbe",
   "metadata": {},
   "outputs": [],
   "source": []
  },
  {
   "cell_type": "code",
   "execution_count": 30,
   "id": "ba68b312",
   "metadata": {},
   "outputs": [
    {
     "ename": "EmptyDataError",
     "evalue": "No columns to parse from file",
     "output_type": "error",
     "traceback": [
      "\u001b[0;31m---------------------------------------------------------------------------\u001b[0m",
      "\u001b[0;31mEmptyDataError\u001b[0m                            Traceback (most recent call last)",
      "\u001b[0;32m<ipython-input-30-c472995fc121>\u001b[0m in \u001b[0;36m<module>\u001b[0;34m\u001b[0m\n\u001b[1;32m      1\u001b[0m \u001b[0;31m#df_ner_count = pd.read_csv('./update_full_3class/' + idx_id + '_ner.tsv', sep='\\t')\u001b[0m\u001b[0;34m\u001b[0m\u001b[0;34m\u001b[0m\u001b[0m\n\u001b[0;32m----> 2\u001b[0;31m \u001b[0mdf_ner_count\u001b[0m \u001b[0;34m=\u001b[0m \u001b[0mpd\u001b[0m\u001b[0;34m.\u001b[0m\u001b[0mread_csv\u001b[0m\u001b[0;34m(\u001b[0m\u001b[0;34m'./update_full_3class/ambiolight-a-one-touch-room-makeover_ner.tsv'\u001b[0m\u001b[0;34m,\u001b[0m \u001b[0msep\u001b[0m\u001b[0;34m=\u001b[0m\u001b[0;34m'\\t'\u001b[0m\u001b[0;34m)\u001b[0m\u001b[0;34m\u001b[0m\u001b[0m\n\u001b[0m",
      "\u001b[0;32m~/.pyenv/versions/3.6.1/lib/python3.6/site-packages/pandas/io/parsers.py\u001b[0m in \u001b[0;36mread_csv\u001b[0;34m(filepath_or_buffer, sep, delimiter, header, names, index_col, usecols, squeeze, prefix, mangle_dupe_cols, dtype, engine, converters, true_values, false_values, skipinitialspace, skiprows, skipfooter, nrows, na_values, keep_default_na, na_filter, verbose, skip_blank_lines, parse_dates, infer_datetime_format, keep_date_col, date_parser, dayfirst, cache_dates, iterator, chunksize, compression, thousands, decimal, lineterminator, quotechar, quoting, doublequote, escapechar, comment, encoding, dialect, error_bad_lines, warn_bad_lines, delim_whitespace, low_memory, memory_map, float_precision)\u001b[0m\n\u001b[1;32m    686\u001b[0m     )\n\u001b[1;32m    687\u001b[0m \u001b[0;34m\u001b[0m\u001b[0m\n\u001b[0;32m--> 688\u001b[0;31m     \u001b[0;32mreturn\u001b[0m \u001b[0m_read\u001b[0m\u001b[0;34m(\u001b[0m\u001b[0mfilepath_or_buffer\u001b[0m\u001b[0;34m,\u001b[0m \u001b[0mkwds\u001b[0m\u001b[0;34m)\u001b[0m\u001b[0;34m\u001b[0m\u001b[0m\n\u001b[0m\u001b[1;32m    689\u001b[0m \u001b[0;34m\u001b[0m\u001b[0m\n\u001b[1;32m    690\u001b[0m \u001b[0;34m\u001b[0m\u001b[0m\n",
      "\u001b[0;32m~/.pyenv/versions/3.6.1/lib/python3.6/site-packages/pandas/io/parsers.py\u001b[0m in \u001b[0;36m_read\u001b[0;34m(filepath_or_buffer, kwds)\u001b[0m\n\u001b[1;32m    452\u001b[0m \u001b[0;34m\u001b[0m\u001b[0m\n\u001b[1;32m    453\u001b[0m     \u001b[0;31m# Create the parser.\u001b[0m\u001b[0;34m\u001b[0m\u001b[0;34m\u001b[0m\u001b[0m\n\u001b[0;32m--> 454\u001b[0;31m     \u001b[0mparser\u001b[0m \u001b[0;34m=\u001b[0m \u001b[0mTextFileReader\u001b[0m\u001b[0;34m(\u001b[0m\u001b[0mfp_or_buf\u001b[0m\u001b[0;34m,\u001b[0m \u001b[0;34m**\u001b[0m\u001b[0mkwds\u001b[0m\u001b[0;34m)\u001b[0m\u001b[0;34m\u001b[0m\u001b[0m\n\u001b[0m\u001b[1;32m    455\u001b[0m \u001b[0;34m\u001b[0m\u001b[0m\n\u001b[1;32m    456\u001b[0m     \u001b[0;32mif\u001b[0m \u001b[0mchunksize\u001b[0m \u001b[0;32mor\u001b[0m \u001b[0miterator\u001b[0m\u001b[0;34m:\u001b[0m\u001b[0;34m\u001b[0m\u001b[0m\n",
      "\u001b[0;32m~/.pyenv/versions/3.6.1/lib/python3.6/site-packages/pandas/io/parsers.py\u001b[0m in \u001b[0;36m__init__\u001b[0;34m(self, f, engine, **kwds)\u001b[0m\n\u001b[1;32m    946\u001b[0m             \u001b[0mself\u001b[0m\u001b[0;34m.\u001b[0m\u001b[0moptions\u001b[0m\u001b[0;34m[\u001b[0m\u001b[0;34m\"has_index_names\"\u001b[0m\u001b[0;34m]\u001b[0m \u001b[0;34m=\u001b[0m \u001b[0mkwds\u001b[0m\u001b[0;34m[\u001b[0m\u001b[0;34m\"has_index_names\"\u001b[0m\u001b[0;34m]\u001b[0m\u001b[0;34m\u001b[0m\u001b[0m\n\u001b[1;32m    947\u001b[0m \u001b[0;34m\u001b[0m\u001b[0m\n\u001b[0;32m--> 948\u001b[0;31m         \u001b[0mself\u001b[0m\u001b[0;34m.\u001b[0m\u001b[0m_make_engine\u001b[0m\u001b[0;34m(\u001b[0m\u001b[0mself\u001b[0m\u001b[0;34m.\u001b[0m\u001b[0mengine\u001b[0m\u001b[0;34m)\u001b[0m\u001b[0;34m\u001b[0m\u001b[0m\n\u001b[0m\u001b[1;32m    949\u001b[0m \u001b[0;34m\u001b[0m\u001b[0m\n\u001b[1;32m    950\u001b[0m     \u001b[0;32mdef\u001b[0m \u001b[0mclose\u001b[0m\u001b[0;34m(\u001b[0m\u001b[0mself\u001b[0m\u001b[0;34m)\u001b[0m\u001b[0;34m:\u001b[0m\u001b[0;34m\u001b[0m\u001b[0m\n",
      "\u001b[0;32m~/.pyenv/versions/3.6.1/lib/python3.6/site-packages/pandas/io/parsers.py\u001b[0m in \u001b[0;36m_make_engine\u001b[0;34m(self, engine)\u001b[0m\n\u001b[1;32m   1178\u001b[0m     \u001b[0;32mdef\u001b[0m \u001b[0m_make_engine\u001b[0m\u001b[0;34m(\u001b[0m\u001b[0mself\u001b[0m\u001b[0;34m,\u001b[0m \u001b[0mengine\u001b[0m\u001b[0;34m=\u001b[0m\u001b[0;34m\"c\"\u001b[0m\u001b[0;34m)\u001b[0m\u001b[0;34m:\u001b[0m\u001b[0;34m\u001b[0m\u001b[0m\n\u001b[1;32m   1179\u001b[0m         \u001b[0;32mif\u001b[0m \u001b[0mengine\u001b[0m \u001b[0;34m==\u001b[0m \u001b[0;34m\"c\"\u001b[0m\u001b[0;34m:\u001b[0m\u001b[0;34m\u001b[0m\u001b[0m\n\u001b[0;32m-> 1180\u001b[0;31m             \u001b[0mself\u001b[0m\u001b[0;34m.\u001b[0m\u001b[0m_engine\u001b[0m \u001b[0;34m=\u001b[0m \u001b[0mCParserWrapper\u001b[0m\u001b[0;34m(\u001b[0m\u001b[0mself\u001b[0m\u001b[0;34m.\u001b[0m\u001b[0mf\u001b[0m\u001b[0;34m,\u001b[0m \u001b[0;34m**\u001b[0m\u001b[0mself\u001b[0m\u001b[0;34m.\u001b[0m\u001b[0moptions\u001b[0m\u001b[0;34m)\u001b[0m\u001b[0;34m\u001b[0m\u001b[0m\n\u001b[0m\u001b[1;32m   1181\u001b[0m         \u001b[0;32melse\u001b[0m\u001b[0;34m:\u001b[0m\u001b[0;34m\u001b[0m\u001b[0m\n\u001b[1;32m   1182\u001b[0m             \u001b[0;32mif\u001b[0m \u001b[0mengine\u001b[0m \u001b[0;34m==\u001b[0m \u001b[0;34m\"python\"\u001b[0m\u001b[0;34m:\u001b[0m\u001b[0;34m\u001b[0m\u001b[0m\n",
      "\u001b[0;32m~/.pyenv/versions/3.6.1/lib/python3.6/site-packages/pandas/io/parsers.py\u001b[0m in \u001b[0;36m__init__\u001b[0;34m(self, src, **kwds)\u001b[0m\n\u001b[1;32m   2008\u001b[0m         \u001b[0mkwds\u001b[0m\u001b[0;34m[\u001b[0m\u001b[0;34m\"usecols\"\u001b[0m\u001b[0;34m]\u001b[0m \u001b[0;34m=\u001b[0m \u001b[0mself\u001b[0m\u001b[0;34m.\u001b[0m\u001b[0musecols\u001b[0m\u001b[0;34m\u001b[0m\u001b[0m\n\u001b[1;32m   2009\u001b[0m \u001b[0;34m\u001b[0m\u001b[0m\n\u001b[0;32m-> 2010\u001b[0;31m         \u001b[0mself\u001b[0m\u001b[0;34m.\u001b[0m\u001b[0m_reader\u001b[0m \u001b[0;34m=\u001b[0m \u001b[0mparsers\u001b[0m\u001b[0;34m.\u001b[0m\u001b[0mTextReader\u001b[0m\u001b[0;34m(\u001b[0m\u001b[0msrc\u001b[0m\u001b[0;34m,\u001b[0m \u001b[0;34m**\u001b[0m\u001b[0mkwds\u001b[0m\u001b[0;34m)\u001b[0m\u001b[0;34m\u001b[0m\u001b[0m\n\u001b[0m\u001b[1;32m   2011\u001b[0m         \u001b[0mself\u001b[0m\u001b[0;34m.\u001b[0m\u001b[0munnamed_cols\u001b[0m \u001b[0;34m=\u001b[0m \u001b[0mself\u001b[0m\u001b[0;34m.\u001b[0m\u001b[0m_reader\u001b[0m\u001b[0;34m.\u001b[0m\u001b[0munnamed_cols\u001b[0m\u001b[0;34m\u001b[0m\u001b[0m\n\u001b[1;32m   2012\u001b[0m \u001b[0;34m\u001b[0m\u001b[0m\n",
      "\u001b[0;32mpandas/_libs/parsers.pyx\u001b[0m in \u001b[0;36mpandas._libs.parsers.TextReader.__cinit__\u001b[0;34m()\u001b[0m\n",
      "\u001b[0;31mEmptyDataError\u001b[0m: No columns to parse from file"
     ]
    }
   ],
   "source": [
    "#df_ner_count = pd.read_csv('./update_full_3class/' + idx_id + '_ner.tsv', sep='\\t')\n",
    "df_ner_count = pd.read_csv('./update_full_3class/ambiolight-a-one-touch-room-makeover_ner.tsv', sep='\\t')"
   ]
  },
  {
   "cell_type": "code",
   "execution_count": null,
   "id": "ba59af2a",
   "metadata": {},
   "outputs": [],
   "source": []
  },
  {
   "cell_type": "code",
   "execution_count": 14,
   "id": "6bbc8286",
   "metadata": {},
   "outputs": [
    {
     "data": {
      "text/plain": [
       "ORGANIZATION    71\n",
       "PERSON          57\n",
       "LOCATION        48\n",
       "Name: Unnamed: 1, dtype: int64"
      ]
     },
     "execution_count": 14,
     "metadata": {},
     "output_type": "execute_result"
    }
   ],
   "source": [
    "df_ner_count['Unnamed: 1'].value_counts()"
   ]
  },
  {
   "cell_type": "code",
   "execution_count": null,
   "id": "a69bd7d4",
   "metadata": {},
   "outputs": [],
   "source": []
  },
  {
   "cell_type": "code",
   "execution_count": null,
   "id": "79dae9f1",
   "metadata": {},
   "outputs": [],
   "source": []
  },
  {
   "cell_type": "code",
   "execution_count": null,
   "id": "b87c487e",
   "metadata": {},
   "outputs": [],
   "source": []
  },
  {
   "cell_type": "code",
   "execution_count": null,
   "id": "2e9801ea",
   "metadata": {},
   "outputs": [],
   "source": []
  },
  {
   "cell_type": "code",
   "execution_count": null,
   "id": "ce2d3fca",
   "metadata": {},
   "outputs": [],
   "source": []
  },
  {
   "cell_type": "code",
   "execution_count": null,
   "id": "f4f1352e",
   "metadata": {},
   "outputs": [],
   "source": []
  },
  {
   "cell_type": "code",
   "execution_count": null,
   "id": "fdbbd260",
   "metadata": {},
   "outputs": [],
   "source": []
  },
  {
   "cell_type": "code",
   "execution_count": null,
   "id": "19829d14",
   "metadata": {},
   "outputs": [],
   "source": []
  },
  {
   "cell_type": "code",
   "execution_count": 23,
   "id": "f0bec7fa",
   "metadata": {},
   "outputs": [
    {
     "data": {
      "text/plain": [
       "ORGANIZATION    2\n",
       "Name: Unnamed: 1, dtype: int64"
      ]
     },
     "execution_count": 23,
     "metadata": {},
     "output_type": "execute_result"
    }
   ],
   "source": [
    "df_count = pd.read_csv('../data/update_full_ner_count/10-for-two-seedling-kits-as-holiday-gifts-early-bi_ner_.tsv', sep='\\t')\n",
    "\n",
    "df_count['Unnamed: 1'].value_counts()"
   ]
  },
  {
   "cell_type": "code",
   "execution_count": null,
   "id": "711135e3",
   "metadata": {},
   "outputs": [],
   "source": []
  },
  {
   "cell_type": "code",
   "execution_count": null,
   "id": "4a3e6895",
   "metadata": {},
   "outputs": [],
   "source": []
  },
  {
   "cell_type": "code",
   "execution_count": 13,
   "id": "346011c8",
   "metadata": {},
   "outputs": [
    {
     "data": {
      "text/plain": [
       "{'LOCATION': 0,\n",
       " 'PERSON': 0,\n",
       " 'ORGANIZATION': 2,\n",
       " 'MONEY': 0,\n",
       " 'PERCENT': 0,\n",
       " 'DATE': 0,\n",
       " 'TIME': 0}"
      ]
     },
     "execution_count": 13,
     "metadata": {},
     "output_type": "execute_result"
    }
   ],
   "source": [
    "LOCATION = len(df_count[df_count['Unnamed: 1'] == 'LOCATION'])\n",
    "PERSON = len(df_count[df_count['Unnamed: 1'] == 'PERSON'])\n",
    "ORGANIZATION = len(df_count[df_count['Unnamed: 1'] == 'ORGANIZATION'])\n",
    "MONEY = len(df_count[df_count['Unnamed: 1'] == 'MONEY'])\n",
    "PERCENT = len(df_count[df_count['Unnamed: 1'] == 'PERCENT'])\n",
    "DATE = len(df_count[df_count['Unnamed: 1'] == 'DATE'])\n",
    "TIME = len(df_count[df_count['Unnamed: 1'] == 'TIME'])\n",
    "\n",
    "ner_dict = {'LOCATION':LOCATION, 'PERSON':PERSON, 'ORGANIZATION':ORGANIZATION,\n",
    "           'MONEY':MONEY, 'PERCENT':PERCENT, 'DATE':DATE, 'TIME':TIME}\n",
    "\n",
    "ner_dict"
   ]
  },
  {
   "cell_type": "code",
   "execution_count": null,
   "id": "f68b9883",
   "metadata": {},
   "outputs": [],
   "source": []
  },
  {
   "cell_type": "code",
   "execution_count": null,
   "id": "9587d32d",
   "metadata": {},
   "outputs": [],
   "source": []
  },
  {
   "cell_type": "code",
   "execution_count": null,
   "id": "15ce4b3c",
   "metadata": {},
   "outputs": [],
   "source": []
  },
  {
   "cell_type": "code",
   "execution_count": null,
   "id": "e3a49584",
   "metadata": {},
   "outputs": [],
   "source": []
  },
  {
   "cell_type": "code",
   "execution_count": null,
   "id": "d3eb111c",
   "metadata": {},
   "outputs": [],
   "source": []
  },
  {
   "cell_type": "code",
   "execution_count": null,
   "id": "26a5c11d",
   "metadata": {},
   "outputs": [],
   "source": []
  },
  {
   "cell_type": "code",
   "execution_count": null,
   "id": "c066254a",
   "metadata": {},
   "outputs": [],
   "source": []
  },
  {
   "cell_type": "code",
   "execution_count": null,
   "id": "d2f315d9",
   "metadata": {},
   "outputs": [],
   "source": []
  },
  {
   "cell_type": "code",
   "execution_count": null,
   "id": "58369c96",
   "metadata": {},
   "outputs": [],
   "source": []
  },
  {
   "cell_type": "code",
   "execution_count": null,
   "id": "00a15cdb",
   "metadata": {},
   "outputs": [],
   "source": []
  },
  {
   "cell_type": "code",
   "execution_count": 17,
   "id": "8f280dab",
   "metadata": {},
   "outputs": [
    {
     "name": "stderr",
     "output_type": "stream",
     "text": [
      "  0%|          | 0/208 [00:00<?, ?it/s]"
     ]
    },
    {
     "name": "stdout",
     "output_type": "stream",
     "text": [
      "Dear Backers: Everyone is getting a direct message today requesting your seedling and shipping directions. Please get back to us ASAP so we can assemble your reward properly before our shipping day, this Thursday December the 18th. Regarding stretch goals: We had a few creative ideas in mind, but due to the overwhelmingly positive response -- especially over this past weekend -- we've decided to focus on the most important task of delivering everyone's backer rewards on time. However, there are a few \"stretch-goal-sorta\" options we'll put out there just in case anyone wants them... A: Raise your pledge by $1 per Seedling Kit and we'll leave the top lid label blank for your own handwriting and/or craftiness (as opposed to the Paper, Seed &amp; Tree Co. branding as seen in our first project update). B: Raise your pledge by $2 for each Seedling Kit you'd like to receive GREEN-colored lids instead of the standard, black-colored lids (choose blank or PS&amp;T labels. Limited to 10 backers). C: Raise your pledge by $3 for each Seedling Kit you'd like to receive RED-colored lids instead of the standard, black-colored lids (choose blank or PS&amp;T labels. Limited to 10 backers). E: Raise your pledge by $4 for each Seedling Kit you'd like receive GOLD-colored lids instead of the standard, black-colored lids (choose blank or PS&amp;T labels. Limited to 5 backers). Thank you again for backing Seedling Gift Kits for the 2014 December holiday season! We look forward to shipping every one of your rewards this Thursday. Best, Paper, Seed &amp; Tree Co. (PS&amp;T) We're very pleased to build and deliver so many Seedling Kits for you this holiday season! In the first four days of this campaign, we've become a team with 33 backers and 250% of the entry goal. Thank you! It's unconventional to ship the very next day after our Kickstarter ends. Moreover, it's both a feat and a treat to deliver our products inside the fast-paced schedule of the holidays. Assembly has begun and we're reaching out to all of our backers this week to survey everyone's pick for certified organic seed, gift tag preferences and shipping direction. Look out for an email / Kickstarter message this week! If you're not yet a backer, we encourage you to grab one of the early bird deals before they're gone! Our Etsy shop will be selling two-pack Seedling Kits™ next year for $15 plus shipping. Stay tuned for more updates, -Paper, Seed &amp; Tree Co.\n"
     ]
    },
    {
     "name": "stderr",
     "output_type": "stream",
     "text": [
      "\n"
     ]
    }
   ],
   "source": [
    "df_u['ORGANIZATION'] = 0\n",
    "\n",
    "for idx, val in enumerate(tqdm(df_u['content'])):\n",
    "    idx_id = df_u['ID'][idx]\n",
    "    #f = open('./update_full/' + idx_id +'.txt', 'r', encoding='utf-8')\n",
    "    f = open('./update_full/' + '10-for-two-seedling-kits-as-holiday-gifts-early-bi' +'.txt', 'r', encoding='utf-8')\n",
    "    \n",
    "    #10-for-two-seedling-kits-as-holiday-gifts-early-bi\n",
    "    \n",
    "    \n",
    "    text = f.read()\n",
    "    print(text)\n",
    "    \n",
    "    command = 'cd ..;java -mx600m -cp \"*:lib/*\" edu.stanford.nlp.ie.crf.CRFClassifier\\\n",
    "    -loadClassifier classifiers/english.all.3class.distsim.crf.ser.gz \\\n",
    "    -textFile ./data/update_comment_full/10-for-two-seedling-kits-as-holiday-gifts-early-bi.txt'\n",
    "    \n",
    "    if idx == 0:\n",
    "        break"
   ]
  },
  {
   "cell_type": "code",
   "execution_count": 21,
   "id": "5ba23077",
   "metadata": {},
   "outputs": [],
   "source": [
    "###\n",
    "import subprocess\n",
    "\n",
    "command = 'cd ..;java -mx600m -cp \"*:lib/*\" edu.stanford.nlp.ie.crf.CRFClassifier \\\n",
    "-loadClassifier classifiers/english.all.3class.distsim.crf.ser.gz \\\n",
    "-textFile ./data/update_full/10-for-two-seedling-kits-as-holiday-gifts-early-bi.txt'\n",
    "\n",
    "output = subprocess.check_output([command], shell=True, encoding='utf-8')"
   ]
  },
  {
   "cell_type": "code",
   "execution_count": 22,
   "id": "945abd3b",
   "metadata": {},
   "outputs": [
    {
     "data": {
      "text/plain": [
       "'Dear/O Backers/O :/O Everyone/O is/O getting/O a/O direct/O message/O today/O requesting/O your/O seedling/O and/O shipping/O directions/O ./O \\nPlease/O get/O back/O to/O us/O ASAP/O so/O we/O can/O assemble/O your/O reward/O properly/O before/O our/O shipping/O day/O ,/O this/O Thursday/O December/O the/O 18th/O ./O \\nRegarding/O stretch/O goals/O :/O We/O had/O a/O few/O creative/O ideas/O in/O mind/O ,/O but/O due/O to/O the/O overwhelmingly/O positive/O response/O --/O especially/O over/O this/O past/O weekend/O --/O we/O \\'ve/O decided/O to/O focus/O on/O the/O most/O important/O task/O of/O delivering/O everyone/O \\'s/O backer/O rewards/O on/O time/O ./O \\nHowever/O ,/O there/O are/O a/O few/O \"/O stretch/O -/O goal/O -/O sorta/O \"/O options/O we/O \\'ll/O put/O out/O there/O just/O in/O case/O anyone/O wants/O them/O .../O A/O :/O Raise/O your/O pledge/O by/O $/O 1/O per/O Seedling/O Kit/O and/O we/O \\'ll/O leave/O the/O top/O lid/O label/O blank/O for/O your/O own/O handwriting/O and/O //O or/O craftiness/O (/O as/O opposed/O to/O the/O Paper/O ,/O Seed/ORGANIZATION &/ORGANIZATION Tree/ORGANIZATION Co./ORGANIZATION branding/O as/O seen/O in/O our/O first/O project/O update/O )/O ./O \\nB/O :/O Raise/O your/O pledge/O by/O $/O 2/O for/O each/O Seedling/O Kit/O you/O \\'d/O like/O to/O receive/O GREEN/O -/O colored/O lids/O instead/O of/O the/O standard/O ,/O black/O -/O colored/O lids/O (/O choose/O blank/O or/O PS&T/O labels/O ./O \\nLimited/O to/O 10/O backers/O )/O ./O \\nC/O :/O Raise/O your/O pledge/O by/O $/O 3/O for/O each/O Seedling/O Kit/O you/O \\'d/O like/O to/O receive/O RED/O -/O colored/O lids/O instead/O of/O the/O standard/O ,/O black/O -/O colored/O lids/O (/O choose/O blank/O or/O PS&T/O labels/O ./O \\nLimited/O to/O 10/O backers/O )/O ./O \\nE/O :/O Raise/O your/O pledge/O by/O $/O 4/O for/O each/O Seedling/O Kit/O you/O \\'d/O like/O receive/O GOLD/O -/O colored/O lids/O instead/O of/O the/O standard/O ,/O black/O -/O colored/O lids/O (/O choose/O blank/O or/O PS&T/O labels/O ./O \\nLimited/O to/O 5/O backers/O )/O ./O \\nThank/O you/O again/O for/O backing/O Seedling/O Gift/O Kits/O for/O the/O 2014/O December/O holiday/O season/O !/O \\nWe/O look/O forward/O to/O shipping/O every/O one/O of/O your/O rewards/O this/O Thursday/O ./O \\nBest/O ,/O Paper/O ,/O Seed/O &/O Tree/O Co./O (/O PS&T/O )/O We/O \\'re/O very/O pleased/O to/O build/O and/O deliver/O so/O many/O Seedling/O Kits/O for/O you/O this/O holiday/O season/O !/O \\nIn/O the/O first/O four/O days/O of/O this/O campaign/O ,/O we/O \\'ve/O become/O a/O team/O with/O 33/O backers/O and/O 250/O %/O of/O the/O entry/O goal/O ./O \\nThank/O you/O !/O \\nIt/O \\'s/O unconventional/O to/O ship/O the/O very/O next/O day/O after/O our/O Kickstarter/O ends/O ./O \\nMoreover/O ,/O it/O \\'s/O both/O a/O feat/O and/O a/O treat/O to/O deliver/O our/O products/O inside/O the/O fast/O -/O paced/O schedule/O of/O the/O holidays/O ./O \\nAssembly/ORGANIZATION has/O begun/O and/O we/O \\'re/O reaching/O out/O to/O all/O of/O our/O backers/O this/O week/O to/O survey/O everyone/O \\'s/O pick/O for/O certified/O organic/O seed/O ,/O gift/O tag/O preferences/O and/O shipping/O direction/O ./O \\nLook/O out/O for/O an/O email/O //O Kickstarter/O message/O this/O week/O !/O \\nIf/O you/O \\'re/O not/O yet/O a/O backer/O ,/O we/O encourage/O you/O to/O grab/O one/O of/O the/O early/O bird/O deals/O before/O they/O \\'re/O gone/O !/O \\nOur/O Etsy/O shop/O will/O be/O selling/O two/O -/O pack/O Seedling/O Kits/O ?/O next/O year/O for/O $/O 15/O plus/O shipping/O ./O \\nStay/O tuned/O for/O more/O updates/O ,/O -/O Paper/O ,/O Seed/O &/O Tree/O Co./O ./O \\n'"
      ]
     },
     "execution_count": 22,
     "metadata": {},
     "output_type": "execute_result"
    }
   ],
   "source": [
    "output"
   ]
  },
  {
   "cell_type": "code",
   "execution_count": 10,
   "id": "bc967b7c",
   "metadata": {},
   "outputs": [
    {
     "data": {
      "text/plain": [
       "14"
      ]
     },
     "execution_count": 10,
     "metadata": {},
     "output_type": "execute_result"
    }
   ],
   "source": [
    "output.count('/ORGANIZATION ')"
   ]
  },
  {
   "cell_type": "code",
   "execution_count": 23,
   "id": "1b49fe4d",
   "metadata": {},
   "outputs": [
    {
     "data": {
      "text/plain": [
       "'The/O fate/O of/O Lehman/ORGANIZATION Brothers/ORGANIZATION ,/O the/O beleaguered/O investment/O bank/O ,/O hung/O in/O the/O balance/O on/O Sunday/O as/O Federal/ORGANIZATION Reserve/ORGANIZATION officials/O and/O the/O leaders/O of/O major/O financial/O institutions/O continued/O to/O gather/O in/O emergency/O meetings/O trying/O to/O complete/O a/O plan/O to/O rescue/O the/O stricken/O bank/O ./O \\nSeveral/O possible/O plans/O emerged/O from/O the/O talks/O ,/O held/O at/O the/O Federal/ORGANIZATION Reserve/ORGANIZATION Bank/ORGANIZATION of/ORGANIZATION New/ORGANIZATION York/ORGANIZATION and/O led/O by/O Timothy/PERSON R./PERSON Geithner/PERSON ,/O the/O president/O of/O the/O New/ORGANIZATION York/ORGANIZATION Fed/ORGANIZATION ,/O and/O Treasury/ORGANIZATION Secretary/O Henry/PERSON M./PERSON Paulson/PERSON Jr./PERSON ./O \\nORGANIZATION + /ORGANIZATION + /ORGANIZATIONs'"
      ]
     },
     "execution_count": 23,
     "metadata": {},
     "output_type": "execute_result"
    }
   ],
   "source": [
    "test = output + 'ORGANIZATION + /ORGANIZATION + /ORGANIZATIONs'\n",
    "\n",
    "test"
   ]
  },
  {
   "cell_type": "code",
   "execution_count": 24,
   "id": "69f6290a",
   "metadata": {},
   "outputs": [
    {
     "data": {
      "text/plain": [
       "16"
      ]
     },
     "execution_count": 24,
     "metadata": {},
     "output_type": "execute_result"
    }
   ],
   "source": [
    "test.count('/ORGANIZATION')"
   ]
  },
  {
   "cell_type": "code",
   "execution_count": 26,
   "id": "8a41d9e5",
   "metadata": {},
   "outputs": [
    {
     "name": "stdout",
     "output_type": "stream",
     "text": [
      "/Users/Jongwoo/Desktop/Project/count_named_entity/data\r\n"
     ]
    }
   ],
   "source": [
    "!pwd"
   ]
  },
  {
   "cell_type": "code",
   "execution_count": 34,
   "id": "dab4a2fb",
   "metadata": {},
   "outputs": [
    {
     "name": "stderr",
     "output_type": "stream",
     "text": [
      "\r",
      "  0%|          | 0/208 [00:00<?, ?it/s]"
     ]
    },
    {
     "name": "stdout",
     "output_type": "stream",
     "text": [
      "ambiolight-a-one-touch-room-makeover\n"
     ]
    },
    {
     "name": "stderr",
     "output_type": "stream",
     "text": [
      "\r",
      "  0%|          | 1/208 [00:02<08:17,  2.41s/it]"
     ]
    },
    {
     "name": "stdout",
     "output_type": "stream",
     "text": [
      "arc-island-a-brave-new-civilization\n"
     ]
    },
    {
     "name": "stderr",
     "output_type": "stream",
     "text": [
      "\r",
      "  1%|          | 2/208 [00:04<08:10,  2.38s/it]"
     ]
    },
    {
     "name": "stdout",
     "output_type": "stream",
     "text": [
      "asylum-playing-cards\n"
     ]
    },
    {
     "name": "stderr",
     "output_type": "stream",
     "text": [
      "\r",
      "  1%|▏         | 3/208 [00:07<08:19,  2.44s/it]"
     ]
    },
    {
     "name": "stdout",
     "output_type": "stream",
     "text": [
      "code-hero-a-game-that-teaches-you-to-make-games-he\n"
     ]
    },
    {
     "name": "stderr",
     "output_type": "stream",
     "text": [
      "\r",
      "  2%|▏         | 4/208 [00:10<09:46,  2.88s/it]"
     ]
    },
    {
     "name": "stdout",
     "output_type": "stream",
     "text": [
      "dark-skyes-an-epic-brony-dating-sim\n"
     ]
    },
    {
     "name": "stderr",
     "output_type": "stream",
     "text": [
      "\r",
      "  2%|▏         | 5/208 [00:13<09:27,  2.80s/it]"
     ]
    },
    {
     "name": "stdout",
     "output_type": "stream",
     "text": [
      "elementary-my-dear-holmes\n"
     ]
    },
    {
     "name": "stderr",
     "output_type": "stream",
     "text": [
      "\r",
      "  3%|▎         | 6/208 [00:16<09:17,  2.76s/it]"
     ]
    },
    {
     "name": "stdout",
     "output_type": "stream",
     "text": [
      "eye3\n"
     ]
    },
    {
     "name": "stderr",
     "output_type": "stream",
     "text": [
      "\r",
      "  3%|▎         | 7/208 [00:18<08:55,  2.66s/it]"
     ]
    },
    {
     "name": "stdout",
     "output_type": "stream",
     "text": [
      "eyeztm-by-zioneyez-hd-video-recording-glasses-for\n"
     ]
    },
    {
     "name": "stderr",
     "output_type": "stream",
     "text": [
      "\r",
      "  4%|▍         | 8/208 [00:21<09:12,  2.76s/it]"
     ]
    },
    {
     "name": "stdout",
     "output_type": "stream",
     "text": [
      "founders-playing-cards\n"
     ]
    },
    {
     "name": "stderr",
     "output_type": "stream",
     "text": [
      "\r",
      "  4%|▍         | 9/208 [00:24<09:25,  2.84s/it]"
     ]
    },
    {
     "name": "stdout",
     "output_type": "stream",
     "text": [
      "free-roll-machined-gamers-dice\n"
     ]
    },
    {
     "name": "stderr",
     "output_type": "stream",
     "text": [
      "\r",
      "  5%|▍         | 10/208 [00:27<09:01,  2.73s/it]"
     ]
    },
    {
     "name": "stdout",
     "output_type": "stream",
     "text": [
      "ifind-the-worlds-first-battery-free-item-locating\n"
     ]
    },
    {
     "name": "stderr",
     "output_type": "stream",
     "text": [
      "\r",
      "  5%|▌         | 11/208 [00:29<08:54,  2.71s/it]"
     ]
    },
    {
     "name": "stdout",
     "output_type": "stream",
     "text": [
      "kobe-red-100-japanese-beer-fed-kobe-beef-jerky\n"
     ]
    },
    {
     "name": "stderr",
     "output_type": "stream",
     "text": [
      "\r",
      "  6%|▌         | 12/208 [00:32<08:51,  2.71s/it]"
     ]
    },
    {
     "name": "stdout",
     "output_type": "stream",
     "text": [
      "last-year-5-vs-1-multiplayer-survival-horror\n"
     ]
    },
    {
     "name": "stderr",
     "output_type": "stream",
     "text": [
      "\r",
      "  6%|▋         | 13/208 [00:35<09:13,  2.84s/it]"
     ]
    },
    {
     "name": "stdout",
     "output_type": "stream",
     "text": [
      "learn-iphone-app-development\n"
     ]
    },
    {
     "name": "stderr",
     "output_type": "stream",
     "text": [
      "\r",
      "  7%|▋         | 14/208 [00:38<09:19,  2.89s/it]"
     ]
    },
    {
     "name": "stdout",
     "output_type": "stream",
     "text": [
      "mythic-the-story-of-gods-and-men\n"
     ]
    },
    {
     "name": "stderr",
     "output_type": "stream",
     "text": [
      "\r",
      "  7%|▋         | 15/208 [00:41<08:48,  2.74s/it]"
     ]
    },
    {
     "name": "stdout",
     "output_type": "stream",
     "text": [
      "ping-wallet-the-worlds-thinnest-smartest-wallet\n"
     ]
    },
    {
     "name": "stderr",
     "output_type": "stream",
     "text": [
      "\r",
      "  8%|▊         | 16/208 [00:43<08:36,  2.69s/it]"
     ]
    },
    {
     "name": "stdout",
     "output_type": "stream",
     "text": [
      "powerful-charger-multiple-devices-multiple-times-o\n"
     ]
    },
    {
     "name": "stderr",
     "output_type": "stream",
     "text": [
      "\r",
      "  8%|▊         | 17/208 [00:46<08:22,  2.63s/it]"
     ]
    },
    {
     "name": "stdout",
     "output_type": "stream",
     "text": [
      "scribble-a-revolutionary-pen-that-draws-in-any-col\n"
     ]
    },
    {
     "name": "stderr",
     "output_type": "stream",
     "text": [
      "\r",
      "  9%|▊         | 18/208 [00:48<08:17,  2.62s/it]"
     ]
    },
    {
     "name": "stdout",
     "output_type": "stream",
     "text": [
      "agent-the-worlds-smartest-watch\n"
     ]
    },
    {
     "name": "stderr",
     "output_type": "stream",
     "text": [
      "\r",
      "  9%|▉         | 19/208 [00:53<10:04,  3.20s/it]"
     ]
    },
    {
     "name": "stdout",
     "output_type": "stream",
     "text": [
      "cst-01-the-worlds-thinnest-watch\n"
     ]
    },
    {
     "name": "stderr",
     "output_type": "stream",
     "text": [
      "\r",
      " 10%|▉         | 20/208 [00:57<10:54,  3.48s/it]"
     ]
    },
    {
     "name": "stdout",
     "output_type": "stream",
     "text": [
      "the-official-otakon-super-beat-em-up-video-game\n"
     ]
    },
    {
     "name": "stderr",
     "output_type": "stream",
     "text": [
      "\r",
      " 10%|█         | 21/208 [00:59<09:59,  3.20s/it]"
     ]
    },
    {
     "name": "stdout",
     "output_type": "stream",
     "text": [
      "haunts-the-manse-macabre\n"
     ]
    },
    {
     "name": "stderr",
     "output_type": "stream",
     "text": [
      "\r",
      " 11%|█         | 22/208 [01:03<10:02,  3.24s/it]"
     ]
    },
    {
     "name": "stdout",
     "output_type": "stream",
     "text": [
      "lucitm-advanced-lucid-dream-inducer\n"
     ]
    },
    {
     "name": "stderr",
     "output_type": "stream",
     "text": [
      "\r",
      " 11%|█         | 23/208 [01:05<09:26,  3.06s/it]"
     ]
    },
    {
     "name": "stdout",
     "output_type": "stream",
     "text": [
      "zano-autonomous-intelligent-swarming-nano-drone\n"
     ]
    },
    {
     "name": "stderr",
     "output_type": "stream",
     "text": [
      "\r",
      " 12%|█▏        | 24/208 [01:09<09:37,  3.14s/it]"
     ]
    },
    {
     "name": "stdout",
     "output_type": "stream",
     "text": [
      "katalyka\n"
     ]
    },
    {
     "name": "stderr",
     "output_type": "stream",
     "text": [
      "\r",
      " 12%|█▏        | 25/208 [01:12<09:42,  3.19s/it]"
     ]
    },
    {
     "name": "stdout",
     "output_type": "stream",
     "text": [
      "yufu-the-stylus-perfected-pressure-sensitive-fine\n"
     ]
    },
    {
     "name": "stderr",
     "output_type": "stream",
     "text": [
      "\r",
      " 12%|█▎        | 26/208 [01:15<09:16,  3.06s/it]"
     ]
    },
    {
     "name": "stdout",
     "output_type": "stream",
     "text": [
      "iplifier-for-iphone-5\n"
     ]
    },
    {
     "name": "stderr",
     "output_type": "stream",
     "text": [
      "\r",
      " 13%|█▎        | 27/208 [01:17<08:52,  2.94s/it]"
     ]
    },
    {
     "name": "stdout",
     "output_type": "stream",
     "text": [
      "icontrolpad-2-the-open-source-controller\n"
     ]
    },
    {
     "name": "stderr",
     "output_type": "stream",
     "text": [
      "\r",
      " 13%|█▎        | 28/208 [01:20<08:53,  2.96s/it]"
     ]
    },
    {
     "name": "stdout",
     "output_type": "stream",
     "text": [
      "come-with-me-and-dance-in-the-fire\n"
     ]
    },
    {
     "name": "stderr",
     "output_type": "stream",
     "text": [
      "\r",
      " 14%|█▍        | 29/208 [01:23<08:31,  2.86s/it]"
     ]
    },
    {
     "name": "stdout",
     "output_type": "stream",
     "text": [
      "ilumi-bottle-the-new-way-to-keep-hydrated\n"
     ]
    },
    {
     "name": "stderr",
     "output_type": "stream",
     "text": [
      "\r",
      " 14%|█▍        | 30/208 [01:26<08:26,  2.84s/it]"
     ]
    },
    {
     "name": "stdout",
     "output_type": "stream",
     "text": [
      "spike-makes-the-iphone-as-easy-to-type-on-as-it-is\n"
     ]
    },
    {
     "name": "stderr",
     "output_type": "stream",
     "text": [
      "\r",
      " 15%|█▍        | 31/208 [01:29<08:47,  2.98s/it]"
     ]
    },
    {
     "name": "stdout",
     "output_type": "stream",
     "text": [
      "keyonpod-the-most-beautiful-key-management-system\n"
     ]
    },
    {
     "name": "stderr",
     "output_type": "stream",
     "text": [
      "\r",
      " 15%|█▌        | 32/208 [01:32<08:33,  2.92s/it]"
     ]
    },
    {
     "name": "stdout",
     "output_type": "stream",
     "text": [
      "crypteks-usbtm-encrypted-and-lockable-usb-solution\n"
     ]
    },
    {
     "name": "stderr",
     "output_type": "stream",
     "text": [
      "\r",
      " 16%|█▌        | 33/208 [01:35<08:39,  2.97s/it]"
     ]
    },
    {
     "name": "stdout",
     "output_type": "stream",
     "text": [
      "spixi-a-better-way-to-charge-and-sync-your-iphone\n"
     ]
    },
    {
     "name": "stderr",
     "output_type": "stream",
     "text": [
      "\r",
      " 16%|█▋        | 34/208 [01:38<08:29,  2.93s/it]"
     ]
    },
    {
     "name": "stdout",
     "output_type": "stream",
     "text": [
      "up-front-the-card-game\n"
     ]
    },
    {
     "name": "stderr",
     "output_type": "stream",
     "text": [
      "\r",
      " 17%|█▋        | 35/208 [01:42<09:04,  3.15s/it]"
     ]
    },
    {
     "name": "stdout",
     "output_type": "stream",
     "text": [
      "hydra-dice-necron\n"
     ]
    },
    {
     "name": "stderr",
     "output_type": "stream",
     "text": [
      "\r",
      " 17%|█▋        | 36/208 [01:45<09:07,  3.18s/it]"
     ]
    },
    {
     "name": "stdout",
     "output_type": "stream",
     "text": [
      "myidkey-passwords-at-the-tip-of-your-finger\n"
     ]
    },
    {
     "name": "stderr",
     "output_type": "stream",
     "text": [
      "\r",
      " 18%|█▊        | 37/208 [01:48<08:56,  3.13s/it]"
     ]
    },
    {
     "name": "stdout",
     "output_type": "stream",
     "text": [
      "grapple-knight\n"
     ]
    },
    {
     "name": "stderr",
     "output_type": "stream",
     "text": [
      "\r",
      " 18%|█▊        | 38/208 [01:51<08:50,  3.12s/it]"
     ]
    },
    {
     "name": "stdout",
     "output_type": "stream",
     "text": [
      "quantum-roleplaying-game-an-all-new-science-fantas\n"
     ]
    },
    {
     "name": "stderr",
     "output_type": "stream",
     "text": [
      "\r",
      " 19%|█▉        | 39/208 [01:55<09:55,  3.52s/it]"
     ]
    },
    {
     "name": "stdout",
     "output_type": "stream",
     "text": [
      "chase-mason-affordable-designer-dress-shoes\n"
     ]
    },
    {
     "name": "stderr",
     "output_type": "stream",
     "text": [
      "\r",
      " 19%|█▉        | 40/208 [01:58<09:04,  3.24s/it]"
     ]
    },
    {
     "name": "stdout",
     "output_type": "stream",
     "text": [
      "precision-machined-role-playing-dice-hyper-precisi\n"
     ]
    },
    {
     "name": "stderr",
     "output_type": "stream",
     "text": [
      "\r",
      " 20%|█▉        | 41/208 [02:01<08:31,  3.06s/it]"
     ]
    },
    {
     "name": "stdout",
     "output_type": "stream",
     "text": [
      "the-elements-playing-cards\n"
     ]
    },
    {
     "name": "stderr",
     "output_type": "stream",
     "text": [
      "\r",
      " 20%|██        | 42/208 [02:03<08:18,  3.00s/it]"
     ]
    },
    {
     "name": "stdout",
     "output_type": "stream",
     "text": [
      "super-arcade-project-2014\n"
     ]
    },
    {
     "name": "stderr",
     "output_type": "stream",
     "text": [
      "\r",
      " 21%|██        | 43/208 [02:06<07:57,  2.89s/it]"
     ]
    },
    {
     "name": "stdout",
     "output_type": "stream",
     "text": [
      "control-vr-motion-capture-for-vr-animation-and-mor\n"
     ]
    },
    {
     "name": "stderr",
     "output_type": "stream",
     "text": [
      "\r",
      " 21%|██        | 44/208 [02:09<07:38,  2.80s/it]"
     ]
    },
    {
     "name": "stdout",
     "output_type": "stream",
     "text": [
      "commuting-is-a-breeze-with-boolze\n"
     ]
    },
    {
     "name": "stderr",
     "output_type": "stream",
     "text": [
      "\r",
      " 22%|██▏       | 45/208 [02:11<07:15,  2.67s/it]"
     ]
    },
    {
     "name": "stdout",
     "output_type": "stream",
     "text": [
      "dot-worlds-smallest-bluetooth-headset\n"
     ]
    },
    {
     "name": "stderr",
     "output_type": "stream",
     "text": [
      "\r",
      " 22%|██▏       | 46/208 [02:14<07:04,  2.62s/it]"
     ]
    },
    {
     "name": "stdout",
     "output_type": "stream",
     "text": [
      "woodie-leather-and-wood-reversible-usb-charging-ca-0\n"
     ]
    },
    {
     "name": "stderr",
     "output_type": "stream",
     "text": [
      "\r",
      " 23%|██▎       | 47/208 [02:16<06:57,  2.59s/it]"
     ]
    },
    {
     "name": "stdout",
     "output_type": "stream",
     "text": [
      "twins-edition-refined-bicycle-playing-cards-by-usp\n"
     ]
    },
    {
     "name": "stderr",
     "output_type": "stream",
     "text": [
      "\r",
      " 23%|██▎       | 48/208 [02:19<06:52,  2.58s/it]"
     ]
    },
    {
     "name": "stdout",
     "output_type": "stream",
     "text": [
      "cable-keeper\n"
     ]
    },
    {
     "name": "stderr",
     "output_type": "stream",
     "text": [
      "\r",
      " 24%|██▎       | 49/208 [02:21<06:57,  2.62s/it]"
     ]
    },
    {
     "name": "stdout",
     "output_type": "stream",
     "text": [
      "kolstom-classic-carbon-fiber-sunglasses\n"
     ]
    },
    {
     "name": "stderr",
     "output_type": "stream",
     "text": [
      "\r",
      " 24%|██▍       | 50/208 [02:24<06:56,  2.64s/it]"
     ]
    },
    {
     "name": "stdout",
     "output_type": "stream",
     "text": [
      "stormtag-a-bluetooth-weather-station-on-your-keyri\n"
     ]
    },
    {
     "name": "stderr",
     "output_type": "stream",
     "text": [
      "\r",
      " 25%|██▍       | 51/208 [02:27<06:55,  2.64s/it]"
     ]
    },
    {
     "name": "stdout",
     "output_type": "stream",
     "text": [
      "apollo-ap-1-tactical-flashlight\n"
     ]
    },
    {
     "name": "stderr",
     "output_type": "stream",
     "text": [
      "\r",
      " 25%|██▌       | 52/208 [02:30<07:02,  2.71s/it]"
     ]
    },
    {
     "name": "stdout",
     "output_type": "stream",
     "text": [
      "sever-the-anti-villain-box\n"
     ]
    },
    {
     "name": "stderr",
     "output_type": "stream",
     "text": [
      "\r",
      " 25%|██▌       | 53/208 [02:32<06:45,  2.61s/it]"
     ]
    },
    {
     "name": "stdout",
     "output_type": "stream",
     "text": [
      "commbadge-star-trek-inspired-wearable-communicator\n"
     ]
    },
    {
     "name": "stderr",
     "output_type": "stream",
     "text": [
      "\r",
      " 26%|██▌       | 54/208 [02:35<06:43,  2.62s/it]"
     ]
    },
    {
     "name": "stdout",
     "output_type": "stream",
     "text": [
      "10-for-two-seedling-kits-as-holiday-gifts-early-bi\n"
     ]
    },
    {
     "name": "stderr",
     "output_type": "stream",
     "text": [
      "\r",
      " 26%|██▋       | 55/208 [02:37<06:41,  2.62s/it]"
     ]
    },
    {
     "name": "stdout",
     "output_type": "stream",
     "text": [
      "mutator-mute-your-iphonewith-a-twist\n"
     ]
    },
    {
     "name": "stderr",
     "output_type": "stream",
     "text": [
      "\r",
      " 27%|██▋       | 56/208 [02:40<06:41,  2.64s/it]"
     ]
    },
    {
     "name": "stdout",
     "output_type": "stream",
     "text": [
      "vachen-smartwatch\n"
     ]
    },
    {
     "name": "stderr",
     "output_type": "stream",
     "text": [
      "\r",
      " 27%|██▋       | 57/208 [02:43<06:52,  2.73s/it]"
     ]
    },
    {
     "name": "stdout",
     "output_type": "stream",
     "text": [
      "miniature-ice-age-mammal-adventure-set\n"
     ]
    },
    {
     "name": "stderr",
     "output_type": "stream",
     "text": [
      "\r",
      " 28%|██▊       | 58/208 [02:46<07:11,  2.88s/it]"
     ]
    },
    {
     "name": "stdout",
     "output_type": "stream",
     "text": [
      "28mm-miniature-sea-monsters-dungeon-terrain-and-bi\n"
     ]
    },
    {
     "name": "stderr",
     "output_type": "stream",
     "text": [
      "\r",
      " 28%|██▊       | 59/208 [02:49<07:03,  2.84s/it]"
     ]
    },
    {
     "name": "stdout",
     "output_type": "stream",
     "text": [
      "mansion-lord-a-murder-mystery-rpg-business-sim\n"
     ]
    },
    {
     "name": "stderr",
     "output_type": "stream",
     "text": [
      "\r",
      " 29%|██▉       | 60/208 [02:52<07:05,  2.87s/it]"
     ]
    },
    {
     "name": "stdout",
     "output_type": "stream",
     "text": [
      "soap-first-smart-router-w-touch-display-powered-by\n"
     ]
    },
    {
     "name": "stderr",
     "output_type": "stream",
     "text": [
      "\r",
      " 29%|██▉       | 61/208 [02:55<07:27,  3.04s/it]"
     ]
    },
    {
     "name": "stdout",
     "output_type": "stream",
     "text": [
      "kickstart-blaque-sun\n"
     ]
    },
    {
     "name": "stderr",
     "output_type": "stream",
     "text": [
      "\r",
      " 30%|██▉       | 62/208 [02:58<06:59,  2.87s/it]"
     ]
    },
    {
     "name": "stdout",
     "output_type": "stream",
     "text": [
      "dysis\n"
     ]
    },
    {
     "name": "stderr",
     "output_type": "stream",
     "text": [
      "\r",
      " 30%|███       | 63/208 [03:00<06:43,  2.78s/it]"
     ]
    },
    {
     "name": "stdout",
     "output_type": "stream",
     "text": [
      "rain-0\n"
     ]
    },
    {
     "name": "stderr",
     "output_type": "stream",
     "text": [
      "\r",
      " 31%|███       | 64/208 [03:03<07:00,  2.92s/it]"
     ]
    },
    {
     "name": "stdout",
     "output_type": "stream",
     "text": [
      "baboomi-a-customizable-and-comfortable-alarm\n"
     ]
    },
    {
     "name": "stderr",
     "output_type": "stream",
     "text": [
      "\r",
      " 31%|███▏      | 65/208 [03:06<06:48,  2.86s/it]"
     ]
    },
    {
     "name": "stdout",
     "output_type": "stream",
     "text": [
      "the-carbone-a-100-carbon-fiber-wallet\n"
     ]
    },
    {
     "name": "stderr",
     "output_type": "stream",
     "text": [
      "\r",
      " 32%|███▏      | 66/208 [03:09<06:31,  2.76s/it]"
     ]
    },
    {
     "name": "stdout",
     "output_type": "stream",
     "text": [
      "celtic-knot-ceilteach-revised\n"
     ]
    },
    {
     "name": "stderr",
     "output_type": "stream",
     "text": [
      "\r",
      " 32%|███▏      | 67/208 [03:11<06:16,  2.67s/it]"
     ]
    },
    {
     "name": "stdout",
     "output_type": "stream",
     "text": [
      "the-sons-of-starcraft\n"
     ]
    },
    {
     "name": "stderr",
     "output_type": "stream",
     "text": [
      "\r",
      " 33%|███▎      | 68/208 [03:14<06:05,  2.61s/it]"
     ]
    },
    {
     "name": "stdout",
     "output_type": "stream",
     "text": [
      "adcontrol-for-adfree-internet\n"
     ]
    },
    {
     "name": "stderr",
     "output_type": "stream",
     "text": [
      "\r",
      " 33%|███▎      | 69/208 [03:16<06:01,  2.60s/it]"
     ]
    },
    {
     "name": "stdout",
     "output_type": "stream",
     "text": [
      "harvestgeek-brains-for-your-garden\n"
     ]
    },
    {
     "name": "stderr",
     "output_type": "stream",
     "text": [
      "\r",
      " 34%|███▎      | 70/208 [03:19<06:05,  2.65s/it]"
     ]
    },
    {
     "name": "stdout",
     "output_type": "stream",
     "text": [
      "the-ayahuasca-project-the-jungle-prescription\n"
     ]
    },
    {
     "name": "stderr",
     "output_type": "stream",
     "text": [
      "\r",
      " 34%|███▍      | 71/208 [03:22<06:19,  2.77s/it]"
     ]
    },
    {
     "name": "stdout",
     "output_type": "stream",
     "text": [
      "in-defense-of-fat-the-documentary\n"
     ]
    },
    {
     "name": "stderr",
     "output_type": "stream",
     "text": [
      "\r",
      " 35%|███▍      | 72/208 [03:25<06:12,  2.74s/it]"
     ]
    },
    {
     "name": "stdout",
     "output_type": "stream",
     "text": [
      "zombie-stomp-the-game-by-team-frog-studios\n"
     ]
    },
    {
     "name": "stderr",
     "output_type": "stream",
     "text": [
      "\r",
      " 35%|███▌      | 73/208 [03:28<06:15,  2.78s/it]"
     ]
    },
    {
     "name": "stdout",
     "output_type": "stream",
     "text": [
      "diabolic-fightin-words\n"
     ]
    },
    {
     "name": "stderr",
     "output_type": "stream",
     "text": [
      "\r",
      " 36%|███▌      | 74/208 [03:30<06:08,  2.75s/it]"
     ]
    },
    {
     "name": "stdout",
     "output_type": "stream",
     "text": [
      "joey-360-4k-seamless-video-capture-broadcast-confe\n"
     ]
    },
    {
     "name": "stderr",
     "output_type": "stream",
     "text": [
      "\r",
      " 36%|███▌      | 75/208 [03:33<06:00,  2.71s/it]"
     ]
    },
    {
     "name": "stdout",
     "output_type": "stream",
     "text": [
      "limited-edition-translation-of-osamu-tezukas-the-c\n"
     ]
    },
    {
     "name": "stderr",
     "output_type": "stream",
     "text": [
      "\r",
      " 37%|███▋      | 76/208 [03:36<06:08,  2.79s/it]"
     ]
    },
    {
     "name": "stdout",
     "output_type": "stream",
     "text": [
      "matchstick-the-streaming-stick-built-on-firefox-os\n"
     ]
    },
    {
     "name": "stderr",
     "output_type": "stream",
     "text": [
      "\r",
      " 37%|███▋      | 77/208 [03:39<06:10,  2.83s/it]"
     ]
    },
    {
     "name": "stdout",
     "output_type": "stream",
     "text": [
      "fibrofibers-expansion-more-nightfall-for-everyone\n"
     ]
    },
    {
     "name": "stderr",
     "output_type": "stream",
     "text": [
      "\r",
      " 38%|███▊      | 78/208 [03:41<06:03,  2.80s/it]"
     ]
    },
    {
     "name": "stdout",
     "output_type": "stream",
     "text": [
      "a-victorian-adventure-custom-playing-cards-uspcc\n"
     ]
    },
    {
     "name": "stderr",
     "output_type": "stream",
     "text": [
      "\r",
      " 38%|███▊      | 79/208 [03:44<05:52,  2.73s/it]"
     ]
    },
    {
     "name": "stdout",
     "output_type": "stream",
     "text": [
      "ringbow-next-generation-gaming-accessory\n"
     ]
    },
    {
     "name": "stderr",
     "output_type": "stream",
     "text": [
      "\r",
      " 38%|███▊      | 80/208 [03:47<05:59,  2.81s/it]"
     ]
    },
    {
     "name": "stdout",
     "output_type": "stream",
     "text": [
      "moon-rift\n"
     ]
    },
    {
     "name": "stderr",
     "output_type": "stream",
     "text": [
      "\r",
      " 39%|███▉      | 81/208 [03:50<05:47,  2.74s/it]"
     ]
    },
    {
     "name": "stdout",
     "output_type": "stream",
     "text": [
      "turbocharge-your-wireless-router-with-an-androidtm\n"
     ]
    },
    {
     "name": "stderr",
     "output_type": "stream",
     "text": [
      "\r",
      " 39%|███▉      | 82/208 [03:52<05:39,  2.70s/it]"
     ]
    },
    {
     "name": "stdout",
     "output_type": "stream",
     "text": [
      "dash-the-smart-phone-car-stereo\n"
     ]
    },
    {
     "name": "stderr",
     "output_type": "stream",
     "text": [
      "\r",
      " 40%|███▉      | 83/208 [03:55<05:44,  2.76s/it]"
     ]
    },
    {
     "name": "stdout",
     "output_type": "stream",
     "text": [
      "red-2\n"
     ]
    },
    {
     "name": "stderr",
     "output_type": "stream",
     "text": [
      "\r",
      " 40%|████      | 84/208 [03:58<05:34,  2.70s/it]"
     ]
    },
    {
     "name": "stdout",
     "output_type": "stream",
     "text": [
      "vrase-the-smartphone-virtual-reality-case\n"
     ]
    },
    {
     "name": "stderr",
     "output_type": "stream",
     "text": [
      "\r",
      " 41%|████      | 85/208 [04:01<05:53,  2.87s/it]"
     ]
    },
    {
     "name": "stdout",
     "output_type": "stream",
     "text": [
      "key-stak-the-only-key-organizer-with-a-built-in-fl\n"
     ]
    },
    {
     "name": "stderr",
     "output_type": "stream",
     "text": [
      "\r",
      " 41%|████▏     | 86/208 [04:03<05:38,  2.77s/it]"
     ]
    },
    {
     "name": "stdout",
     "output_type": "stream",
     "text": [
      "waldok-wall-plug-in-speaker-charger-for-the-ipod-n\n"
     ]
    },
    {
     "name": "stderr",
     "output_type": "stream",
     "text": [
      "\r",
      " 42%|████▏     | 87/208 [04:06<05:30,  2.73s/it]"
     ]
    },
    {
     "name": "stdout",
     "output_type": "stream",
     "text": [
      "foundation-dock-the-new-home-for-your-iphone\n"
     ]
    },
    {
     "name": "stderr",
     "output_type": "stream",
     "text": [
      "\r",
      " 42%|████▏     | 88/208 [04:09<05:36,  2.80s/it]"
     ]
    },
    {
     "name": "stdout",
     "output_type": "stream",
     "text": [
      "zopro-incredibly-thin-case-integrated-charging-iph\n"
     ]
    },
    {
     "name": "stderr",
     "output_type": "stream",
     "text": [
      "\r",
      " 43%|████▎     | 89/208 [04:12<05:27,  2.75s/it]"
     ]
    },
    {
     "name": "stdout",
     "output_type": "stream",
     "text": [
      "the-infection-simulation\n"
     ]
    },
    {
     "name": "stderr",
     "output_type": "stream",
     "text": [
      "\r",
      " 43%|████▎     | 90/208 [04:15<05:38,  2.87s/it]"
     ]
    },
    {
     "name": "stdout",
     "output_type": "stream",
     "text": [
      "nuia-eyecharm-kinect-to-eye-tracking\n"
     ]
    },
    {
     "name": "stderr",
     "output_type": "stream",
     "text": [
      "\r",
      " 44%|████▍     | 91/208 [04:18<05:30,  2.83s/it]"
     ]
    },
    {
     "name": "stdout",
     "output_type": "stream",
     "text": [
      "vertus-same-bluetooth-audio-on-two-different-speak\n"
     ]
    },
    {
     "name": "stderr",
     "output_type": "stream",
     "text": [
      "\r",
      " 44%|████▍     | 92/208 [04:21<05:33,  2.88s/it]"
     ]
    },
    {
     "name": "stdout",
     "output_type": "stream",
     "text": [
      "meet-syre-the-worlds-first-bluetooth-ipod-nano-wat\n"
     ]
    },
    {
     "name": "stderr",
     "output_type": "stream",
     "text": [
      "\r",
      " 45%|████▍     | 93/208 [04:23<05:31,  2.88s/it]"
     ]
    },
    {
     "name": "stdout",
     "output_type": "stream",
     "text": [
      "hp-lovecrafts-wonderland\n"
     ]
    },
    {
     "name": "stderr",
     "output_type": "stream",
     "text": [
      "\r",
      " 45%|████▌     | 94/208 [04:26<05:17,  2.78s/it]"
     ]
    },
    {
     "name": "stdout",
     "output_type": "stream",
     "text": [
      "ncaa-football-game-for-xbox-360-and-playstation-3\n"
     ]
    },
    {
     "name": "stderr",
     "output_type": "stream",
     "text": [
      "\r",
      " 46%|████▌     | 95/208 [04:28<05:01,  2.67s/it]"
     ]
    },
    {
     "name": "stdout",
     "output_type": "stream",
     "text": [
      "bluetooth-earbuds-w-magnetic-docking-made-in-usa\n"
     ]
    },
    {
     "name": "stderr",
     "output_type": "stream",
     "text": [
      "\r",
      " 46%|████▌     | 96/208 [04:32<05:36,  3.00s/it]"
     ]
    },
    {
     "name": "stdout",
     "output_type": "stream",
     "text": [
      "mprinter-an-analog-printer-for-a-digital-world\n"
     ]
    },
    {
     "name": "stderr",
     "output_type": "stream",
     "text": [
      "\r",
      " 47%|████▋     | 97/208 [04:35<05:31,  2.98s/it]"
     ]
    },
    {
     "name": "stdout",
     "output_type": "stream",
     "text": [
      "eye-take-your-phone-to-the-next-level\n"
     ]
    },
    {
     "name": "stderr",
     "output_type": "stream",
     "text": [
      "\r",
      " 47%|████▋     | 98/208 [04:38<05:26,  2.97s/it]"
     ]
    },
    {
     "name": "stdout",
     "output_type": "stream",
     "text": [
      "ca7ch-lightbox\n"
     ]
    },
    {
     "name": "stderr",
     "output_type": "stream",
     "text": [
      "\r",
      " 48%|████▊     | 99/208 [04:41<05:14,  2.88s/it]"
     ]
    },
    {
     "name": "stdout",
     "output_type": "stream",
     "text": [
      "dashbot-a-49-robot-for-your-dashboard\n"
     ]
    },
    {
     "name": "stderr",
     "output_type": "stream",
     "text": [
      "\r",
      " 48%|████▊     | 100/208 [04:44<05:13,  2.90s/it]"
     ]
    },
    {
     "name": "stdout",
     "output_type": "stream",
     "text": [
      "half-life-3\n"
     ]
    },
    {
     "name": "stderr",
     "output_type": "stream",
     "text": [
      "\r",
      " 49%|████▊     | 101/208 [04:46<04:57,  2.78s/it]"
     ]
    },
    {
     "name": "stdout",
     "output_type": "stream",
     "text": [
      "aura-tactics\n"
     ]
    },
    {
     "name": "stderr",
     "output_type": "stream",
     "text": [
      "\r",
      " 49%|████▉     | 102/208 [04:49<05:04,  2.87s/it]"
     ]
    },
    {
     "name": "stdout",
     "output_type": "stream",
     "text": [
      "shining-empire\n"
     ]
    },
    {
     "name": "stderr",
     "output_type": "stream",
     "text": [
      "\r",
      " 50%|████▉     | 103/208 [04:52<04:54,  2.81s/it]"
     ]
    },
    {
     "name": "stdout",
     "output_type": "stream",
     "text": [
      "unwritten-that-which-happened\n"
     ]
    },
    {
     "name": "stderr",
     "output_type": "stream",
     "text": [
      "\r",
      " 50%|█████     | 104/208 [04:56<05:15,  3.03s/it]"
     ]
    },
    {
     "name": "stdout",
     "output_type": "stream",
     "text": [
      "airdog-worlds-first-auto-follow-action-sports-dron\n"
     ]
    },
    {
     "name": "stderr",
     "output_type": "stream",
     "text": [
      "\r",
      " 50%|█████     | 105/208 [04:59<05:31,  3.22s/it]"
     ]
    },
    {
     "name": "stdout",
     "output_type": "stream",
     "text": [
      "moff-a-wearable-smart-toy-changes-everything-into\n"
     ]
    },
    {
     "name": "stderr",
     "output_type": "stream",
     "text": [
      "\r",
      " 51%|█████     | 106/208 [05:02<05:11,  3.06s/it]"
     ]
    },
    {
     "name": "stdout",
     "output_type": "stream",
     "text": [
      "camera-lucida-reinvented-the-new-old-masters-drawi\n"
     ]
    },
    {
     "name": "stderr",
     "output_type": "stream",
     "text": [
      "\r",
      " 51%|█████▏    | 107/208 [05:05<04:56,  2.94s/it]"
     ]
    },
    {
     "name": "stdout",
     "output_type": "stream",
     "text": [
      "ir-blue-thermal-imaging-smartphone-accessory\n"
     ]
    },
    {
     "name": "stderr",
     "output_type": "stream",
     "text": [
      "\r",
      " 52%|█████▏    | 108/208 [05:07<04:48,  2.88s/it]"
     ]
    },
    {
     "name": "stdout",
     "output_type": "stream",
     "text": [
      "archt-one-revolutionary-wireless-audio-system-for\n"
     ]
    },
    {
     "name": "stderr",
     "output_type": "stream",
     "text": [
      "\r",
      " 52%|█████▏    | 109/208 [05:10<04:43,  2.86s/it]"
     ]
    },
    {
     "name": "stdout",
     "output_type": "stream",
     "text": [
      "a-mobile-personal-theater-with-built-in-premium-au\n"
     ]
    },
    {
     "name": "stderr",
     "output_type": "stream",
     "text": [
      "\r",
      " 53%|█████▎    | 110/208 [05:14<05:10,  3.17s/it]"
     ]
    },
    {
     "name": "stdout",
     "output_type": "stream",
     "text": [
      "beam-the-smart-projector-that-fits-in-any-light-so\n"
     ]
    },
    {
     "name": "stderr",
     "output_type": "stream",
     "text": [
      "\r",
      " 53%|█████▎    | 111/208 [05:17<04:58,  3.08s/it]"
     ]
    },
    {
     "name": "stdout",
     "output_type": "stream",
     "text": [
      "remee-the-rem-enhancing-lucid-dreaming-mask\n"
     ]
    },
    {
     "name": "stderr",
     "output_type": "stream",
     "text": [
      "\r",
      " 54%|█████▍    | 112/208 [05:20<04:49,  3.02s/it]"
     ]
    },
    {
     "name": "stdout",
     "output_type": "stream",
     "text": [
      "sammy-screamer-motion-alarm\n"
     ]
    },
    {
     "name": "stderr",
     "output_type": "stream",
     "text": [
      "\r",
      " 54%|█████▍    | 113/208 [05:23<04:49,  3.05s/it]"
     ]
    },
    {
     "name": "stdout",
     "output_type": "stream",
     "text": [
      "the-hydration-shirt\n"
     ]
    },
    {
     "name": "stderr",
     "output_type": "stream",
     "text": [
      "\r",
      " 55%|█████▍    | 114/208 [05:25<04:35,  2.93s/it]"
     ]
    },
    {
     "name": "stdout",
     "output_type": "stream",
     "text": [
      "bolt-portable-usb-battery-backup-with-built-in-wal\n"
     ]
    },
    {
     "name": "stderr",
     "output_type": "stream",
     "text": [
      "\r",
      " 55%|█████▌    | 115/208 [05:28<04:25,  2.85s/it]"
     ]
    },
    {
     "name": "stdout",
     "output_type": "stream",
     "text": [
      "knut-stay-connected\n"
     ]
    },
    {
     "name": "stderr",
     "output_type": "stream",
     "text": [
      "\r",
      " 56%|█████▌    | 116/208 [05:31<04:25,  2.88s/it]"
     ]
    },
    {
     "name": "stdout",
     "output_type": "stream",
     "text": [
      "thermodo-the-tiny-thermometer-for-mobile-devices\n"
     ]
    },
    {
     "name": "stderr",
     "output_type": "stream",
     "text": [
      "\r",
      " 56%|█████▋    | 117/208 [05:35<04:38,  3.06s/it]"
     ]
    },
    {
     "name": "stdout",
     "output_type": "stream",
     "text": [
      "flex-versatility-kit-for-ipad-2\n"
     ]
    },
    {
     "name": "stderr",
     "output_type": "stream",
     "text": [
      "\r",
      " 57%|█████▋    | 118/208 [05:37<04:20,  2.90s/it]"
     ]
    },
    {
     "name": "stdout",
     "output_type": "stream",
     "text": [
      "space-monkey-taking-the-cloud-out-of-the-datacente\n"
     ]
    },
    {
     "name": "stderr",
     "output_type": "stream",
     "text": [
      "\r",
      " 57%|█████▋    | 119/208 [05:40<04:27,  3.00s/it]"
     ]
    },
    {
     "name": "stdout",
     "output_type": "stream",
     "text": [
      "plug-the-brain-of-your-devices\n"
     ]
    },
    {
     "name": "stderr",
     "output_type": "stream",
     "text": [
      "\r",
      " 58%|█████▊    | 120/208 [05:44<04:46,  3.25s/it]"
     ]
    },
    {
     "name": "stdout",
     "output_type": "stream",
     "text": [
      "12-in-1-connect-charlie-safely-charges-all-your-de\n"
     ]
    },
    {
     "name": "stderr",
     "output_type": "stream",
     "text": [
      "\r",
      " 58%|█████▊    | 121/208 [05:47<04:23,  3.03s/it]"
     ]
    },
    {
     "name": "stdout",
     "output_type": "stream",
     "text": [
      "buko-3d-printer-raising-the-bar-of-open-source-3d\n"
     ]
    },
    {
     "name": "stderr",
     "output_type": "stream",
     "text": [
      "\r",
      " 59%|█████▊    | 122/208 [05:50<04:37,  3.22s/it]"
     ]
    },
    {
     "name": "stdout",
     "output_type": "stream",
     "text": [
      "digispark-the-tiny-arduino-enabled-usb-dev-board\n"
     ]
    },
    {
     "name": "stderr",
     "output_type": "stream",
     "text": [
      "\r",
      " 59%|█████▉    | 123/208 [05:54<04:32,  3.21s/it]"
     ]
    },
    {
     "name": "stdout",
     "output_type": "stream",
     "text": [
      "waterstrider-perfect-footage-confident-landings-an\n"
     ]
    },
    {
     "name": "stderr",
     "output_type": "stream",
     "text": [
      "\r",
      " 60%|█████▉    | 124/208 [05:57<04:30,  3.22s/it]"
     ]
    },
    {
     "name": "stdout",
     "output_type": "stream",
     "text": [
      "electric-objects-a-computer-made-for-art\n"
     ]
    },
    {
     "name": "stderr",
     "output_type": "stream",
     "text": [
      "\r",
      " 60%|██████    | 125/208 [06:00<04:34,  3.31s/it]"
     ]
    },
    {
     "name": "stdout",
     "output_type": "stream",
     "text": [
      "timelapse-powerful-features-brilliant-timelapse\n"
     ]
    },
    {
     "name": "stderr",
     "output_type": "stream",
     "text": [
      "\r",
      " 61%|██████    | 126/208 [06:03<04:22,  3.20s/it]"
     ]
    },
    {
     "name": "stdout",
     "output_type": "stream",
     "text": [
      "candle-charger-emergency-power-generator-for-smart\n"
     ]
    },
    {
     "name": "stderr",
     "output_type": "stream",
     "text": [
      "\r",
      " 61%|██████    | 127/208 [06:06<04:14,  3.14s/it]"
     ]
    },
    {
     "name": "stdout",
     "output_type": "stream",
     "text": [
      "wigwag-scan-it-control-it-rule-it-share-it\n"
     ]
    },
    {
     "name": "stderr",
     "output_type": "stream",
     "text": [
      "\r",
      " 62%|██████▏   | 128/208 [06:09<04:08,  3.10s/it]"
     ]
    },
    {
     "name": "stdout",
     "output_type": "stream",
     "text": [
      "twine-listen-to-your-world-talk-to-the-internet\n"
     ]
    },
    {
     "name": "stderr",
     "output_type": "stream",
     "text": [
      "\r",
      " 62%|██████▏   | 129/208 [06:12<04:03,  3.09s/it]"
     ]
    },
    {
     "name": "stdout",
     "output_type": "stream",
     "text": [
      "jamstik-the-smartguitar\n"
     ]
    },
    {
     "name": "stderr",
     "output_type": "stream",
     "text": [
      "\r",
      " 62%|██████▎   | 130/208 [06:15<03:53,  3.00s/it]"
     ]
    },
    {
     "name": "stdout",
     "output_type": "stream",
     "text": [
      "bolt2-worlds-smallest-24a-battery-backup-wall-char\n"
     ]
    },
    {
     "name": "stderr",
     "output_type": "stream",
     "text": [
      "\r",
      " 63%|██████▎   | 131/208 [06:18<03:45,  2.92s/it]"
     ]
    },
    {
     "name": "stdout",
     "output_type": "stream",
     "text": [
      "hydra-a-triple-output-power-supply-for-electronics\n"
     ]
    },
    {
     "name": "stderr",
     "output_type": "stream",
     "text": [
      "\r",
      " 63%|██████▎   | 132/208 [06:21<03:44,  2.96s/it]"
     ]
    },
    {
     "name": "stdout",
     "output_type": "stream",
     "text": [
      "god-hates-charades-this-game-makes-your-friends-fu\n"
     ]
    },
    {
     "name": "stderr",
     "output_type": "stream",
     "text": [
      "\r",
      " 64%|██████▍   | 133/208 [06:24<03:37,  2.89s/it]"
     ]
    },
    {
     "name": "stdout",
     "output_type": "stream",
     "text": [
      "brew-bracket-a-beer-tasting-tournament-kit\n"
     ]
    },
    {
     "name": "stderr",
     "output_type": "stream",
     "text": [
      "\r",
      " 64%|██████▍   | 134/208 [06:26<03:28,  2.82s/it]"
     ]
    },
    {
     "name": "stdout",
     "output_type": "stream",
     "text": [
      "glory-to-rome-black-box-edition-rome-demands-beaut\n"
     ]
    },
    {
     "name": "stderr",
     "output_type": "stream",
     "text": [
      "\r",
      " 65%|██████▍   | 135/208 [06:30<03:52,  3.19s/it]"
     ]
    },
    {
     "name": "stdout",
     "output_type": "stream",
     "text": [
      "the-dead-linger\n"
     ]
    },
    {
     "name": "stderr",
     "output_type": "stream",
     "text": [
      "\r",
      " 65%|██████▌   | 136/208 [06:34<04:05,  3.42s/it]"
     ]
    },
    {
     "name": "stdout",
     "output_type": "stream",
     "text": [
      "blood-rage\n"
     ]
    },
    {
     "name": "stderr",
     "output_type": "stream",
     "text": [
      "\r",
      " 66%|██████▌   | 137/208 [06:38<04:01,  3.41s/it]"
     ]
    },
    {
     "name": "stdout",
     "output_type": "stream",
     "text": [
      "poor-choices-the-game\n"
     ]
    },
    {
     "name": "stderr",
     "output_type": "stream",
     "text": [
      "\r",
      " 66%|██████▋   | 138/208 [06:41<03:46,  3.24s/it]"
     ]
    },
    {
     "name": "stdout",
     "output_type": "stream",
     "text": [
      "forsaken-fortress\n"
     ]
    },
    {
     "name": "stderr",
     "output_type": "stream",
     "text": [
      "\r",
      " 67%|██████▋   | 139/208 [06:44<03:44,  3.25s/it]"
     ]
    },
    {
     "name": "stdout",
     "output_type": "stream",
     "text": [
      "serpents-tongue-a-new-magick-experience\n"
     ]
    },
    {
     "name": "stderr",
     "output_type": "stream",
     "text": [
      "\r",
      " 67%|██████▋   | 140/208 [06:47<03:44,  3.30s/it]"
     ]
    },
    {
     "name": "stdout",
     "output_type": "stream",
     "text": [
      "the-builders-of-blankenburg\n"
     ]
    },
    {
     "name": "stderr",
     "output_type": "stream",
     "text": [
      "\r",
      " 68%|██████▊   | 141/208 [06:50<03:35,  3.22s/it]"
     ]
    },
    {
     "name": "stdout",
     "output_type": "stream",
     "text": [
      "the-crystal-catacombs\n"
     ]
    },
    {
     "name": "stderr",
     "output_type": "stream",
     "text": [
      "\r",
      " 68%|██████▊   | 142/208 [06:53<03:24,  3.10s/it]"
     ]
    },
    {
     "name": "stdout",
     "output_type": "stream",
     "text": [
      "joking-hazard\n"
     ]
    },
    {
     "name": "stderr",
     "output_type": "stream",
     "text": [
      "\r",
      " 69%|██████▉   | 143/208 [06:56<03:24,  3.14s/it]"
     ]
    },
    {
     "name": "stdout",
     "output_type": "stream",
     "text": [
      "whispering-willows-horror-puzzle-game-for-ouya-and\n"
     ]
    },
    {
     "name": "stderr",
     "output_type": "stream",
     "text": [
      "\r",
      " 69%|██████▉   | 144/208 [07:00<03:25,  3.21s/it]"
     ]
    },
    {
     "name": "stdout",
     "output_type": "stream",
     "text": [
      "vivajava-the-coffee-game\n"
     ]
    },
    {
     "name": "stderr",
     "output_type": "stream",
     "text": [
      "\r",
      " 70%|██████▉   | 145/208 [07:03<03:21,  3.20s/it]"
     ]
    },
    {
     "name": "stdout",
     "output_type": "stream",
     "text": [
      "salem-a-strategic-card-game-of-deception-for-4-12\n"
     ]
    },
    {
     "name": "stderr",
     "output_type": "stream",
     "text": [
      "\r",
      " 70%|███████   | 146/208 [07:06<03:12,  3.11s/it]"
     ]
    },
    {
     "name": "stdout",
     "output_type": "stream",
     "text": [
      "bears-vs-babies-a-card-game\n"
     ]
    },
    {
     "name": "stderr",
     "output_type": "stream",
     "text": [
      "\r",
      " 71%|███████   | 147/208 [07:08<03:02,  2.99s/it]"
     ]
    },
    {
     "name": "stdout",
     "output_type": "stream",
     "text": [
      "full-bore-an-underground-puzzle-adventure\n"
     ]
    },
    {
     "name": "stderr",
     "output_type": "stream",
     "text": [
      "\r",
      " 71%|███████   | 148/208 [07:11<02:55,  2.92s/it]"
     ]
    },
    {
     "name": "stdout",
     "output_type": "stream",
     "text": [
      "spine\n"
     ]
    },
    {
     "name": "stderr",
     "output_type": "stream",
     "text": [
      "\r",
      " 72%|███████▏  | 149/208 [07:14<02:53,  2.94s/it]"
     ]
    },
    {
     "name": "stdout",
     "output_type": "stream",
     "text": [
      "secrets-of-the-lost-tomb\n"
     ]
    },
    {
     "name": "stderr",
     "output_type": "stream",
     "text": [
      "\r",
      " 72%|███████▏  | 150/208 [07:18<03:06,  3.22s/it]"
     ]
    },
    {
     "name": "stdout",
     "output_type": "stream",
     "text": [
      "meepillows-an-assortment-of-colorful-large-plush-m\n"
     ]
    },
    {
     "name": "stderr",
     "output_type": "stream",
     "text": [
      "\r",
      " 73%|███████▎  | 151/208 [07:21<02:55,  3.07s/it]"
     ]
    },
    {
     "name": "stdout",
     "output_type": "stream",
     "text": [
      "race-the-sun-endless-racer-with-mod-tools-and-mult\n"
     ]
    },
    {
     "name": "stderr",
     "output_type": "stream",
     "text": [
      "\r",
      " 73%|███████▎  | 152/208 [07:24<02:49,  3.02s/it]"
     ]
    },
    {
     "name": "stdout",
     "output_type": "stream",
     "text": [
      "wasteland-2\n"
     ]
    },
    {
     "name": "stderr",
     "output_type": "stream",
     "text": [
      "\r",
      " 74%|███████▎  | 153/208 [07:30<03:39,  3.99s/it]"
     ]
    },
    {
     "name": "stdout",
     "output_type": "stream",
     "text": [
      "battle-worlds-kronos-turn-based-strategy-revisited\n"
     ]
    },
    {
     "name": "stderr",
     "output_type": "stream",
     "text": [
      "\r",
      " 74%|███████▍  | 154/208 [07:34<03:30,  3.90s/it]"
     ]
    },
    {
     "name": "stdout",
     "output_type": "stream",
     "text": [
      "smart-money-maker-a-collaborative-card-game\n"
     ]
    },
    {
     "name": "stderr",
     "output_type": "stream",
     "text": [
      "\r",
      " 75%|███████▍  | 155/208 [07:36<03:05,  3.50s/it]"
     ]
    },
    {
     "name": "stdout",
     "output_type": "stream",
     "text": [
      "make-leisure-suit-larry-come-again\n"
     ]
    },
    {
     "name": "stderr",
     "output_type": "stream",
     "text": [
      "\r",
      " 75%|███████▌  | 156/208 [07:41<03:15,  3.76s/it]"
     ]
    },
    {
     "name": "stdout",
     "output_type": "stream",
     "text": [
      "darkrock-ventures-asteroid-mining-in-deep-space-bo\n"
     ]
    },
    {
     "name": "stderr",
     "output_type": "stream",
     "text": [
      "\r",
      " 75%|███████▌  | 157/208 [07:44<03:13,  3.78s/it]"
     ]
    },
    {
     "name": "stdout",
     "output_type": "stream",
     "text": [
      "cards-against-humanity\n"
     ]
    },
    {
     "name": "stderr",
     "output_type": "stream",
     "text": [
      "\r",
      " 76%|███████▌  | 158/208 [07:47<02:56,  3.53s/it]"
     ]
    },
    {
     "name": "stdout",
     "output_type": "stream",
     "text": [
      "meriwether-an-american-epic\n"
     ]
    },
    {
     "name": "stderr",
     "output_type": "stream",
     "text": [
      "\r",
      " 76%|███████▋  | 159/208 [07:52<03:11,  3.91s/it]"
     ]
    },
    {
     "name": "stdout",
     "output_type": "stream",
     "text": [
      "guns-of-icarus-online\n"
     ]
    },
    {
     "name": "stderr",
     "output_type": "stream",
     "text": [
      "\r",
      " 77%|███████▋  | 160/208 [07:55<02:49,  3.54s/it]"
     ]
    },
    {
     "name": "stdout",
     "output_type": "stream",
     "text": [
      "card-caddy-double-decker\n"
     ]
    },
    {
     "name": "stderr",
     "output_type": "stream",
     "text": [
      "\r",
      " 77%|███████▋  | 161/208 [07:58<02:36,  3.33s/it]"
     ]
    },
    {
     "name": "stdout",
     "output_type": "stream",
     "text": [
      "the-next-big-thing-1-board-game-for-entrepreneursh\n"
     ]
    },
    {
     "name": "stderr",
     "output_type": "stream",
     "text": [
      "\r",
      " 78%|███████▊  | 162/208 [08:00<02:23,  3.11s/it]"
     ]
    },
    {
     "name": "stdout",
     "output_type": "stream",
     "text": [
      "mobscenity-the-totally-up-party-game\n"
     ]
    },
    {
     "name": "stderr",
     "output_type": "stream",
     "text": [
      "\r",
      " 78%|███████▊  | 163/208 [08:03<02:13,  2.97s/it]"
     ]
    },
    {
     "name": "stdout",
     "output_type": "stream",
     "text": [
      "delvers-drop\n"
     ]
    },
    {
     "name": "stderr",
     "output_type": "stream",
     "text": [
      "\r",
      " 79%|███████▉  | 164/208 [08:09<02:48,  3.83s/it]"
     ]
    },
    {
     "name": "stdout",
     "output_type": "stream",
     "text": [
      "lightseekers\n"
     ]
    },
    {
     "name": "stderr",
     "output_type": "stream",
     "text": [
      "\r",
      " 79%|███████▉  | 165/208 [08:12<02:37,  3.66s/it]"
     ]
    },
    {
     "name": "stdout",
     "output_type": "stream",
     "text": [
      "project-giana\n"
     ]
    },
    {
     "name": "stderr",
     "output_type": "stream",
     "text": [
      "\r",
      " 80%|███████▉  | 166/208 [08:16<02:32,  3.63s/it]"
     ]
    },
    {
     "name": "stdout",
     "output_type": "stream",
     "text": [
      "shotbox-20-the-pop-up-photo-light-studio-upgraded\n"
     ]
    },
    {
     "name": "stderr",
     "output_type": "stream",
     "text": [
      "\r",
      " 80%|████████  | 167/208 [08:19<02:24,  3.53s/it]"
     ]
    },
    {
     "name": "stdout",
     "output_type": "stream",
     "text": [
      "collar-perfect-let-us-iron-out-the-wrinkles-in-you\n"
     ]
    },
    {
     "name": "stderr",
     "output_type": "stream",
     "text": [
      "\r",
      " 81%|████████  | 168/208 [08:22<02:13,  3.35s/it]"
     ]
    },
    {
     "name": "stdout",
     "output_type": "stream",
     "text": [
      "c-dock\n"
     ]
    },
    {
     "name": "stderr",
     "output_type": "stream",
     "text": [
      "\r",
      " 81%|████████▏ | 169/208 [08:24<02:01,  3.12s/it]"
     ]
    },
    {
     "name": "stdout",
     "output_type": "stream",
     "text": [
      "whiskey-rox-beverage-chilling-stones\n"
     ]
    },
    {
     "name": "stderr",
     "output_type": "stream",
     "text": [
      "\r",
      " 82%|████████▏ | 170/208 [08:27<01:51,  2.94s/it]"
     ]
    },
    {
     "name": "stdout",
     "output_type": "stream",
     "text": [
      "touchfire-the-screen-top-keyboard-for-ipad\n"
     ]
    },
    {
     "name": "stderr",
     "output_type": "stream",
     "text": [
      "\r",
      " 82%|████████▏ | 171/208 [08:30<01:51,  3.03s/it]"
     ]
    },
    {
     "name": "stdout",
     "output_type": "stream",
     "text": [
      "blink-steady-the-bike-light-youve-been-waiting-for\n"
     ]
    },
    {
     "name": "stderr",
     "output_type": "stream",
     "text": [
      "\r",
      " 83%|████████▎ | 172/208 [08:33<01:45,  2.93s/it]"
     ]
    },
    {
     "name": "stdout",
     "output_type": "stream",
     "text": [
      "the-fred-water-flask-more-water-less-sugar\n"
     ]
    },
    {
     "name": "stderr",
     "output_type": "stream",
     "text": [
      "\r",
      " 83%|████████▎ | 173/208 [08:35<01:39,  2.83s/it]"
     ]
    },
    {
     "name": "stdout",
     "output_type": "stream",
     "text": [
      "diy-full-color-hologram-kit-from-litiholo\n"
     ]
    },
    {
     "name": "stderr",
     "output_type": "stream",
     "text": [
      "\r",
      " 84%|████████▎ | 174/208 [08:38<01:35,  2.81s/it]"
     ]
    },
    {
     "name": "stdout",
     "output_type": "stream",
     "text": [
      "sushiquik-making-sushi-has-never-been-this-easy\n"
     ]
    },
    {
     "name": "stderr",
     "output_type": "stream",
     "text": [
      "\r",
      " 84%|████████▍ | 175/208 [08:41<01:30,  2.75s/it]"
     ]
    },
    {
     "name": "stdout",
     "output_type": "stream",
     "text": [
      "bike-rack-storage-solution-for-your-home-by-trophy\n"
     ]
    },
    {
     "name": "stderr",
     "output_type": "stream",
     "text": [
      "\r",
      " 85%|████████▍ | 176/208 [08:43<01:26,  2.69s/it]"
     ]
    },
    {
     "name": "stdout",
     "output_type": "stream",
     "text": [
      "litographs-entire-books-on-posters-and-t-shirts\n"
     ]
    },
    {
     "name": "stderr",
     "output_type": "stream",
     "text": [
      "\r",
      " 85%|████████▌ | 177/208 [08:46<01:24,  2.74s/it]"
     ]
    },
    {
     "name": "stdout",
     "output_type": "stream",
     "text": [
      "halfbike\n"
     ]
    },
    {
     "name": "stderr",
     "output_type": "stream",
     "text": [
      "\r",
      " 86%|████████▌ | 178/208 [08:49<01:21,  2.70s/it]"
     ]
    },
    {
     "name": "stdout",
     "output_type": "stream",
     "text": [
      "introducing-kapotas-the-ultimate-minimalist-wallet\n"
     ]
    },
    {
     "name": "stderr",
     "output_type": "stream",
     "text": [
      "\r",
      " 86%|████████▌ | 179/208 [08:51<01:16,  2.64s/it]"
     ]
    },
    {
     "name": "stdout",
     "output_type": "stream",
     "text": [
      "bloom-blanket\n"
     ]
    },
    {
     "name": "stderr",
     "output_type": "stream",
     "text": [
      "\r",
      " 87%|████████▋ | 180/208 [08:54<01:13,  2.62s/it]"
     ]
    },
    {
     "name": "stdout",
     "output_type": "stream",
     "text": [
      "sensu-brush-a-true-painting-experience-on-your-ipa\n"
     ]
    },
    {
     "name": "stderr",
     "output_type": "stream",
     "text": [
      "\r",
      " 87%|████████▋ | 181/208 [08:57<01:11,  2.65s/it]"
     ]
    },
    {
     "name": "stdout",
     "output_type": "stream",
     "text": [
      "izen-bamboo-keyboard\n"
     ]
    },
    {
     "name": "stderr",
     "output_type": "stream",
     "text": [
      "\r",
      " 88%|████████▊ | 182/208 [08:59<01:07,  2.61s/it]"
     ]
    },
    {
     "name": "stdout",
     "output_type": "stream",
     "text": [
      "melon-a-headband-and-mobile-app-to-measure-your-fo\n"
     ]
    },
    {
     "name": "stderr",
     "output_type": "stream",
     "text": [
      "\r",
      " 88%|████████▊ | 183/208 [09:02<01:07,  2.70s/it]"
     ]
    },
    {
     "name": "stdout",
     "output_type": "stream",
     "text": [
      "morning-head-be-ready-in-5-seconds\n"
     ]
    },
    {
     "name": "stderr",
     "output_type": "stream",
     "text": [
      "\r",
      " 88%|████████▊ | 184/208 [09:04<01:02,  2.61s/it]"
     ]
    },
    {
     "name": "stdout",
     "output_type": "stream",
     "text": [
      "corter-leather-bottle-hook\n"
     ]
    },
    {
     "name": "stderr",
     "output_type": "stream",
     "text": [
      "\r",
      " 89%|████████▉ | 185/208 [09:07<01:02,  2.70s/it]"
     ]
    },
    {
     "name": "stdout",
     "output_type": "stream",
     "text": [
      "a-leash-that-doesnt-feel-like-a-leash\n"
     ]
    },
    {
     "name": "stderr",
     "output_type": "stream",
     "text": [
      "\r",
      " 89%|████████▉ | 186/208 [09:10<00:59,  2.68s/it]"
     ]
    },
    {
     "name": "stdout",
     "output_type": "stream",
     "text": [
      "arqball-spin-3d-for-everyone\n"
     ]
    },
    {
     "name": "stderr",
     "output_type": "stream",
     "text": [
      "\r",
      " 90%|████████▉ | 187/208 [09:13<00:55,  2.65s/it]"
     ]
    },
    {
     "name": "stdout",
     "output_type": "stream",
     "text": [
      "the-picosteady-video-camera-stabilizer\n"
     ]
    },
    {
     "name": "stderr",
     "output_type": "stream",
     "text": [
      "\r",
      " 90%|█████████ | 188/208 [09:15<00:52,  2.60s/it]"
     ]
    },
    {
     "name": "stdout",
     "output_type": "stream",
     "text": [
      "go-comb-fit-for-your-wallet\n"
     ]
    },
    {
     "name": "stderr",
     "output_type": "stream",
     "text": [
      "\r",
      " 91%|█████████ | 189/208 [09:18<00:49,  2.63s/it]"
     ]
    },
    {
     "name": "stdout",
     "output_type": "stream",
     "text": [
      "noclean-aquariumstm-self-cleaning-aquarium-for-bet\n"
     ]
    },
    {
     "name": "stderr",
     "output_type": "stream",
     "text": [
      "\r",
      " 91%|█████████▏| 190/208 [09:21<00:49,  2.76s/it]"
     ]
    },
    {
     "name": "stdout",
     "output_type": "stream",
     "text": [
      "mynt-nimble-remote-for-smart-devices\n"
     ]
    },
    {
     "name": "stderr",
     "output_type": "stream",
     "text": [
      "\r",
      " 92%|█████████▏| 191/208 [09:24<00:47,  2.78s/it]"
     ]
    },
    {
     "name": "stdout",
     "output_type": "stream",
     "text": [
      "poppy-turn-your-iphone-into-a-3d-camera-0\n"
     ]
    },
    {
     "name": "stderr",
     "output_type": "stream",
     "text": [
      "\r",
      " 92%|█████████▏| 192/208 [09:26<00:44,  2.76s/it]"
     ]
    },
    {
     "name": "stdout",
     "output_type": "stream",
     "text": [
      "the-x-pen-a-carbon-fiber-writing-tool\n"
     ]
    },
    {
     "name": "stderr",
     "output_type": "stream",
     "text": [
      "\r",
      " 93%|█████████▎| 193/208 [09:29<00:41,  2.79s/it]"
     ]
    },
    {
     "name": "stdout",
     "output_type": "stream",
     "text": [
      "bia-the-first-gps-sports-watch-for-womenby-women\n"
     ]
    },
    {
     "name": "stderr",
     "output_type": "stream",
     "text": [
      "\r",
      " 93%|█████████▎| 194/208 [09:33<00:44,  3.15s/it]"
     ]
    },
    {
     "name": "stdout",
     "output_type": "stream",
     "text": [
      "the-doubleclicks-new-album-president-snakes\n"
     ]
    },
    {
     "name": "stderr",
     "output_type": "stream",
     "text": [
      "\r",
      " 94%|█████████▍| 195/208 [09:36<00:40,  3.15s/it]"
     ]
    },
    {
     "name": "stdout",
     "output_type": "stream",
     "text": [
      "the-drummers-of-twisted-gypsy-our-first-album\n"
     ]
    },
    {
     "name": "stderr",
     "output_type": "stream",
     "text": [
      "\r",
      " 94%|█████████▍| 196/208 [09:39<00:36,  3.07s/it]"
     ]
    },
    {
     "name": "stdout",
     "output_type": "stream",
     "text": [
      "finding-vivian-maier-a-feature-length-documentary\n"
     ]
    },
    {
     "name": "stderr",
     "output_type": "stream",
     "text": [
      "\r",
      " 95%|█████████▍| 197/208 [09:42<00:32,  2.93s/it]"
     ]
    },
    {
     "name": "stdout",
     "output_type": "stream",
     "text": [
      "welcome-to-leith-feature-documentary\n"
     ]
    },
    {
     "name": "stderr",
     "output_type": "stream",
     "text": [
      "\r",
      " 95%|█████████▌| 198/208 [09:44<00:28,  2.81s/it]"
     ]
    },
    {
     "name": "stdout",
     "output_type": "stream",
     "text": [
      "blue-ruin\n"
     ]
    },
    {
     "name": "stderr",
     "output_type": "stream",
     "text": [
      "\r",
      " 96%|█████████▌| 199/208 [09:47<00:24,  2.74s/it]"
     ]
    },
    {
     "name": "stdout",
     "output_type": "stream",
     "text": [
      "canary-in-a-coal-mine\n"
     ]
    },
    {
     "name": "stderr",
     "output_type": "stream",
     "text": [
      "\r",
      " 96%|█████████▌| 200/208 [09:50<00:22,  2.82s/it]"
     ]
    },
    {
     "name": "stdout",
     "output_type": "stream",
     "text": [
      "poorcraft-wish-you-were-here\n"
     ]
    },
    {
     "name": "stderr",
     "output_type": "stream",
     "text": [
      "\r",
      " 97%|█████████▋| 201/208 [09:53<00:19,  2.78s/it]"
     ]
    },
    {
     "name": "stdout",
     "output_type": "stream",
     "text": [
      "the-black-well-a-new-graphic-novel-by-jamie-tanner\n"
     ]
    },
    {
     "name": "stderr",
     "output_type": "stream",
     "text": [
      "\r",
      " 97%|█████████▋| 202/208 [09:55<00:16,  2.78s/it]"
     ]
    },
    {
     "name": "stdout",
     "output_type": "stream",
     "text": [
      "basewood\n"
     ]
    },
    {
     "name": "stderr",
     "output_type": "stream",
     "text": [
      "\r",
      " 98%|█████████▊| 203/208 [09:58<00:14,  2.84s/it]"
     ]
    },
    {
     "name": "stdout",
     "output_type": "stream",
     "text": [
      "junkyard-glass\n"
     ]
    },
    {
     "name": "stderr",
     "output_type": "stream",
     "text": [
      "\r",
      " 98%|█████████▊| 204/208 [10:01<00:11,  2.75s/it]"
     ]
    },
    {
     "name": "stdout",
     "output_type": "stream",
     "text": [
      "handspun-single-sheep-breed-yarns\n"
     ]
    },
    {
     "name": "stderr",
     "output_type": "stream",
     "text": [
      "\r",
      " 99%|█████████▊| 205/208 [10:04<00:08,  2.73s/it]"
     ]
    },
    {
     "name": "stdout",
     "output_type": "stream",
     "text": [
      "tgt-tight-a-new-kind-of-wallet\n"
     ]
    },
    {
     "name": "stderr",
     "output_type": "stream",
     "text": [
      "\r",
      " 99%|█████████▉| 206/208 [10:06<00:05,  2.72s/it]"
     ]
    },
    {
     "name": "stdout",
     "output_type": "stream",
     "text": [
      "picobrew-zymatic-the-automatic-beer-brewing-applia\n"
     ]
    },
    {
     "name": "stderr",
     "output_type": "stream",
     "text": [
      "\r",
      "100%|█████████▉| 207/208 [10:09<00:02,  2.83s/it]"
     ]
    },
    {
     "name": "stdout",
     "output_type": "stream",
     "text": [
      "the-espro-press\n"
     ]
    },
    {
     "name": "stderr",
     "output_type": "stream",
     "text": [
      "100%|██████████| 208/208 [10:12<00:00,  2.95s/it]\n"
     ]
    }
   ],
   "source": [
    "###\n",
    "import subprocess\n",
    "import pandas\n",
    "from tqdm import tqdm\n",
    "\n",
    "for idx, text in enumerate(tqdm(df_u['content'])):\n",
    "    print(df_u['ID'][idx])\n",
    "    \n",
    "    idx_id = df_u['ID'][idx]\n",
    "    \n",
    "    \n",
    "    #f = open('./b_comment_full/' + idx_id +'.txt', 'w', encoding='utf-8')\n",
    "    #f.write(text)\n",
    "    #f.close()\n",
    "\n",
    "    command = 'cd ..;java -mx600m -cp \"*:lib/*\" \\\n",
    "edu.stanford.nlp.ie.crf.CRFClassifier \\\n",
    "-loadClassifier classifiers/english.all.3class.distsim.crf.ser.gz \\\n",
    "-outputFormat tabbedEntities \\\n",
    "-textFile ./data/b_comment_full/' + idx_id + '.txt > ./data/b_comment_full_ner_count/' + idx_id + '_ner_.tsv'\n",
    "\n",
    "    output = subprocess.check_output([command], shell=True, encoding='utf-8')"
   ]
  },
  {
   "cell_type": "code",
   "execution_count": 29,
   "id": "35c02d50",
   "metadata": {},
   "outputs": [
    {
     "data": {
      "text/html": [
       "<div>\n",
       "<style scoped>\n",
       "    .dataframe tbody tr th:only-of-type {\n",
       "        vertical-align: middle;\n",
       "    }\n",
       "\n",
       "    .dataframe tbody tr th {\n",
       "        vertical-align: top;\n",
       "    }\n",
       "\n",
       "    .dataframe thead th {\n",
       "        text-align: right;\n",
       "    }\n",
       "</style>\n",
       "<table border=\"1\" class=\"dataframe\">\n",
       "  <thead>\n",
       "    <tr style=\"text-align: right;\">\n",
       "      <th></th>\n",
       "      <th>ID</th>\n",
       "      <th>success_or_fail</th>\n",
       "      <th>content</th>\n",
       "    </tr>\n",
       "  </thead>\n",
       "  <tbody>\n",
       "    <tr>\n",
       "      <th>0</th>\n",
       "      <td>ambiolight-a-one-touch-room-makeover</td>\n",
       "      <td>0</td>\n",
       "      <td></td>\n",
       "    </tr>\n",
       "    <tr>\n",
       "      <th>1</th>\n",
       "      <td>arc-island-a-brave-new-civilization</td>\n",
       "      <td>0</td>\n",
       "      <td></td>\n",
       "    </tr>\n",
       "    <tr>\n",
       "      <th>2</th>\n",
       "      <td>asylum-playing-cards</td>\n",
       "      <td>1</td>\n",
       "      <td>Only 25 Hours left to GO until production begi...</td>\n",
       "    </tr>\n",
       "    <tr>\n",
       "      <th>3</th>\n",
       "      <td>code-hero-a-game-that-teaches-you-to-make-game...</td>\n",
       "      <td>1</td>\n",
       "      <td>From the project coordinator: GOODBYES Hi ever...</td>\n",
       "    </tr>\n",
       "    <tr>\n",
       "      <th>4</th>\n",
       "      <td>dark-skyes-an-epic-brony-dating-sim</td>\n",
       "      <td>0</td>\n",
       "      <td>We've gotten a lot of messages from people ask...</td>\n",
       "    </tr>\n",
       "    <tr>\n",
       "      <th>...</th>\n",
       "      <td>...</td>\n",
       "      <td>...</td>\n",
       "      <td>...</td>\n",
       "    </tr>\n",
       "    <tr>\n",
       "      <th>203</th>\n",
       "      <td>junkyard-glass</td>\n",
       "      <td>1</td>\n",
       "      <td>JUNKYARD GLASS AKA RECUPERO IS NOW FEATURED IN...</td>\n",
       "    </tr>\n",
       "    <tr>\n",
       "      <th>204</th>\n",
       "      <td>handspun-single-sheep-breed-yarns</td>\n",
       "      <td>1</td>\n",
       "      <td>Ok so where are we with shipping? As of today ...</td>\n",
       "    </tr>\n",
       "    <tr>\n",
       "      <th>205</th>\n",
       "      <td>tgt-tight-a-new-kind-of-wallet</td>\n",
       "      <td>1</td>\n",
       "      <td>I hope everyone is having a great holiday seas...</td>\n",
       "    </tr>\n",
       "    <tr>\n",
       "      <th>206</th>\n",
       "      <td>picobrew-zymatic-the-automatic-beer-brewing-ap...</td>\n",
       "      <td>1</td>\n",
       "      <td>Hi Zymatic Backers! We know it’s been a while ...</td>\n",
       "    </tr>\n",
       "    <tr>\n",
       "      <th>207</th>\n",
       "      <td>the-espro-press</td>\n",
       "      <td>1</td>\n",
       "      <td>Hello to all our previous backers and widespre...</td>\n",
       "    </tr>\n",
       "  </tbody>\n",
       "</table>\n",
       "<p>208 rows × 3 columns</p>\n",
       "</div>"
      ],
      "text/plain": [
       "                                                    ID  success_or_fail  \\\n",
       "0                 ambiolight-a-one-touch-room-makeover                0   \n",
       "1                  arc-island-a-brave-new-civilization                0   \n",
       "2                                 asylum-playing-cards                1   \n",
       "3    code-hero-a-game-that-teaches-you-to-make-game...                1   \n",
       "4                  dark-skyes-an-epic-brony-dating-sim                0   \n",
       "..                                                 ...              ...   \n",
       "203                                     junkyard-glass                1   \n",
       "204                  handspun-single-sheep-breed-yarns                1   \n",
       "205                     tgt-tight-a-new-kind-of-wallet                1   \n",
       "206  picobrew-zymatic-the-automatic-beer-brewing-ap...                1   \n",
       "207                                    the-espro-press                1   \n",
       "\n",
       "                                               content  \n",
       "0                                                       \n",
       "1                                                       \n",
       "2    Only 25 Hours left to GO until production begi...  \n",
       "3    From the project coordinator: GOODBYES Hi ever...  \n",
       "4    We've gotten a lot of messages from people ask...  \n",
       "..                                                 ...  \n",
       "203  JUNKYARD GLASS AKA RECUPERO IS NOW FEATURED IN...  \n",
       "204  Ok so where are we with shipping? As of today ...  \n",
       "205  I hope everyone is having a great holiday seas...  \n",
       "206  Hi Zymatic Backers! We know it’s been a while ...  \n",
       "207  Hello to all our previous backers and widespre...  \n",
       "\n",
       "[208 rows x 3 columns]"
      ]
     },
     "execution_count": 29,
     "metadata": {},
     "output_type": "execute_result"
    }
   ],
   "source": [
    "df_u"
   ]
  },
  {
   "cell_type": "code",
   "execution_count": 43,
   "id": "bbeac05f",
   "metadata": {},
   "outputs": [
    {
     "data": {
      "text/plain": [
       "ORGANIZATION    2\n",
       "Name: Unnamed: 1, dtype: int64"
      ]
     },
     "execution_count": 43,
     "metadata": {},
     "output_type": "execute_result"
    }
   ],
   "source": [
    "df_8 = pd.read_csv('../data/update_full_ner_count/10-for-two-seedling-kits-as-holiday-gifts-early-bi_ner_.tsv', sep='\\t')\n",
    "\n",
    "df_8['Unnamed: 1'].value_counts()"
   ]
  },
  {
   "cell_type": "code",
   "execution_count": 44,
   "id": "6d255055",
   "metadata": {},
   "outputs": [],
   "source": [
    "LOCATION = len(df_8[df_8['Unnamed: 1'] == 'LOCATION'])\n",
    "PERSON = len(df_8[df_8['Unnamed: 1'] == 'PERSON'])\n",
    "ORGANIZATION = len(df_8[df_8['Unnamed: 1'] == 'ORGANIZATION'])\n",
    "MONEY = len(df_8[df_8['Unnamed: 1'] == 'MONEY'])\n",
    "PERCENT = len(df_8[df_8['Unnamed: 1'] == 'PERCENT'])\n",
    "DATE = len(df_8[df_8['Unnamed: 1'] == 'DATE'])\n",
    "TIME = len(df_8[df_8['Unnamed: 1'] == 'TIME'])\n",
    "\n",
    "ner_dict = {'LOCATION':LOCATION, 'PERSON':PERSON, 'ORGANIZATION':ORGANIZATION,\n",
    "           'MONEY':MONEY, 'PERCENT':PERCENT, 'DATE':DATE, 'TIME':TIME}\n",
    "\n",
    "ner_dict"
   ]
  },
  {
   "cell_type": "code",
   "execution_count": 45,
   "id": "880eace2",
   "metadata": {},
   "outputs": [
    {
     "data": {
      "text/plain": [
       "{'LOCATION': 0,\n",
       " 'PERSON': 0,\n",
       " 'ORGANIZATION': 2,\n",
       " 'MONEY': 0,\n",
       " 'PERCENT': 0,\n",
       " 'DATE': 0,\n",
       " 'TIME': 0}"
      ]
     },
     "execution_count": 45,
     "metadata": {},
     "output_type": "execute_result"
    }
   ],
   "source": [
    "ner_dict = {'LOCATION':LOCATION, 'PERSON':PERSON, 'ORGANIZATION':ORGANIZATION,\n",
    "           'MONEY':MONEY, 'PERCENT':PERCENT, 'DATE':DATE, 'TIME':TIME}\n",
    "\n",
    "ner_dict"
   ]
  },
  {
   "cell_type": "code",
   "execution_count": null,
   "id": "4c4b6c6e",
   "metadata": {},
   "outputs": [],
   "source": []
  },
  {
   "cell_type": "code",
   "execution_count": null,
   "id": "41227e43",
   "metadata": {},
   "outputs": [],
   "source": []
  },
  {
   "cell_type": "code",
   "execution_count": null,
   "id": "20a7cf4e",
   "metadata": {},
   "outputs": [],
   "source": [
    "for idx, text in enumerate(tqdm(df_u['content'])):\n",
    "    print(df_u['ID'][idx])\n",
    "    \n",
    "    df_ner_count = pd.read_csv('../')"
   ]
  }
 ],
 "metadata": {
  "kernelspec": {
   "display_name": "Python 3",
   "language": "python",
   "name": "python3"
  },
  "language_info": {
   "codemirror_mode": {
    "name": "ipython",
    "version": 3
   },
   "file_extension": ".py",
   "mimetype": "text/x-python",
   "name": "python",
   "nbconvert_exporter": "python",
   "pygments_lexer": "ipython3",
   "version": "3.6.1"
  }
 },
 "nbformat": 4,
 "nbformat_minor": 5
}
