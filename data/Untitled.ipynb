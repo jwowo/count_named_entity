{
 "cells": [
  {
   "cell_type": "code",
   "execution_count": 1,
   "id": "0ead52c5",
   "metadata": {},
   "outputs": [],
   "source": [
    "import pandas as pd"
   ]
  },
  {
   "cell_type": "code",
   "execution_count": 2,
   "id": "1ac8f119",
   "metadata": {},
   "outputs": [
    {
     "data": {
      "text/html": [
       "<div>\n",
       "<style scoped>\n",
       "    .dataframe tbody tr th:only-of-type {\n",
       "        vertical-align: middle;\n",
       "    }\n",
       "\n",
       "    .dataframe tbody tr th {\n",
       "        vertical-align: top;\n",
       "    }\n",
       "\n",
       "    .dataframe thead th {\n",
       "        text-align: right;\n",
       "    }\n",
       "</style>\n",
       "<table border=\"1\" class=\"dataframe\">\n",
       "  <thead>\n",
       "    <tr style=\"text-align: right;\">\n",
       "      <th></th>\n",
       "      <th>ID</th>\n",
       "      <th>success_or_fail</th>\n",
       "      <th>content</th>\n",
       "    </tr>\n",
       "  </thead>\n",
       "  <tbody>\n",
       "    <tr>\n",
       "      <th>0</th>\n",
       "      <td>ambiolight-a-one-touch-room-makeover</td>\n",
       "      <td>0</td>\n",
       "      <td></td>\n",
       "    </tr>\n",
       "    <tr>\n",
       "      <th>1</th>\n",
       "      <td>arc-island-a-brave-new-civilization</td>\n",
       "      <td>0</td>\n",
       "      <td></td>\n",
       "    </tr>\n",
       "    <tr>\n",
       "      <th>2</th>\n",
       "      <td>asylum-playing-cards</td>\n",
       "      <td>1</td>\n",
       "      <td>Only 25 Hours left to GO until production begi...</td>\n",
       "    </tr>\n",
       "    <tr>\n",
       "      <th>3</th>\n",
       "      <td>code-hero-a-game-that-teaches-you-to-make-game...</td>\n",
       "      <td>1</td>\n",
       "      <td>From the project coordinator: GOODBYES Hi ever...</td>\n",
       "    </tr>\n",
       "    <tr>\n",
       "      <th>4</th>\n",
       "      <td>dark-skyes-an-epic-brony-dating-sim</td>\n",
       "      <td>0</td>\n",
       "      <td>We've gotten a lot of messages from people ask...</td>\n",
       "    </tr>\n",
       "    <tr>\n",
       "      <th>...</th>\n",
       "      <td>...</td>\n",
       "      <td>...</td>\n",
       "      <td>...</td>\n",
       "    </tr>\n",
       "    <tr>\n",
       "      <th>203</th>\n",
       "      <td>junkyard-glass</td>\n",
       "      <td>1</td>\n",
       "      <td>JUNKYARD GLASS AKA RECUPERO IS NOW FEATURED IN...</td>\n",
       "    </tr>\n",
       "    <tr>\n",
       "      <th>204</th>\n",
       "      <td>handspun-single-sheep-breed-yarns</td>\n",
       "      <td>1</td>\n",
       "      <td>Ok so where are we with shipping? As of today ...</td>\n",
       "    </tr>\n",
       "    <tr>\n",
       "      <th>205</th>\n",
       "      <td>tgt-tight-a-new-kind-of-wallet</td>\n",
       "      <td>1</td>\n",
       "      <td>I hope everyone is having a great holiday seas...</td>\n",
       "    </tr>\n",
       "    <tr>\n",
       "      <th>206</th>\n",
       "      <td>picobrew-zymatic-the-automatic-beer-brewing-ap...</td>\n",
       "      <td>1</td>\n",
       "      <td>Hi Zymatic Backers! We know it’s been a while ...</td>\n",
       "    </tr>\n",
       "    <tr>\n",
       "      <th>207</th>\n",
       "      <td>the-espro-press</td>\n",
       "      <td>1</td>\n",
       "      <td>Hello to all our previous backers and widespre...</td>\n",
       "    </tr>\n",
       "  </tbody>\n",
       "</table>\n",
       "<p>208 rows × 3 columns</p>\n",
       "</div>"
      ],
      "text/plain": [
       "                                                    ID  success_or_fail  \\\n",
       "0                 ambiolight-a-one-touch-room-makeover                0   \n",
       "1                  arc-island-a-brave-new-civilization                0   \n",
       "2                                 asylum-playing-cards                1   \n",
       "3    code-hero-a-game-that-teaches-you-to-make-game...                1   \n",
       "4                  dark-skyes-an-epic-brony-dating-sim                0   \n",
       "..                                                 ...              ...   \n",
       "203                                     junkyard-glass                1   \n",
       "204                  handspun-single-sheep-breed-yarns                1   \n",
       "205                     tgt-tight-a-new-kind-of-wallet                1   \n",
       "206  picobrew-zymatic-the-automatic-beer-brewing-ap...                1   \n",
       "207                                    the-espro-press                1   \n",
       "\n",
       "                                               content  \n",
       "0                                                       \n",
       "1                                                       \n",
       "2    Only 25 Hours left to GO until production begi...  \n",
       "3    From the project coordinator: GOODBYES Hi ever...  \n",
       "4    We've gotten a lot of messages from people ask...  \n",
       "..                                                 ...  \n",
       "203  JUNKYARD GLASS AKA RECUPERO IS NOW FEATURED IN...  \n",
       "204  Ok so where are we with shipping? As of today ...  \n",
       "205  I hope everyone is having a great holiday seas...  \n",
       "206  Hi Zymatic Backers! We know it’s been a while ...  \n",
       "207  Hello to all our previous backers and widespre...  \n",
       "\n",
       "[208 rows x 3 columns]"
      ]
     },
     "execution_count": 2,
     "metadata": {},
     "output_type": "execute_result"
    }
   ],
   "source": [
    "df_u = pd.read_csv('./update_full.tsv', sep='\\t')\n",
    "\n",
    "df_u"
   ]
  },
  {
   "cell_type": "code",
   "execution_count": 3,
   "id": "e7ca9c29",
   "metadata": {},
   "outputs": [
    {
     "name": "stderr",
     "output_type": "stream",
     "text": [
      "100%|██████████| 208/208 [00:00<00:00, 1396.35it/s]"
     ]
    },
    {
     "name": "stdout",
     "output_type": "stream",
     "text": [
      "ambiolight-a-one-touch-room-makeover\n",
      "arc-island-a-brave-new-civilization\n",
      "asylum-playing-cards\n",
      "code-hero-a-game-that-teaches-you-to-make-games-he\n",
      "dark-skyes-an-epic-brony-dating-sim\n",
      "elementary-my-dear-holmes\n",
      "eye3\n",
      "eyeztm-by-zioneyez-hd-video-recording-glasses-for\n",
      "founders-playing-cards\n",
      "free-roll-machined-gamers-dice\n",
      "ifind-the-worlds-first-battery-free-item-locating\n",
      "kobe-red-100-japanese-beer-fed-kobe-beef-jerky\n",
      "last-year-5-vs-1-multiplayer-survival-horror\n",
      "learn-iphone-app-development\n",
      "mythic-the-story-of-gods-and-men\n",
      "ping-wallet-the-worlds-thinnest-smartest-wallet\n",
      "powerful-charger-multiple-devices-multiple-times-o\n",
      "scribble-a-revolutionary-pen-that-draws-in-any-col\n",
      "agent-the-worlds-smartest-watch\n",
      "cst-01-the-worlds-thinnest-watch\n",
      "the-official-otakon-super-beat-em-up-video-game\n",
      "haunts-the-manse-macabre\n",
      "lucitm-advanced-lucid-dream-inducer\n",
      "zano-autonomous-intelligent-swarming-nano-drone\n",
      "katalyka\n",
      "yufu-the-stylus-perfected-pressure-sensitive-fine\n",
      "iplifier-for-iphone-5\n",
      "icontrolpad-2-the-open-source-controller\n",
      "come-with-me-and-dance-in-the-fire\n",
      "ilumi-bottle-the-new-way-to-keep-hydrated\n",
      "spike-makes-the-iphone-as-easy-to-type-on-as-it-is\n",
      "keyonpod-the-most-beautiful-key-management-system\n",
      "crypteks-usbtm-encrypted-and-lockable-usb-solution\n",
      "spixi-a-better-way-to-charge-and-sync-your-iphone\n",
      "up-front-the-card-game\n",
      "hydra-dice-necron\n",
      "myidkey-passwords-at-the-tip-of-your-finger\n",
      "grapple-knight\n",
      "quantum-roleplaying-game-an-all-new-science-fantas\n",
      "chase-mason-affordable-designer-dress-shoes\n",
      "precision-machined-role-playing-dice-hyper-precisi\n",
      "the-elements-playing-cards\n",
      "super-arcade-project-2014\n",
      "control-vr-motion-capture-for-vr-animation-and-mor\n",
      "commuting-is-a-breeze-with-boolze\n",
      "dot-worlds-smallest-bluetooth-headset\n",
      "woodie-leather-and-wood-reversible-usb-charging-ca-0\n",
      "twins-edition-refined-bicycle-playing-cards-by-usp\n",
      "cable-keeper\n",
      "kolstom-classic-carbon-fiber-sunglasses\n",
      "stormtag-a-bluetooth-weather-station-on-your-keyri\n",
      "apollo-ap-1-tactical-flashlight\n",
      "sever-the-anti-villain-box\n",
      "commbadge-star-trek-inspired-wearable-communicator\n",
      "10-for-two-seedling-kits-as-holiday-gifts-early-bi\n",
      "mutator-mute-your-iphonewith-a-twist\n",
      "vachen-smartwatch\n",
      "miniature-ice-age-mammal-adventure-set\n",
      "28mm-miniature-sea-monsters-dungeon-terrain-and-bi\n",
      "mansion-lord-a-murder-mystery-rpg-business-sim\n",
      "soap-first-smart-router-w-touch-display-powered-by\n",
      "kickstart-blaque-sun\n",
      "dysis\n",
      "rain-0\n",
      "baboomi-a-customizable-and-comfortable-alarm\n",
      "the-carbone-a-100-carbon-fiber-wallet\n",
      "celtic-knot-ceilteach-revised\n",
      "the-sons-of-starcraft\n",
      "adcontrol-for-adfree-internet\n",
      "harvestgeek-brains-for-your-garden\n",
      "the-ayahuasca-project-the-jungle-prescription\n",
      "in-defense-of-fat-the-documentary\n",
      "zombie-stomp-the-game-by-team-frog-studios\n",
      "diabolic-fightin-words\n",
      "joey-360-4k-seamless-video-capture-broadcast-confe\n",
      "limited-edition-translation-of-osamu-tezukas-the-c\n",
      "matchstick-the-streaming-stick-built-on-firefox-os\n",
      "fibrofibers-expansion-more-nightfall-for-everyone\n",
      "a-victorian-adventure-custom-playing-cards-uspcc\n",
      "ringbow-next-generation-gaming-accessory\n",
      "moon-rift\n",
      "turbocharge-your-wireless-router-with-an-androidtm\n",
      "dash-the-smart-phone-car-stereo\n",
      "red-2\n",
      "vrase-the-smartphone-virtual-reality-case\n",
      "key-stak-the-only-key-organizer-with-a-built-in-fl\n",
      "waldok-wall-plug-in-speaker-charger-for-the-ipod-n\n",
      "foundation-dock-the-new-home-for-your-iphone\n",
      "zopro-incredibly-thin-case-integrated-charging-iph\n",
      "the-infection-simulation\n",
      "nuia-eyecharm-kinect-to-eye-tracking\n",
      "vertus-same-bluetooth-audio-on-two-different-speak\n",
      "meet-syre-the-worlds-first-bluetooth-ipod-nano-wat\n",
      "hp-lovecrafts-wonderland\n",
      "ncaa-football-game-for-xbox-360-and-playstation-3\n",
      "bluetooth-earbuds-w-magnetic-docking-made-in-usa\n",
      "mprinter-an-analog-printer-for-a-digital-world\n",
      "eye-take-your-phone-to-the-next-level\n",
      "ca7ch-lightbox\n",
      "dashbot-a-49-robot-for-your-dashboard\n",
      "half-life-3\n",
      "aura-tactics\n",
      "shining-empire\n",
      "unwritten-that-which-happened\n",
      "airdog-worlds-first-auto-follow-action-sports-dron\n",
      "moff-a-wearable-smart-toy-changes-everything-into\n",
      "camera-lucida-reinvented-the-new-old-masters-drawi\n",
      "ir-blue-thermal-imaging-smartphone-accessory\n",
      "archt-one-revolutionary-wireless-audio-system-for\n",
      "a-mobile-personal-theater-with-built-in-premium-au\n",
      "beam-the-smart-projector-that-fits-in-any-light-so\n",
      "remee-the-rem-enhancing-lucid-dreaming-mask\n",
      "sammy-screamer-motion-alarm\n",
      "the-hydration-shirt\n",
      "bolt-portable-usb-battery-backup-with-built-in-wal\n",
      "knut-stay-connected\n",
      "thermodo-the-tiny-thermometer-for-mobile-devices\n",
      "flex-versatility-kit-for-ipad-2\n",
      "space-monkey-taking-the-cloud-out-of-the-datacente\n",
      "plug-the-brain-of-your-devices\n",
      "12-in-1-connect-charlie-safely-charges-all-your-de\n",
      "buko-3d-printer-raising-the-bar-of-open-source-3d\n",
      "digispark-the-tiny-arduino-enabled-usb-dev-board\n",
      "waterstrider-perfect-footage-confident-landings-an\n",
      "electric-objects-a-computer-made-for-art\n",
      "timelapse-powerful-features-brilliant-timelapse\n",
      "candle-charger-emergency-power-generator-for-smart\n",
      "wigwag-scan-it-control-it-rule-it-share-it\n",
      "twine-listen-to-your-world-talk-to-the-internet\n",
      "jamstik-the-smartguitar\n",
      "bolt2-worlds-smallest-24a-battery-backup-wall-char\n",
      "hydra-a-triple-output-power-supply-for-electronics\n",
      "god-hates-charades-this-game-makes-your-friends-fu\n",
      "brew-bracket-a-beer-tasting-tournament-kit\n",
      "glory-to-rome-black-box-edition-rome-demands-beaut\n",
      "the-dead-linger\n",
      "blood-rage\n",
      "poor-choices-the-game\n",
      "forsaken-fortress\n",
      "serpents-tongue-a-new-magick-experience\n",
      "the-builders-of-blankenburg\n",
      "the-crystal-catacombs\n",
      "joking-hazard\n",
      "whispering-willows-horror-puzzle-game-for-ouya-and\n",
      "vivajava-the-coffee-game\n",
      "salem-a-strategic-card-game-of-deception-for-4-12\n",
      "bears-vs-babies-a-card-game\n",
      "full-bore-an-underground-puzzle-adventure\n",
      "spine\n",
      "secrets-of-the-lost-tomb\n",
      "meepillows-an-assortment-of-colorful-large-plush-m\n",
      "race-the-sun-endless-racer-with-mod-tools-and-mult\n",
      "wasteland-2\n",
      "battle-worlds-kronos-turn-based-strategy-revisited\n",
      "smart-money-maker-a-collaborative-card-game\n",
      "make-leisure-suit-larry-come-again\n",
      "darkrock-ventures-asteroid-mining-in-deep-space-bo\n",
      "cards-against-humanity\n",
      "meriwether-an-american-epic\n",
      "guns-of-icarus-online\n",
      "card-caddy-double-decker\n",
      "the-next-big-thing-1-board-game-for-entrepreneursh\n",
      "mobscenity-the-totally-up-party-game\n",
      "delvers-drop\n",
      "lightseekers\n",
      "project-giana\n",
      "shotbox-20-the-pop-up-photo-light-studio-upgraded\n",
      "collar-perfect-let-us-iron-out-the-wrinkles-in-you\n",
      "c-dock\n",
      "whiskey-rox-beverage-chilling-stones\n",
      "touchfire-the-screen-top-keyboard-for-ipad\n",
      "blink-steady-the-bike-light-youve-been-waiting-for\n",
      "the-fred-water-flask-more-water-less-sugar\n",
      "diy-full-color-hologram-kit-from-litiholo\n",
      "sushiquik-making-sushi-has-never-been-this-easy\n",
      "bike-rack-storage-solution-for-your-home-by-trophy\n",
      "litographs-entire-books-on-posters-and-t-shirts\n",
      "halfbike\n",
      "introducing-kapotas-the-ultimate-minimalist-wallet\n",
      "bloom-blanket\n",
      "sensu-brush-a-true-painting-experience-on-your-ipa\n",
      "izen-bamboo-keyboard\n",
      "melon-a-headband-and-mobile-app-to-measure-your-fo\n",
      "morning-head-be-ready-in-5-seconds\n",
      "corter-leather-bottle-hook\n",
      "a-leash-that-doesnt-feel-like-a-leash\n",
      "arqball-spin-3d-for-everyone\n",
      "the-picosteady-video-camera-stabilizer\n",
      "go-comb-fit-for-your-wallet\n",
      "noclean-aquariumstm-self-cleaning-aquarium-for-bet\n",
      "mynt-nimble-remote-for-smart-devices\n",
      "poppy-turn-your-iphone-into-a-3d-camera-0\n",
      "the-x-pen-a-carbon-fiber-writing-tool\n",
      "bia-the-first-gps-sports-watch-for-womenby-women\n",
      "the-doubleclicks-new-album-president-snakes\n",
      "the-drummers-of-twisted-gypsy-our-first-album\n",
      "finding-vivian-maier-a-feature-length-documentary\n",
      "welcome-to-leith-feature-documentary\n",
      "blue-ruin\n",
      "canary-in-a-coal-mine\n",
      "poorcraft-wish-you-were-here\n",
      "the-black-well-a-new-graphic-novel-by-jamie-tanner\n",
      "basewood\n",
      "junkyard-glass\n",
      "handspun-single-sheep-breed-yarns\n",
      "tgt-tight-a-new-kind-of-wallet\n",
      "picobrew-zymatic-the-automatic-beer-brewing-applia\n",
      "the-espro-press\n"
     ]
    },
    {
     "name": "stderr",
     "output_type": "stream",
     "text": [
      "\n"
     ]
    }
   ],
   "source": [
    "from tqdm import tqdm\n",
    "\n",
    "for idx, text in enumerate(tqdm(df_u['content'])):\n",
    "    print(df_u['ID'][idx])\n",
    "    \n",
    "    idx_id = df_u['ID'][idx]\n",
    "    \n",
    "    \n",
    "    f = open('./b_comment_full/' + idx_id +'.txt', 'w', encoding='utf-8')\n",
    "    f.write(text)\n",
    "    f.close()"
   ]
  },
  {
   "cell_type": "code",
   "execution_count": 6,
   "id": "3a1ed8ce",
   "metadata": {},
   "outputs": [],
   "source": [
    "###\n",
    "import subprocess\n",
    "\n",
    "command = 'cd ..;java -mx600m -cp \"*:lib/*\" edu.stanford.nlp.ie.crf.CRFClassifier -loadClassifier classifiers/english.all.3class.distsim.crf.ser.gz -textFile sample.txt'\n",
    "\n",
    "output = subprocess.check_output([command], shell=True, encoding='utf-8')"
   ]
  },
  {
   "cell_type": "code",
   "execution_count": 7,
   "id": "d33bb645",
   "metadata": {},
   "outputs": [
    {
     "data": {
      "text/plain": [
       "'The/O fate/O of/O Lehman/ORGANIZATION Brothers/ORGANIZATION ,/O the/O beleaguered/O investment/O bank/O ,/O hung/O in/O the/O balance/O on/O Sunday/O as/O Federal/ORGANIZATION Reserve/ORGANIZATION officials/O and/O the/O leaders/O of/O major/O financial/O institutions/O continued/O to/O gather/O in/O emergency/O meetings/O trying/O to/O complete/O a/O plan/O to/O rescue/O the/O stricken/O bank/O ./O \\nSeveral/O possible/O plans/O emerged/O from/O the/O talks/O ,/O held/O at/O the/O Federal/ORGANIZATION Reserve/ORGANIZATION Bank/ORGANIZATION of/ORGANIZATION New/ORGANIZATION York/ORGANIZATION and/O led/O by/O Timothy/PERSON R./PERSON Geithner/PERSON ,/O the/O president/O of/O the/O New/ORGANIZATION York/ORGANIZATION Fed/ORGANIZATION ,/O and/O Treasury/ORGANIZATION Secretary/O Henry/PERSON M./PERSON Paulson/PERSON Jr./PERSON ./O \\n'"
      ]
     },
     "execution_count": 7,
     "metadata": {},
     "output_type": "execute_result"
    }
   ],
   "source": [
    "output"
   ]
  },
  {
   "cell_type": "code",
   "execution_count": 10,
   "id": "17816c8c",
   "metadata": {},
   "outputs": [
    {
     "data": {
      "text/plain": [
       "14"
      ]
     },
     "execution_count": 10,
     "metadata": {},
     "output_type": "execute_result"
    }
   ],
   "source": [
    "output.count('/ORGANIZATION ')"
   ]
  },
  {
   "cell_type": "code",
   "execution_count": 23,
   "id": "ea431a4a",
   "metadata": {},
   "outputs": [
    {
     "data": {
      "text/plain": [
       "'The/O fate/O of/O Lehman/ORGANIZATION Brothers/ORGANIZATION ,/O the/O beleaguered/O investment/O bank/O ,/O hung/O in/O the/O balance/O on/O Sunday/O as/O Federal/ORGANIZATION Reserve/ORGANIZATION officials/O and/O the/O leaders/O of/O major/O financial/O institutions/O continued/O to/O gather/O in/O emergency/O meetings/O trying/O to/O complete/O a/O plan/O to/O rescue/O the/O stricken/O bank/O ./O \\nSeveral/O possible/O plans/O emerged/O from/O the/O talks/O ,/O held/O at/O the/O Federal/ORGANIZATION Reserve/ORGANIZATION Bank/ORGANIZATION of/ORGANIZATION New/ORGANIZATION York/ORGANIZATION and/O led/O by/O Timothy/PERSON R./PERSON Geithner/PERSON ,/O the/O president/O of/O the/O New/ORGANIZATION York/ORGANIZATION Fed/ORGANIZATION ,/O and/O Treasury/ORGANIZATION Secretary/O Henry/PERSON M./PERSON Paulson/PERSON Jr./PERSON ./O \\nORGANIZATION + /ORGANIZATION + /ORGANIZATIONs'"
      ]
     },
     "execution_count": 23,
     "metadata": {},
     "output_type": "execute_result"
    }
   ],
   "source": [
    "test = output + 'ORGANIZATION + /ORGANIZATION + /ORGANIZATIONs'\n",
    "\n",
    "test"
   ]
  },
  {
   "cell_type": "code",
   "execution_count": 24,
   "id": "c91dc743",
   "metadata": {},
   "outputs": [
    {
     "data": {
      "text/plain": [
       "16"
      ]
     },
     "execution_count": 24,
     "metadata": {},
     "output_type": "execute_result"
    }
   ],
   "source": [
    "test.count('/ORGANIZATION')"
   ]
  },
  {
   "cell_type": "code",
   "execution_count": 26,
   "id": "2cc217b0",
   "metadata": {},
   "outputs": [
    {
     "name": "stdout",
     "output_type": "stream",
     "text": [
      "/Users/Jongwoo/Desktop/Project/count_named_entity/data\r\n"
     ]
    }
   ],
   "source": [
    "!pwd"
   ]
  },
  {
   "cell_type": "code",
   "execution_count": null,
   "id": "76d1fd95",
   "metadata": {},
   "outputs": [
    {
     "name": "stderr",
     "output_type": "stream",
     "text": [
      "\r",
      "  0%|          | 0/208 [00:00<?, ?it/s]"
     ]
    },
    {
     "name": "stdout",
     "output_type": "stream",
     "text": [
      "ambiolight-a-one-touch-room-makeover\n"
     ]
    },
    {
     "name": "stderr",
     "output_type": "stream",
     "text": [
      "\r",
      "  0%|          | 1/208 [00:02<08:17,  2.41s/it]"
     ]
    },
    {
     "name": "stdout",
     "output_type": "stream",
     "text": [
      "arc-island-a-brave-new-civilization\n"
     ]
    },
    {
     "name": "stderr",
     "output_type": "stream",
     "text": [
      "\r",
      "  1%|          | 2/208 [00:04<08:10,  2.38s/it]"
     ]
    },
    {
     "name": "stdout",
     "output_type": "stream",
     "text": [
      "asylum-playing-cards\n"
     ]
    },
    {
     "name": "stderr",
     "output_type": "stream",
     "text": [
      "\r",
      "  1%|▏         | 3/208 [00:07<08:19,  2.44s/it]"
     ]
    },
    {
     "name": "stdout",
     "output_type": "stream",
     "text": [
      "code-hero-a-game-that-teaches-you-to-make-games-he\n"
     ]
    },
    {
     "name": "stderr",
     "output_type": "stream",
     "text": [
      "\r",
      "  2%|▏         | 4/208 [00:10<09:46,  2.88s/it]"
     ]
    },
    {
     "name": "stdout",
     "output_type": "stream",
     "text": [
      "dark-skyes-an-epic-brony-dating-sim\n"
     ]
    },
    {
     "name": "stderr",
     "output_type": "stream",
     "text": [
      "\r",
      "  2%|▏         | 5/208 [00:13<09:27,  2.80s/it]"
     ]
    },
    {
     "name": "stdout",
     "output_type": "stream",
     "text": [
      "elementary-my-dear-holmes\n"
     ]
    },
    {
     "name": "stderr",
     "output_type": "stream",
     "text": [
      "\r",
      "  3%|▎         | 6/208 [00:16<09:17,  2.76s/it]"
     ]
    },
    {
     "name": "stdout",
     "output_type": "stream",
     "text": [
      "eye3\n"
     ]
    },
    {
     "name": "stderr",
     "output_type": "stream",
     "text": [
      "\r",
      "  3%|▎         | 7/208 [00:18<08:55,  2.66s/it]"
     ]
    },
    {
     "name": "stdout",
     "output_type": "stream",
     "text": [
      "eyeztm-by-zioneyez-hd-video-recording-glasses-for\n"
     ]
    },
    {
     "name": "stderr",
     "output_type": "stream",
     "text": [
      "\r",
      "  4%|▍         | 8/208 [00:21<09:12,  2.76s/it]"
     ]
    },
    {
     "name": "stdout",
     "output_type": "stream",
     "text": [
      "founders-playing-cards\n"
     ]
    },
    {
     "name": "stderr",
     "output_type": "stream",
     "text": [
      "\r",
      "  4%|▍         | 9/208 [00:24<09:25,  2.84s/it]"
     ]
    },
    {
     "name": "stdout",
     "output_type": "stream",
     "text": [
      "free-roll-machined-gamers-dice\n"
     ]
    },
    {
     "name": "stderr",
     "output_type": "stream",
     "text": [
      "\r",
      "  5%|▍         | 10/208 [00:27<09:01,  2.73s/it]"
     ]
    },
    {
     "name": "stdout",
     "output_type": "stream",
     "text": [
      "ifind-the-worlds-first-battery-free-item-locating\n"
     ]
    },
    {
     "name": "stderr",
     "output_type": "stream",
     "text": [
      "\r",
      "  5%|▌         | 11/208 [00:29<08:54,  2.71s/it]"
     ]
    },
    {
     "name": "stdout",
     "output_type": "stream",
     "text": [
      "kobe-red-100-japanese-beer-fed-kobe-beef-jerky\n"
     ]
    },
    {
     "name": "stderr",
     "output_type": "stream",
     "text": [
      "\r",
      "  6%|▌         | 12/208 [00:32<08:51,  2.71s/it]"
     ]
    },
    {
     "name": "stdout",
     "output_type": "stream",
     "text": [
      "last-year-5-vs-1-multiplayer-survival-horror\n"
     ]
    },
    {
     "name": "stderr",
     "output_type": "stream",
     "text": [
      "\r",
      "  6%|▋         | 13/208 [00:35<09:13,  2.84s/it]"
     ]
    },
    {
     "name": "stdout",
     "output_type": "stream",
     "text": [
      "learn-iphone-app-development\n"
     ]
    },
    {
     "name": "stderr",
     "output_type": "stream",
     "text": [
      "\r",
      "  7%|▋         | 14/208 [00:38<09:19,  2.89s/it]"
     ]
    },
    {
     "name": "stdout",
     "output_type": "stream",
     "text": [
      "mythic-the-story-of-gods-and-men\n"
     ]
    },
    {
     "name": "stderr",
     "output_type": "stream",
     "text": [
      "\r",
      "  7%|▋         | 15/208 [00:41<08:48,  2.74s/it]"
     ]
    },
    {
     "name": "stdout",
     "output_type": "stream",
     "text": [
      "ping-wallet-the-worlds-thinnest-smartest-wallet\n"
     ]
    },
    {
     "name": "stderr",
     "output_type": "stream",
     "text": [
      "\r",
      "  8%|▊         | 16/208 [00:43<08:36,  2.69s/it]"
     ]
    },
    {
     "name": "stdout",
     "output_type": "stream",
     "text": [
      "powerful-charger-multiple-devices-multiple-times-o\n"
     ]
    },
    {
     "name": "stderr",
     "output_type": "stream",
     "text": [
      "\r",
      "  8%|▊         | 17/208 [00:46<08:22,  2.63s/it]"
     ]
    },
    {
     "name": "stdout",
     "output_type": "stream",
     "text": [
      "scribble-a-revolutionary-pen-that-draws-in-any-col\n"
     ]
    },
    {
     "name": "stderr",
     "output_type": "stream",
     "text": [
      "\r",
      "  9%|▊         | 18/208 [00:48<08:17,  2.62s/it]"
     ]
    },
    {
     "name": "stdout",
     "output_type": "stream",
     "text": [
      "agent-the-worlds-smartest-watch\n"
     ]
    },
    {
     "name": "stderr",
     "output_type": "stream",
     "text": [
      "\r",
      "  9%|▉         | 19/208 [00:53<10:04,  3.20s/it]"
     ]
    },
    {
     "name": "stdout",
     "output_type": "stream",
     "text": [
      "cst-01-the-worlds-thinnest-watch\n"
     ]
    },
    {
     "name": "stderr",
     "output_type": "stream",
     "text": [
      "\r",
      " 10%|▉         | 20/208 [00:57<10:54,  3.48s/it]"
     ]
    },
    {
     "name": "stdout",
     "output_type": "stream",
     "text": [
      "the-official-otakon-super-beat-em-up-video-game\n"
     ]
    },
    {
     "name": "stderr",
     "output_type": "stream",
     "text": [
      "\r",
      " 10%|█         | 21/208 [00:59<09:59,  3.20s/it]"
     ]
    },
    {
     "name": "stdout",
     "output_type": "stream",
     "text": [
      "haunts-the-manse-macabre\n"
     ]
    },
    {
     "name": "stderr",
     "output_type": "stream",
     "text": [
      "\r",
      " 11%|█         | 22/208 [01:03<10:02,  3.24s/it]"
     ]
    },
    {
     "name": "stdout",
     "output_type": "stream",
     "text": [
      "lucitm-advanced-lucid-dream-inducer\n"
     ]
    },
    {
     "name": "stderr",
     "output_type": "stream",
     "text": [
      "\r",
      " 11%|█         | 23/208 [01:05<09:26,  3.06s/it]"
     ]
    },
    {
     "name": "stdout",
     "output_type": "stream",
     "text": [
      "zano-autonomous-intelligent-swarming-nano-drone\n"
     ]
    },
    {
     "name": "stderr",
     "output_type": "stream",
     "text": [
      "\r",
      " 12%|█▏        | 24/208 [01:09<09:37,  3.14s/it]"
     ]
    },
    {
     "name": "stdout",
     "output_type": "stream",
     "text": [
      "katalyka\n"
     ]
    },
    {
     "name": "stderr",
     "output_type": "stream",
     "text": [
      "\r",
      " 12%|█▏        | 25/208 [01:12<09:42,  3.19s/it]"
     ]
    },
    {
     "name": "stdout",
     "output_type": "stream",
     "text": [
      "yufu-the-stylus-perfected-pressure-sensitive-fine\n"
     ]
    },
    {
     "name": "stderr",
     "output_type": "stream",
     "text": [
      "\r",
      " 12%|█▎        | 26/208 [01:15<09:16,  3.06s/it]"
     ]
    },
    {
     "name": "stdout",
     "output_type": "stream",
     "text": [
      "iplifier-for-iphone-5\n"
     ]
    },
    {
     "name": "stderr",
     "output_type": "stream",
     "text": [
      "\r",
      " 13%|█▎        | 27/208 [01:17<08:52,  2.94s/it]"
     ]
    },
    {
     "name": "stdout",
     "output_type": "stream",
     "text": [
      "icontrolpad-2-the-open-source-controller\n"
     ]
    },
    {
     "name": "stderr",
     "output_type": "stream",
     "text": [
      "\r",
      " 13%|█▎        | 28/208 [01:20<08:53,  2.96s/it]"
     ]
    },
    {
     "name": "stdout",
     "output_type": "stream",
     "text": [
      "come-with-me-and-dance-in-the-fire\n"
     ]
    },
    {
     "name": "stderr",
     "output_type": "stream",
     "text": [
      "\r",
      " 14%|█▍        | 29/208 [01:23<08:31,  2.86s/it]"
     ]
    },
    {
     "name": "stdout",
     "output_type": "stream",
     "text": [
      "ilumi-bottle-the-new-way-to-keep-hydrated\n"
     ]
    },
    {
     "name": "stderr",
     "output_type": "stream",
     "text": [
      "\r",
      " 14%|█▍        | 30/208 [01:26<08:26,  2.84s/it]"
     ]
    },
    {
     "name": "stdout",
     "output_type": "stream",
     "text": [
      "spike-makes-the-iphone-as-easy-to-type-on-as-it-is\n"
     ]
    },
    {
     "name": "stderr",
     "output_type": "stream",
     "text": [
      "\r",
      " 15%|█▍        | 31/208 [01:29<08:47,  2.98s/it]"
     ]
    },
    {
     "name": "stdout",
     "output_type": "stream",
     "text": [
      "keyonpod-the-most-beautiful-key-management-system\n"
     ]
    },
    {
     "name": "stderr",
     "output_type": "stream",
     "text": [
      "\r",
      " 15%|█▌        | 32/208 [01:32<08:33,  2.92s/it]"
     ]
    },
    {
     "name": "stdout",
     "output_type": "stream",
     "text": [
      "crypteks-usbtm-encrypted-and-lockable-usb-solution\n"
     ]
    },
    {
     "name": "stderr",
     "output_type": "stream",
     "text": [
      "\r",
      " 16%|█▌        | 33/208 [01:35<08:39,  2.97s/it]"
     ]
    },
    {
     "name": "stdout",
     "output_type": "stream",
     "text": [
      "spixi-a-better-way-to-charge-and-sync-your-iphone\n"
     ]
    },
    {
     "name": "stderr",
     "output_type": "stream",
     "text": [
      "\r",
      " 16%|█▋        | 34/208 [01:38<08:29,  2.93s/it]"
     ]
    },
    {
     "name": "stdout",
     "output_type": "stream",
     "text": [
      "up-front-the-card-game\n"
     ]
    },
    {
     "name": "stderr",
     "output_type": "stream",
     "text": [
      "\r",
      " 17%|█▋        | 35/208 [01:42<09:04,  3.15s/it]"
     ]
    },
    {
     "name": "stdout",
     "output_type": "stream",
     "text": [
      "hydra-dice-necron\n"
     ]
    },
    {
     "name": "stderr",
     "output_type": "stream",
     "text": [
      "\r",
      " 17%|█▋        | 36/208 [01:45<09:07,  3.18s/it]"
     ]
    },
    {
     "name": "stdout",
     "output_type": "stream",
     "text": [
      "myidkey-passwords-at-the-tip-of-your-finger\n"
     ]
    },
    {
     "name": "stderr",
     "output_type": "stream",
     "text": [
      "\r",
      " 18%|█▊        | 37/208 [01:48<08:56,  3.13s/it]"
     ]
    },
    {
     "name": "stdout",
     "output_type": "stream",
     "text": [
      "grapple-knight\n"
     ]
    },
    {
     "name": "stderr",
     "output_type": "stream",
     "text": [
      "\r",
      " 18%|█▊        | 38/208 [01:51<08:50,  3.12s/it]"
     ]
    },
    {
     "name": "stdout",
     "output_type": "stream",
     "text": [
      "quantum-roleplaying-game-an-all-new-science-fantas\n"
     ]
    }
   ],
   "source": [
    "###\n",
    "import subprocess\n",
    "import pandas\n",
    "from tqdm import tqdm\n",
    "\n",
    "for idx, text in enumerate(tqdm(df_u['content'])):\n",
    "    print(df_u['ID'][idx])\n",
    "    \n",
    "    idx_id = df_u['ID'][idx]\n",
    "    \n",
    "    \n",
    "    #f = open('./b_comment_full/' + idx_id +'.txt', 'w', encoding='utf-8')\n",
    "    #f.write(text)\n",
    "    #f.close()\n",
    "\n",
    "    command = 'cd ..;java -mx600m -cp \"*:lib/*\" \\\n",
    "edu.stanford.nlp.ie.crf.CRFClassifier \\\n",
    "-loadClassifier classifiers/english.all.3class.distsim.crf.ser.gz \\\n",
    "-outputFormat tabbedEntities \\\n",
    "-textFile ./data/b_comment_full/' + idx_id + '.txt > ./data/b_comment_full_ner_count/' + idx_id + '_ner_.tsv'\n",
    "\n",
    "    output = subprocess.check_output([command], shell=True, encoding='utf-8')"
   ]
  },
  {
   "cell_type": "code",
   "execution_count": 29,
   "id": "84317bbb",
   "metadata": {},
   "outputs": [
    {
     "data": {
      "text/html": [
       "<div>\n",
       "<style scoped>\n",
       "    .dataframe tbody tr th:only-of-type {\n",
       "        vertical-align: middle;\n",
       "    }\n",
       "\n",
       "    .dataframe tbody tr th {\n",
       "        vertical-align: top;\n",
       "    }\n",
       "\n",
       "    .dataframe thead th {\n",
       "        text-align: right;\n",
       "    }\n",
       "</style>\n",
       "<table border=\"1\" class=\"dataframe\">\n",
       "  <thead>\n",
       "    <tr style=\"text-align: right;\">\n",
       "      <th></th>\n",
       "      <th>ID</th>\n",
       "      <th>success_or_fail</th>\n",
       "      <th>content</th>\n",
       "    </tr>\n",
       "  </thead>\n",
       "  <tbody>\n",
       "    <tr>\n",
       "      <th>0</th>\n",
       "      <td>ambiolight-a-one-touch-room-makeover</td>\n",
       "      <td>0</td>\n",
       "      <td></td>\n",
       "    </tr>\n",
       "    <tr>\n",
       "      <th>1</th>\n",
       "      <td>arc-island-a-brave-new-civilization</td>\n",
       "      <td>0</td>\n",
       "      <td></td>\n",
       "    </tr>\n",
       "    <tr>\n",
       "      <th>2</th>\n",
       "      <td>asylum-playing-cards</td>\n",
       "      <td>1</td>\n",
       "      <td>Only 25 Hours left to GO until production begi...</td>\n",
       "    </tr>\n",
       "    <tr>\n",
       "      <th>3</th>\n",
       "      <td>code-hero-a-game-that-teaches-you-to-make-game...</td>\n",
       "      <td>1</td>\n",
       "      <td>From the project coordinator: GOODBYES Hi ever...</td>\n",
       "    </tr>\n",
       "    <tr>\n",
       "      <th>4</th>\n",
       "      <td>dark-skyes-an-epic-brony-dating-sim</td>\n",
       "      <td>0</td>\n",
       "      <td>We've gotten a lot of messages from people ask...</td>\n",
       "    </tr>\n",
       "    <tr>\n",
       "      <th>...</th>\n",
       "      <td>...</td>\n",
       "      <td>...</td>\n",
       "      <td>...</td>\n",
       "    </tr>\n",
       "    <tr>\n",
       "      <th>203</th>\n",
       "      <td>junkyard-glass</td>\n",
       "      <td>1</td>\n",
       "      <td>JUNKYARD GLASS AKA RECUPERO IS NOW FEATURED IN...</td>\n",
       "    </tr>\n",
       "    <tr>\n",
       "      <th>204</th>\n",
       "      <td>handspun-single-sheep-breed-yarns</td>\n",
       "      <td>1</td>\n",
       "      <td>Ok so where are we with shipping? As of today ...</td>\n",
       "    </tr>\n",
       "    <tr>\n",
       "      <th>205</th>\n",
       "      <td>tgt-tight-a-new-kind-of-wallet</td>\n",
       "      <td>1</td>\n",
       "      <td>I hope everyone is having a great holiday seas...</td>\n",
       "    </tr>\n",
       "    <tr>\n",
       "      <th>206</th>\n",
       "      <td>picobrew-zymatic-the-automatic-beer-brewing-ap...</td>\n",
       "      <td>1</td>\n",
       "      <td>Hi Zymatic Backers! We know it’s been a while ...</td>\n",
       "    </tr>\n",
       "    <tr>\n",
       "      <th>207</th>\n",
       "      <td>the-espro-press</td>\n",
       "      <td>1</td>\n",
       "      <td>Hello to all our previous backers and widespre...</td>\n",
       "    </tr>\n",
       "  </tbody>\n",
       "</table>\n",
       "<p>208 rows × 3 columns</p>\n",
       "</div>"
      ],
      "text/plain": [
       "                                                    ID  success_or_fail  \\\n",
       "0                 ambiolight-a-one-touch-room-makeover                0   \n",
       "1                  arc-island-a-brave-new-civilization                0   \n",
       "2                                 asylum-playing-cards                1   \n",
       "3    code-hero-a-game-that-teaches-you-to-make-game...                1   \n",
       "4                  dark-skyes-an-epic-brony-dating-sim                0   \n",
       "..                                                 ...              ...   \n",
       "203                                     junkyard-glass                1   \n",
       "204                  handspun-single-sheep-breed-yarns                1   \n",
       "205                     tgt-tight-a-new-kind-of-wallet                1   \n",
       "206  picobrew-zymatic-the-automatic-beer-brewing-ap...                1   \n",
       "207                                    the-espro-press                1   \n",
       "\n",
       "                                               content  \n",
       "0                                                       \n",
       "1                                                       \n",
       "2    Only 25 Hours left to GO until production begi...  \n",
       "3    From the project coordinator: GOODBYES Hi ever...  \n",
       "4    We've gotten a lot of messages from people ask...  \n",
       "..                                                 ...  \n",
       "203  JUNKYARD GLASS AKA RECUPERO IS NOW FEATURED IN...  \n",
       "204  Ok so where are we with shipping? As of today ...  \n",
       "205  I hope everyone is having a great holiday seas...  \n",
       "206  Hi Zymatic Backers! We know it’s been a while ...  \n",
       "207  Hello to all our previous backers and widespre...  \n",
       "\n",
       "[208 rows x 3 columns]"
      ]
     },
     "execution_count": 29,
     "metadata": {},
     "output_type": "execute_result"
    }
   ],
   "source": [
    "df_u"
   ]
  },
  {
   "cell_type": "code",
   "execution_count": null,
   "id": "1fbe9729",
   "metadata": {},
   "outputs": [],
   "source": [
    "for idx, text in enumerate(tqdm(df_u['content'])):\n",
    "    print(df_u['ID'][idx])\n",
    "    \n",
    "    df_ner"
   ]
  }
 ],
 "metadata": {
  "kernelspec": {
   "display_name": "Python 3",
   "language": "python",
   "name": "python3"
  },
  "language_info": {
   "codemirror_mode": {
    "name": "ipython",
    "version": 3
   },
   "file_extension": ".py",
   "mimetype": "text/x-python",
   "name": "python",
   "nbconvert_exporter": "python",
   "pygments_lexer": "ipython3",
   "version": "3.6.1"
  }
 },
 "nbformat": 4,
 "nbformat_minor": 5
}
